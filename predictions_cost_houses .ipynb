{
 "cells": [
  {
   "cell_type": "markdown",
   "id": "GEqQaHzsZ_bA",
   "metadata": {
    "id": "GEqQaHzsZ_bA"
   },
   "source": [
    "## Предсказание стоимости жилья\n",
    "\n",
    "В проекте вам нужно обучить модель линейной регрессии на данных о жилье в Калифорнии в 1990 году. На основе данных нужно предсказать медианную стоимость дома в жилом массиве. Обучите модель и сделайте предсказания на тестовой выборке. Для оценки качества модели используйте метрики RMSE, MAE и R2."
   ]
  },
  {
   "cell_type": "markdown",
   "id": "53871372",
   "metadata": {
    "id": "53871372"
   },
   "source": [
    "# Подготовка данных"
   ]
  },
  {
   "cell_type": "code",
   "execution_count": 1,
   "id": "df92e3ec",
   "metadata": {
    "id": "df92e3ec"
   },
   "outputs": [],
   "source": [
    "import pandas as pd \n",
    "import numpy as np\n",
    "import seaborn as sns \n",
    "import matplotlib.pyplot as plt\n",
    "\n",
    "\n",
    "\n",
    "import pyspark\n",
    "from pyspark.sql import SparkSession\n",
    "from pyspark.sql.types import *\n",
    "import pyspark.sql.functions as F\n",
    "from pyspark.mllib.linalg import DenseMatrix, Vectors\n",
    "from pyspark.sql.functions import isnan, when, count, col\n",
    "\n",
    "\n",
    "from pyspark.ml.feature import StringIndexer, VectorAssembler, StandardScaler\n",
    "from pyspark.ml import Pipeline\n",
    "from pyspark.ml.feature import Imputer\n",
    "from pyspark.ml.stat import Correlation\n",
    "from pyspark.ml.evaluation import RegressionEvaluator\n",
    "from pyspark.ml.regression import LinearRegression\n",
    "from pyspark.ml.evaluation import BinaryClassificationEvaluator, MulticlassClassificationEvaluator\n",
    "\n",
    "pyspark_version = pyspark.__version__\n",
    "if int(pyspark_version[:1]) == 3:\n",
    "    from pyspark.ml.feature import OneHotEncoder    \n",
    "elif int(pyspark_version[:1]) == 2:\n",
    "    from pyspark.ml.feature import OneHotEncodeEstimator\n",
    "        \n",
    "RANDOM_SEED = 12345\n",
    "\n"
   ]
  },
  {
   "cell_type": "code",
   "execution_count": 2,
   "id": "c62fa4b5",
   "metadata": {},
   "outputs": [
    {
     "name": "stderr",
     "output_type": "stream",
     "text": [
      "                                                                                \r"
     ]
    }
   ],
   "source": [
    "# инициируем Spark сессию и загружаем данные\n",
    "spark = SparkSession.builder \\\n",
    "                    .master(\"local\") \\\n",
    "                    .appName(\"median_house_value - Linear Regression\") \\\n",
    "                    .getOrCreate()\n",
    "\n",
    "df = spark.read.option('header', 'true').csv('/datasets/housing.csv', inferSchema = True)\n"
   ]
  },
  {
   "cell_type": "code",
   "execution_count": 3,
   "id": "1bf96d08",
   "metadata": {},
   "outputs": [
    {
     "name": "stdout",
     "output_type": "stream",
     "text": [
      "root\n",
      " |-- longitude: double (nullable = true)\n",
      " |-- latitude: double (nullable = true)\n",
      " |-- housing_median_age: double (nullable = true)\n",
      " |-- total_rooms: double (nullable = true)\n",
      " |-- total_bedrooms: double (nullable = true)\n",
      " |-- population: double (nullable = true)\n",
      " |-- households: double (nullable = true)\n",
      " |-- median_income: double (nullable = true)\n",
      " |-- median_house_value: double (nullable = true)\n",
      " |-- ocean_proximity: string (nullable = true)\n",
      "\n",
      "+---------+--------+------------------+-----------+--------------+----------+----------+-------------+------------------+---------------+\n",
      "|longitude|latitude|housing_median_age|total_rooms|total_bedrooms|population|households|median_income|median_house_value|ocean_proximity|\n",
      "+---------+--------+------------------+-----------+--------------+----------+----------+-------------+------------------+---------------+\n",
      "|  -122.23|   37.88|              41.0|      880.0|         129.0|     322.0|     126.0|       8.3252|          452600.0|       NEAR BAY|\n",
      "|  -122.22|   37.86|              21.0|     7099.0|        1106.0|    2401.0|    1138.0|       8.3014|          358500.0|       NEAR BAY|\n",
      "|  -122.24|   37.85|              52.0|     1467.0|         190.0|     496.0|     177.0|       7.2574|          352100.0|       NEAR BAY|\n",
      "|  -122.25|   37.85|              52.0|     1274.0|         235.0|     558.0|     219.0|       5.6431|          341300.0|       NEAR BAY|\n",
      "|  -122.25|   37.85|              52.0|     1627.0|         280.0|     565.0|     259.0|       3.8462|          342200.0|       NEAR BAY|\n",
      "+---------+--------+------------------+-----------+--------------+----------+----------+-------------+------------------+---------------+\n",
      "only showing top 5 rows\n",
      "\n"
     ]
    }
   ],
   "source": [
    "# выводим схему данных\n",
    "df.printSchema()\n",
    "df.show(5)"
   ]
  },
  {
   "cell_type": "code",
   "execution_count": 4,
   "id": "e6b5ff51",
   "metadata": {},
   "outputs": [
    {
     "data": {
      "text/plain": [
       "20640"
      ]
     },
     "execution_count": 4,
     "metadata": {},
     "output_type": "execute_result"
    }
   ],
   "source": [
    "# количество строк данных\n",
    "df.select('median_house_value').count()"
   ]
  },
  {
   "cell_type": "code",
   "execution_count": 5,
   "id": "fb5e5dd9",
   "metadata": {},
   "outputs": [],
   "source": [
    "# удаляем ненужные столбцы \n",
    "df = df.drop('longitude', 'latitude') "
   ]
  },
  {
   "cell_type": "code",
   "execution_count": 6,
   "id": "c52419b0",
   "metadata": {
    "scrolled": true
   },
   "outputs": [
    {
     "name": "stdout",
     "output_type": "stream",
     "text": [
      "+------------------+-----------+--------------+----------+----------+-------------+------------------+---------------+\n",
      "|housing_median_age|total_rooms|total_bedrooms|population|households|median_income|median_house_value|ocean_proximity|\n",
      "+------------------+-----------+--------------+----------+----------+-------------+------------------+---------------+\n",
      "|                 0|          0|           207|         0|         0|            0|                 0|              0|\n",
      "+------------------+-----------+--------------+----------+----------+-------------+------------------+---------------+\n",
      "\n"
     ]
    },
    {
     "name": "stderr",
     "output_type": "stream",
     "text": [
      "                                                                                \r"
     ]
    }
   ],
   "source": [
    "# находим столбцы с пропущенными значениями\n",
    "df.select([count(when(isnan(c) | col(c).isNull(), c)).alias(c) for c in df.columns]).show()\n",
    "\n"
   ]
  },
  {
   "cell_type": "code",
   "execution_count": 12,
   "id": "05e7640b",
   "metadata": {},
   "outputs": [
    {
     "name": "stderr",
     "output_type": "stream",
     "text": [
      "                                                                                \r"
     ]
    },
    {
     "name": "stdout",
     "output_type": "stream",
     "text": [
      "14371 6269\n"
     ]
    },
    {
     "name": "stderr",
     "output_type": "stream",
     "text": [
      "                                                                                \r"
     ]
    }
   ],
   "source": [
    "# разделяем наш датасет на две части выборку для обучения и выборку для тестирования \n",
    "train_data, test_data = df.randomSplit([.7,.3], seed=RANDOM_SEED)\n",
    "print(train_data.count(), test_data.count())\n"
   ]
  },
  {
   "cell_type": "code",
   "execution_count": 13,
   "id": "f057168a",
   "metadata": {},
   "outputs": [],
   "source": [
    "# функция для замены медианным значением пропусков в обучающих данных\n",
    "def imputer_1(df):\n",
    "    median = ['total_bedrooms']\n",
    "    imputer = Imputer(\n",
    "        inputCols=median,\n",
    "        outputCols=[\"{}_with_median\".format(c) for c in median]\n",
    "    ).setStrategy(\"median\")\n",
    "    result = imputer.fit(df).transform(df)\n",
    "    result.show(5, truncate=False)\n",
    "    return result"
   ]
  },
  {
   "cell_type": "code",
   "execution_count": 14,
   "id": "6da44065",
   "metadata": {},
   "outputs": [
    {
     "name": "stderr",
     "output_type": "stream",
     "text": [
      "                                                                                \r"
     ]
    },
    {
     "name": "stdout",
     "output_type": "stream",
     "text": [
      "+------------------+-----------+--------------+----------+----------+-------------+------------------+---------------+--------------------------+\n",
      "|housing_median_age|total_rooms|total_bedrooms|population|households|median_income|median_house_value|ocean_proximity|total_bedrooms_with_median|\n",
      "+------------------+-----------+--------------+----------+----------+-------------+------------------+---------------+--------------------------+\n",
      "|1.0               |6.0        |2.0           |8.0       |2.0       |1.625        |55000.0           |INLAND         |2.0                       |\n",
      "|1.0               |83.0       |15.0          |32.0      |15.0      |4.875        |141700.0          |INLAND         |15.0                      |\n",
      "|1.0               |2062.0     |343.0         |872.0     |268.0     |5.2636       |191300.0          |INLAND         |343.0                     |\n",
      "|1.0               |2254.0     |328.0         |402.0     |112.0     |4.25         |189200.0          |INLAND         |328.0                     |\n",
      "|2.0               |96.0       |18.0          |30.0      |16.0      |5.3374       |47500.0           |INLAND         |18.0                      |\n",
      "+------------------+-----------+--------------+----------+----------+-------------+------------------+---------------+--------------------------+\n",
      "only showing top 5 rows\n",
      "\n"
     ]
    }
   ],
   "source": [
    "# вызываем функцию \n",
    "result = imputer_1(train_data)"
   ]
  },
  {
   "cell_type": "code",
   "execution_count": 15,
   "id": "9ab86c75",
   "metadata": {},
   "outputs": [],
   "source": [
    "# удаляем столбец с пропусками в обучающей выборке\n",
    "result = result.drop('total_bedrooms')"
   ]
  },
  {
   "cell_type": "code",
   "execution_count": 16,
   "id": "df3edacb",
   "metadata": {},
   "outputs": [
    {
     "name": "stdout",
     "output_type": "stream",
     "text": [
      "+------------------+-----------+----------+----------+-------------+------------------+---------------+--------------------------+\n",
      "|housing_median_age|total_rooms|population|households|median_income|median_house_value|ocean_proximity|total_bedrooms_with_median|\n",
      "+------------------+-----------+----------+----------+-------------+------------------+---------------+--------------------------+\n",
      "|                 0|          0|         0|         0|            0|                 0|              0|                         0|\n",
      "+------------------+-----------+----------+----------+-------------+------------------+---------------+--------------------------+\n",
      "\n"
     ]
    }
   ],
   "source": [
    "# проверяем пропуски в обучающих данных\n",
    "result.select([count(when(isnan(c) | col(c).isNull(), c)).alias(c) for c in result.columns]).show()\n",
    "\n"
   ]
  },
  {
   "cell_type": "code",
   "execution_count": 17,
   "id": "5048c1b5",
   "metadata": {},
   "outputs": [],
   "source": [
    "# функция для замены медианным значением пропусков в тестовых данных\n",
    "def imputer_2(df):\n",
    "    median = ['total_bedrooms']\n",
    "    imputer = Imputer(\n",
    "        inputCols=median,\n",
    "        outputCols=[\"{}_with_median\".format(c) for c in median]\n",
    "    ).setStrategy(\"median\")\n",
    "    result = imputer.fit(train_data)\n",
    "    result2 = result.transform(df)\n",
    "    result2.show(5, truncate=False)\n",
    "    return result2"
   ]
  },
  {
   "cell_type": "code",
   "execution_count": 18,
   "id": "ab832aa4",
   "metadata": {},
   "outputs": [
    {
     "name": "stdout",
     "output_type": "stream",
     "text": [
      "+------------------+-----------+--------------+----------+----------+-------------+------------------+---------------+--------------------------+\n",
      "|housing_median_age|total_rooms|total_bedrooms|population|households|median_income|median_house_value|ocean_proximity|total_bedrooms_with_median|\n",
      "+------------------+-----------+--------------+----------+----------+-------------+------------------+---------------+--------------------------+\n",
      "|2.0               |200.0      |20.0          |25.0      |9.0       |15.0001      |350000.0          |<1H OCEAN      |20.0                      |\n",
      "|2.0               |790.0      |135.0         |235.0     |87.0      |5.0862       |166500.0          |INLAND         |135.0                     |\n",
      "|2.0               |1205.0     |468.0         |577.0     |363.0     |3.6437       |275000.0          |NEAR BAY       |468.0                     |\n",
      "|2.0               |2239.0     |321.0         |766.0     |219.0     |5.75         |240200.0          |INLAND         |321.0                     |\n",
      "|2.0               |2411.0     |354.0         |703.0     |217.0     |7.8061       |331400.0          |<1H OCEAN      |354.0                     |\n",
      "+------------------+-----------+--------------+----------+----------+-------------+------------------+---------------+--------------------------+\n",
      "only showing top 5 rows\n",
      "\n"
     ]
    }
   ],
   "source": [
    "# вызываем функцию \n",
    "result2 = imputer_2(test_data)"
   ]
  },
  {
   "cell_type": "code",
   "execution_count": 19,
   "id": "e567388c",
   "metadata": {},
   "outputs": [],
   "source": [
    "# удаляем столбец с пропусками в тестовой выборке\n",
    "result2 = result2.drop('total_bedrooms')"
   ]
  },
  {
   "cell_type": "code",
   "execution_count": 20,
   "id": "a50b5cf1",
   "metadata": {},
   "outputs": [
    {
     "name": "stdout",
     "output_type": "stream",
     "text": [
      "+------------------+-----------+----------+----------+-------------+------------------+---------------+--------------------------+\n",
      "|housing_median_age|total_rooms|population|households|median_income|median_house_value|ocean_proximity|total_bedrooms_with_median|\n",
      "+------------------+-----------+----------+----------+-------------+------------------+---------------+--------------------------+\n",
      "|                 0|          0|         0|         0|            0|                 0|              0|                         0|\n",
      "+------------------+-----------+----------+----------+-------------+------------------+---------------+--------------------------+\n",
      "\n"
     ]
    }
   ],
   "source": [
    "# проверяем столбцы на пропущенные значения\n",
    "result2.select([count(when(isnan(c) | col(c).isNull(), c)).alias(c) for c in result2.columns]).show()\n",
    "\n"
   ]
  },
  {
   "cell_type": "code",
   "execution_count": 21,
   "id": "e8e136ac",
   "metadata": {},
   "outputs": [],
   "source": [
    "# возращаем данным знакомые имена\n",
    "train_data = result\n",
    "test_data = result2"
   ]
  },
  {
   "cell_type": "code",
   "execution_count": 22,
   "id": "164d32be",
   "metadata": {},
   "outputs": [],
   "source": [
    "# добавим столбцы нужные для модели\n",
    "train_data = train_data.withColumn('rooms_per_household', F.col('total_rooms') / F.col('households'))\n",
    "train_data = train_data.withColumn('population_in_household', F.col('population') / F.col('households'))\n",
    "train_data = train_data.withColumn('bedroom_index', F.col('total_bedrooms_with_median') / F.col('total_rooms'))\n",
    "\n",
    "test_data = test_data.withColumn('rooms_per_household', F.col('total_rooms') / F.col('households'))\n",
    "test_data = test_data.withColumn('population_in_household', F.col('population') / F.col('households'))\n",
    "test_data = test_data.withColumn('bedroom_index', F.col('total_bedrooms_with_median') / F.col('total_rooms'))\n",
    "\n"
   ]
  },
  {
   "cell_type": "code",
   "execution_count": 23,
   "id": "c6ca13a3",
   "metadata": {},
   "outputs": [
    {
     "data": {
      "text/html": [
       "<div>\n",
       "<style scoped>\n",
       "    .dataframe tbody tr th:only-of-type {\n",
       "        vertical-align: middle;\n",
       "    }\n",
       "\n",
       "    .dataframe tbody tr th {\n",
       "        vertical-align: top;\n",
       "    }\n",
       "\n",
       "    .dataframe thead th {\n",
       "        text-align: right;\n",
       "    }\n",
       "</style>\n",
       "<table border=\"1\" class=\"dataframe\">\n",
       "  <thead>\n",
       "    <tr style=\"text-align: right;\">\n",
       "      <th></th>\n",
       "      <th>housing_median_age</th>\n",
       "      <th>total_rooms</th>\n",
       "      <th>population</th>\n",
       "      <th>households</th>\n",
       "      <th>median_income</th>\n",
       "      <th>median_house_value</th>\n",
       "      <th>ocean_proximity</th>\n",
       "      <th>total_bedrooms_with_median</th>\n",
       "      <th>rooms_per_household</th>\n",
       "      <th>population_in_household</th>\n",
       "      <th>bedroom_index</th>\n",
       "    </tr>\n",
       "  </thead>\n",
       "  <tbody>\n",
       "    <tr>\n",
       "      <th>0</th>\n",
       "      <td>1.0</td>\n",
       "      <td>6.0</td>\n",
       "      <td>8.0</td>\n",
       "      <td>2.0</td>\n",
       "      <td>1.6250</td>\n",
       "      <td>55000.0</td>\n",
       "      <td>INLAND</td>\n",
       "      <td>2.0</td>\n",
       "      <td>3.000000</td>\n",
       "      <td>4.000000</td>\n",
       "      <td>0.333333</td>\n",
       "    </tr>\n",
       "    <tr>\n",
       "      <th>1</th>\n",
       "      <td>1.0</td>\n",
       "      <td>83.0</td>\n",
       "      <td>32.0</td>\n",
       "      <td>15.0</td>\n",
       "      <td>4.8750</td>\n",
       "      <td>141700.0</td>\n",
       "      <td>INLAND</td>\n",
       "      <td>15.0</td>\n",
       "      <td>5.533333</td>\n",
       "      <td>2.133333</td>\n",
       "      <td>0.180723</td>\n",
       "    </tr>\n",
       "    <tr>\n",
       "      <th>2</th>\n",
       "      <td>1.0</td>\n",
       "      <td>2062.0</td>\n",
       "      <td>872.0</td>\n",
       "      <td>268.0</td>\n",
       "      <td>5.2636</td>\n",
       "      <td>191300.0</td>\n",
       "      <td>INLAND</td>\n",
       "      <td>343.0</td>\n",
       "      <td>7.694030</td>\n",
       "      <td>3.253731</td>\n",
       "      <td>0.166343</td>\n",
       "    </tr>\n",
       "  </tbody>\n",
       "</table>\n",
       "</div>"
      ],
      "text/plain": [
       "   housing_median_age  total_rooms  population  households  median_income  \\\n",
       "0                 1.0          6.0         8.0         2.0         1.6250   \n",
       "1                 1.0         83.0        32.0        15.0         4.8750   \n",
       "2                 1.0       2062.0       872.0       268.0         5.2636   \n",
       "\n",
       "   median_house_value ocean_proximity  total_bedrooms_with_median  \\\n",
       "0             55000.0          INLAND                         2.0   \n",
       "1            141700.0          INLAND                        15.0   \n",
       "2            191300.0          INLAND                       343.0   \n",
       "\n",
       "   rooms_per_household  population_in_household  bedroom_index  \n",
       "0             3.000000                 4.000000       0.333333  \n",
       "1             5.533333                 2.133333       0.180723  \n",
       "2             7.694030                 3.253731       0.166343  "
      ]
     },
     "execution_count": 23,
     "metadata": {},
     "output_type": "execute_result"
    }
   ],
   "source": [
    "train_data.limit(3).toPandas()"
   ]
  },
  {
   "cell_type": "code",
   "execution_count": 24,
   "id": "f95a8e9e",
   "metadata": {},
   "outputs": [],
   "source": [
    "# удаляем категорийный столбец для вывода корреляции коэффициента Пирсона\n",
    "df2 = train_data.drop('ocean_proximity')\n"
   ]
  },
  {
   "cell_type": "code",
   "execution_count": 25,
   "id": "80a83cf8",
   "metadata": {},
   "outputs": [],
   "source": [
    "# конвертируем в вектор числовые столбцы\n",
    "vector_col = \"corr_features\"\n",
    "assembler = VectorAssembler(inputCols=df2.columns, outputCol=vector_col)\n",
    "df_vector = assembler.transform(df2).select(vector_col)\n"
   ]
  },
  {
   "cell_type": "code",
   "execution_count": 26,
   "id": "d269a809",
   "metadata": {},
   "outputs": [
    {
     "name": "stderr",
     "output_type": "stream",
     "text": [
      "23/05/16 17:05:43 WARN BLAS: Failed to load implementation from: com.github.fommil.netlib.NativeSystemBLAS\n",
      "23/05/16 17:05:43 WARN BLAS: Failed to load implementation from: com.github.fommil.netlib.NativeRefBLAS\n",
      "                                                                                \r"
     ]
    },
    {
     "data": {
      "text/plain": [
       "<AxesSubplot:>"
      ]
     },
     "execution_count": 26,
     "metadata": {},
     "output_type": "execute_result"
    },
    {
     "data": {
      "image/png": "[encoded data removed]",
      "text/plain": [
       "<Figure size 1152x360 with 2 Axes>"
      ]
     },
     "metadata": {
      "needs_background": "light"
     },
     "output_type": "display_data"
    }
   ],
   "source": [
    "# визуализируем матрицу корреляций коэффициента Пирсона\n",
    "matrix = Correlation.corr(df_vector, \"corr_features\").collect()[0][0] \n",
    "corr_matrix = matrix.toArray().tolist() \n",
    "corr_matrix_df = pd.DataFrame(data=corr_matrix, columns =df2.columns, index=df2.columns) \n",
    "\n",
    "plt.figure(figsize=(16,5))  \n",
    "sns.heatmap(corr_matrix_df, \n",
    "            xticklabels=corr_matrix_df.columns.values,\n",
    "            yticklabels=corr_matrix_df.columns.values,  cmap=\"Greens\", annot=True)\n",
    "\n",
    "# corr_matrix_df.style.background_gradient(cmap='coolwarm').set_precision(2)\n",
    "\n"
   ]
  },
  {
   "cell_type": "code",
   "execution_count": 27,
   "id": "c2842e2e",
   "metadata": {},
   "outputs": [],
   "source": [
    "# оставим столбцы с корреляцией к стобцу 'median_house_value' более 0.1 \n",
    "train_data = train_data.drop(\n",
    "    'population', 'households', 'total_bedrooms_with_median', 'population_in_household')\n",
    "\n",
    "test_data = test_data.drop(\n",
    "    'population', 'households', 'total_bedrooms_with_median', 'population_in_household')\n",
    "\n"
   ]
  },
  {
   "cell_type": "code",
   "execution_count": 28,
   "id": "1de6de67",
   "metadata": {},
   "outputs": [
    {
     "name": "stdout",
     "output_type": "stream",
     "text": [
      "+------------------+-----------+-------------+------------------+---------------+-------------------+-------------------+\n",
      "|housing_median_age|total_rooms|median_income|median_house_value|ocean_proximity|rooms_per_household|      bedroom_index|\n",
      "+------------------+-----------+-------------+------------------+---------------+-------------------+-------------------+\n",
      "|               1.0|        6.0|        1.625|           55000.0|         INLAND|                3.0| 0.3333333333333333|\n",
      "|               1.0|       83.0|        4.875|          141700.0|         INLAND|  5.533333333333333|0.18072289156626506|\n",
      "|               1.0|     2062.0|       5.2636|          191300.0|         INLAND| 7.6940298507462686|0.16634335596508246|\n",
      "+------------------+-----------+-------------+------------------+---------------+-------------------+-------------------+\n",
      "only showing top 3 rows\n",
      "\n",
      "root\n",
      " |-- housing_median_age: double (nullable = true)\n",
      " |-- total_rooms: double (nullable = true)\n",
      " |-- median_income: double (nullable = true)\n",
      " |-- median_house_value: double (nullable = true)\n",
      " |-- ocean_proximity: string (nullable = true)\n",
      " |-- rooms_per_household: double (nullable = true)\n",
      " |-- bedroom_index: double (nullable = true)\n",
      "\n"
     ]
    }
   ],
   "source": [
    "train_data.show(3)\n",
    "train_data.printSchema()"
   ]
  },
  {
   "cell_type": "code",
   "execution_count": 29,
   "id": "a8be2c01",
   "metadata": {},
   "outputs": [],
   "source": [
    "# median_house_value - целевая переменная\n",
    "target = \"median_house_value\" \n",
    "stages = []\n",
    "\n",
    "# предобработка категорийного  категориальной колонки в бинарные вектора благодаря строковому преобразователю\n",
    "categoricalColumns = ['ocean_proximity']\n",
    "for categoricalCol in categoricalColumns:\n",
    "    \n",
    "    stringIndexer = StringIndexer(inputCol = categoricalCol,\n",
    "                                 outputCol = 'ocean_proximity_Ind', handleInvalid = 'keep')\n",
    "    \n",
    "    encoder = OneHotEncoder(inputCol='ocean_proximity_Ind',\n",
    "                            outputCol='ocean_proximity_ohe')\n",
    "        \n",
    "    stages += [stringIndexer, encoder]\n",
    "    \n",
    "    \n",
    "numericColumns = [\"housing_median_age\", \"total_rooms\",\n",
    "                   \"median_income\", \"rooms_per_household\", \"bedroom_index\"]\n",
    "\n",
    "all_features = ['ocean_proximity_ohe'] + numericColumns\n",
    "\n",
    "# преобразование нескольких колонок в вектор-колонку - признаки\n",
    "final_assembler = VectorAssembler(inputCols=all_features, outputCol=\"features\") \n",
    "\n",
    "stages += [final_assembler]\n",
    "\n"
   ]
  },
  {
   "cell_type": "markdown",
   "id": "9f0a82f3",
   "metadata": {
    "id": "9f0a82f3"
   },
   "source": [
    "# Обучение моделей"
   ]
  },
  {
   "cell_type": "code",
   "execution_count": 30,
   "id": "9e0f40f5",
   "metadata": {},
   "outputs": [],
   "source": [
    "# обучение модели линейной регрессии\n",
    "lr = LinearRegression(\n",
    "    labelCol=target, featuresCol='features', maxIter=10, regParam=0.3, elasticNetParam=0.8)\n",
    "stages += [lr]\n"
   ]
  },
  {
   "cell_type": "code",
   "execution_count": 31,
   "id": "03933fc5",
   "metadata": {},
   "outputs": [],
   "source": [
    "# задаем план stages для обучения модели \n",
    "pipeline = Pipeline(stages=stages)"
   ]
  },
  {
   "cell_type": "code",
   "execution_count": 32,
   "id": "3bdcbc46",
   "metadata": {},
   "outputs": [
    {
     "name": "stderr",
     "output_type": "stream",
     "text": [
      "                                                                                \r"
     ]
    }
   ],
   "source": [
    "# тренируем модель на обучающей выборке\n",
    "model = pipeline.fit(train_data)\n"
   ]
  },
  {
   "cell_type": "code",
   "execution_count": 33,
   "id": "27fb8ead",
   "metadata": {},
   "outputs": [],
   "source": [
    "# делаем предсказания на тестовой выборке\n",
    "predictions = model.transform(test_data)"
   ]
  },
  {
   "cell_type": "code",
   "execution_count": 34,
   "id": "ad915019",
   "metadata": {},
   "outputs": [
    {
     "name": "stdout",
     "output_type": "stream",
     "text": [
      "+------------------+------------------+\n",
      "|median_house_value|        prediction|\n",
      "+------------------+------------------+\n",
      "|          350000.0| 638710.6603320944|\n",
      "|          166500.0|166564.61781760005|\n",
      "|          275000.0| 234070.6422985208|\n",
      "|          240200.0|194187.12647185745|\n",
      "|          331400.0| 345811.0246344701|\n",
      "|          158500.0|221153.52221256084|\n",
      "|          214500.0|208201.50750609682|\n",
      "|          144400.0|156855.86561019687|\n",
      "|          181000.0|228797.77616813596|\n",
      "|          167800.0|241344.89402662052|\n",
      "|          111300.0| 141173.3529489548|\n",
      "|          175000.0|294126.35447499575|\n",
      "|           92500.0|115662.27897039699|\n",
      "|          271400.0|282968.01069104124|\n",
      "|          206300.0|193669.94525570588|\n",
      "|          467600.0|406440.27333450667|\n",
      "|          136400.0| 225627.5730786509|\n",
      "|          251800.0|220760.65028819148|\n",
      "|          191900.0| 197802.6210390813|\n",
      "|          140800.0| 159948.8462718827|\n",
      "+------------------+------------------+\n",
      "only showing top 20 rows\n",
      "\n"
     ]
    }
   ],
   "source": [
    "# выводим предсказания модели\n",
    "predictedLabes = predictions.select(\"median_house_value\", \"prediction\")\n",
    "predictedLabes.show() "
   ]
  },
  {
   "cell_type": "code",
   "execution_count": 35,
   "id": "72e518a8",
   "metadata": {},
   "outputs": [
    {
     "name": "stdout",
     "output_type": "stream",
     "text": [
      "RMSE: 73713.406219\n",
      "MAE: 52746.654759\n",
      "r2: 0.596710\n"
     ]
    }
   ],
   "source": [
    "# оценим качество модели по всем данным по заданным метрикам\n",
    "evaluator = RegressionEvaluator(labelCol='median_house_value',\n",
    "                             predictionCol='prediction' , metricName='rmse')\n",
    "predicted_df = model.transform(test_data)\n",
    "rmse= evaluator.evaluate(predicted_df)\n",
    "\n",
    "evaluator = RegressionEvaluator(labelCol='median_house_value',\n",
    "                             predictionCol='prediction' , metricName='mae')\n",
    "predicted_df = model.transform(test_data)\n",
    "mae = evaluator.evaluate(predicted_df)\n",
    "\n",
    "evaluator = RegressionEvaluator(labelCol='median_house_value',\n",
    "                             predictionCol='prediction' , metricName='r2')\n",
    "predicted_df = model.transform(test_data)\n",
    "r2 = evaluator.evaluate(predicted_df)\n",
    "\n",
    "print(\"RMSE: %f\" % rmse)\n",
    "print(\"MAE: %f\" % mae)\n",
    "print(\"r2: %f\" % r2)\n",
    "\n"
   ]
  },
  {
   "cell_type": "code",
   "execution_count": 36,
   "id": "f1a8b840",
   "metadata": {},
   "outputs": [],
   "source": [
    "# median_house_value - целевая переменная\n",
    "target = \"median_house_value\" \n",
    "stages = []\n",
    "\n",
    "\n",
    "numericColumns = [\"housing_median_age\", \"total_rooms\",\n",
    "                   \"median_income\", \"rooms_per_household\", \"bedroom_index\"]\n",
    "\n",
    "all_features = numericColumns\n",
    "\n",
    "# преобразование нескольких колонок в вектор-колонку - признаки\n",
    "final_assembler = VectorAssembler(inputCols=all_features, outputCol=\"features2\") \n",
    "\n",
    "stages += [final_assembler]\n",
    "\n"
   ]
  },
  {
   "cell_type": "code",
   "execution_count": 37,
   "id": "a795af51",
   "metadata": {},
   "outputs": [],
   "source": [
    "# обучение модели линейной регрессии без категориальных переменных\n",
    "lr2 = LinearRegression(\n",
    "    labelCol=target, featuresCol='features2', maxIter=10, regParam=0.3, elasticNetParam=0.8)\n",
    "stages += [lr2]\n"
   ]
  },
  {
   "cell_type": "code",
   "execution_count": 38,
   "id": "95c65664",
   "metadata": {},
   "outputs": [],
   "source": [
    "# задаем план stages для обучения модели \n",
    "pipeline = Pipeline(stages=stages)"
   ]
  },
  {
   "cell_type": "code",
   "execution_count": 39,
   "id": "5daad5d8",
   "metadata": {},
   "outputs": [],
   "source": [
    "# тренируем модель на обучающей выборке\n",
    "model2 = pipeline.fit(train_data)\n"
   ]
  },
  {
   "cell_type": "code",
   "execution_count": 40,
   "id": "44d357a9",
   "metadata": {},
   "outputs": [],
   "source": [
    "# делаем предсказания на тестовой выборке\n",
    "predictions = model2.transform(test_data)"
   ]
  },
  {
   "cell_type": "code",
   "execution_count": 41,
   "id": "aa8ae92e",
   "metadata": {},
   "outputs": [
    {
     "name": "stdout",
     "output_type": "stream",
     "text": [
      "+------------------+------------------+\n",
      "|median_house_value|        prediction|\n",
      "+------------------+------------------+\n",
      "|          350000.0| 635546.6391739781|\n",
      "|          166500.0|188470.94452791393|\n",
      "|          275000.0|211087.99529022397|\n",
      "|          240200.0|215897.74827306625|\n",
      "|          331400.0|319723.71073502034|\n",
      "|          158500.0| 168998.5139363596|\n",
      "|          214500.0|153083.07391523826|\n",
      "|          144400.0|180947.59963920934|\n",
      "|          181000.0| 264551.8711529937|\n",
      "|          167800.0| 219115.4291164549|\n",
      "|          111300.0|165853.92828567262|\n",
      "|          175000.0|258983.27227455942|\n",
      "|           92500.0|149742.07445821306|\n",
      "|          271400.0| 267595.9244995236|\n",
      "|          206300.0|226485.34092075587|\n",
      "|          467600.0|380886.29936252616|\n",
      "|          136400.0|191328.23225499067|\n",
      "|          251800.0|258280.18255952286|\n",
      "|          191900.0|228773.56493036024|\n",
      "|          140800.0|191992.79696068948|\n",
      "+------------------+------------------+\n",
      "only showing top 20 rows\n",
      "\n"
     ]
    }
   ],
   "source": [
    "# выводим предсказания модели без категориальных переменных\n",
    "predictedLabes = predictions.select(\"median_house_value\", \"prediction\")\n",
    "predictedLabes.show() "
   ]
  },
  {
   "cell_type": "code",
   "execution_count": 42,
   "id": "1935cfef",
   "metadata": {},
   "outputs": [
    {
     "name": "stdout",
     "output_type": "stream",
     "text": [
      "RMSE: 81097.491594\n",
      "MAE: 58068.517936\n",
      "r2: 0.511866\n"
     ]
    }
   ],
   "source": [
    "# оценим качество модели без категориальных переменных по заданным метрикам\n",
    "evaluator = RegressionEvaluator(labelCol='median_house_value',\n",
    "                             predictionCol='prediction' , metricName='rmse')\n",
    "predicted_df = model2.transform(test_data)\n",
    "rmse2= evaluator.evaluate(predicted_df)\n",
    "\n",
    "evaluator = RegressionEvaluator(labelCol='median_house_value',\n",
    "                             predictionCol='prediction' , metricName='mae')\n",
    "predicted_df = model2.transform(test_data)\n",
    "mae2 = evaluator.evaluate(predicted_df)\n",
    "\n",
    "evaluator = RegressionEvaluator(labelCol='median_house_value',\n",
    "                             predictionCol='prediction' , metricName='r2')\n",
    "predicted_df = model2.transform(test_data)\n",
    "r2_2 = evaluator.evaluate(predicted_df)\n",
    "\n",
    "print(\"RMSE: %f\" % rmse2)\n",
    "print(\"MAE: %f\" % mae2)\n",
    "print(\"r2: %f\" % r2_2)\n",
    "\n"
   ]
  },
  {
   "cell_type": "markdown",
   "id": "757fd103",
   "metadata": {
    "id": "757fd103"
   },
   "source": [
    "# Анализ результатов"
   ]
  },
  {
   "cell_type": "code",
   "execution_count": 43,
   "id": "51cee361",
   "metadata": {},
   "outputs": [
    {
     "name": "stdout",
     "output_type": "stream",
     "text": [
      "Метрики оценки модели с категориальными переменными: \n",
      "RMSE: 73713.406219\n",
      "MAE: 52746.654759\n",
      "r2: 0.596710\n"
     ]
    }
   ],
   "source": [
    "print(\"Метрики оценки модели с категориальными переменными: \")\n",
    "print(\"RMSE: %f\" % rmse)\n",
    "print(\"MAE: %f\" % mae)\n",
    "print(\"r2: %f\" % r2)"
   ]
  },
  {
   "cell_type": "code",
   "execution_count": 44,
   "id": "82516156",
   "metadata": {},
   "outputs": [
    {
     "name": "stdout",
     "output_type": "stream",
     "text": [
      "Метрики оценки модели без категориальных переменных: \n",
      "RMSE: 81097.491594\n",
      "MAE: 58068.517936\n",
      "r2: 0.511866\n"
     ]
    }
   ],
   "source": [
    "print(\"Метрики оценки модели без категориальных переменных: \")\n",
    "print(\"RMSE: %f\" % rmse2)\n",
    "print(\"MAE: %f\" % mae2)\n",
    "print(\"r2: %f\" % r2_2)"
   ]
  },
  {
   "cell_type": "code",
   "execution_count": 45,
   "id": "3bd87f40",
   "metadata": {},
   "outputs": [],
   "source": [
    "spark.stop()"
   ]
  },
  {
   "cell_type": "markdown",
   "id": "07789497",
   "metadata": {},
   "source": [
    "### Вывод"
   ]
  },
  {
   "cell_type": "markdown",
   "id": "c85893a7",
   "metadata": {},
   "source": [
    "По результату исследования модель с категориальными переменными показала лучшие показатели, хотя модель далека от идеальной. При выборе из двух модели, выберем модель с категориальными переменными."
   ]
  }
 ],
 "metadata": {
  "ExecuteTimeLog": [
   {
    "duration": 23779,
    "start_time": "2023-05-10T19:52:14.651Z"
   },
   {
    "duration": 14,
    "start_time": "2023-05-10T19:53:28.810Z"
   },
   {
    "duration": 632,
    "start_time": "2023-05-10T19:58:19.171Z"
   },
   {
    "duration": 1000,
    "start_time": "2023-05-10T20:02:32.904Z"
   },
   {
    "duration": 52,
    "start_time": "2023-05-10T20:03:24.605Z"
   },
   {
    "duration": 5,
    "start_time": "2023-05-10T20:06:04.620Z"
   },
   {
    "duration": 48,
    "start_time": "2023-05-10T20:06:10.401Z"
   },
   {
    "duration": 67,
    "start_time": "2023-05-10T20:06:56.521Z"
   },
   {
    "duration": 7,
    "start_time": "2023-05-10T20:07:25.370Z"
   },
   {
    "duration": 22268,
    "start_time": "2023-05-10T20:07:29.537Z"
   },
   {
    "duration": 701,
    "start_time": "2023-05-10T20:07:51.808Z"
   },
   {
    "duration": 1131,
    "start_time": "2023-05-10T20:07:52.510Z"
   },
   {
    "duration": 13,
    "start_time": "2023-05-10T20:07:53.694Z"
   },
   {
    "duration": 6,
    "start_time": "2023-05-10T20:07:53.709Z"
   },
   {
    "duration": 89,
    "start_time": "2023-05-10T20:07:53.716Z"
   },
   {
    "duration": 12,
    "start_time": "2023-05-10T20:09:28.478Z"
   },
   {
    "duration": 80,
    "start_time": "2023-05-10T20:12:02.204Z"
   },
   {
    "duration": 15,
    "start_time": "2023-05-10T20:12:08.002Z"
   },
   {
    "duration": 13,
    "start_time": "2023-05-10T20:12:38.564Z"
   },
   {
    "duration": 23186,
    "start_time": "2023-05-10T20:12:44.724Z"
   },
   {
    "duration": 701,
    "start_time": "2023-05-10T20:13:07.912Z"
   },
   {
    "duration": 1112,
    "start_time": "2023-05-10T20:13:08.615Z"
   },
   {
    "duration": 68,
    "start_time": "2023-05-10T20:13:09.729Z"
   },
   {
    "duration": 11,
    "start_time": "2023-05-10T20:13:09.799Z"
   },
   {
    "duration": 11,
    "start_time": "2023-05-10T20:13:09.811Z"
   },
   {
    "duration": 91,
    "start_time": "2023-05-10T20:13:09.823Z"
   },
   {
    "duration": 23819,
    "start_time": "2023-05-10T20:13:46.311Z"
   },
   {
    "duration": 782,
    "start_time": "2023-05-10T20:14:10.132Z"
   },
   {
    "duration": 1234,
    "start_time": "2023-05-10T20:14:10.916Z"
   },
   {
    "duration": 6,
    "start_time": "2023-05-10T20:14:12.151Z"
   },
   {
    "duration": 12,
    "start_time": "2023-05-10T20:14:12.198Z"
   },
   {
    "duration": 12,
    "start_time": "2023-05-10T20:14:12.211Z"
   },
   {
    "duration": 11,
    "start_time": "2023-05-10T20:14:12.225Z"
   },
   {
    "duration": 33,
    "start_time": "2023-05-10T20:14:12.238Z"
   },
   {
    "duration": 23180,
    "start_time": "2023-05-10T20:22:06.055Z"
   },
   {
    "duration": 777,
    "start_time": "2023-05-10T20:22:29.237Z"
   },
   {
    "duration": 1096,
    "start_time": "2023-05-10T20:22:30.016Z"
   },
   {
    "duration": 7,
    "start_time": "2023-05-10T20:22:31.113Z"
   },
   {
    "duration": 89,
    "start_time": "2023-05-10T20:22:31.121Z"
   },
   {
    "duration": 23,
    "start_time": "2023-05-10T20:22:31.211Z"
   },
   {
    "duration": 67,
    "start_time": "2023-05-10T20:22:31.236Z"
   },
   {
    "duration": 97,
    "start_time": "2023-05-10T20:22:31.305Z"
   },
   {
    "duration": 66,
    "start_time": "2023-05-10T20:32:59.198Z"
   },
   {
    "duration": 4,
    "start_time": "2023-05-10T20:34:20.033Z"
   },
   {
    "duration": 5,
    "start_time": "2023-05-10T20:36:09.402Z"
   },
   {
    "duration": 13,
    "start_time": "2023-05-10T20:36:10.067Z"
   },
   {
    "duration": 21,
    "start_time": "2023-05-10T20:39:34.441Z"
   },
   {
    "duration": 47,
    "start_time": "2023-05-10T20:42:08.360Z"
   },
   {
    "duration": 22703,
    "start_time": "2023-05-10T20:42:14.291Z"
   },
   {
    "duration": 619,
    "start_time": "2023-05-10T20:42:36.997Z"
   },
   {
    "duration": 1039,
    "start_time": "2023-05-10T20:42:37.618Z"
   },
   {
    "duration": 38,
    "start_time": "2023-05-10T20:42:38.658Z"
   },
   {
    "duration": 23,
    "start_time": "2023-05-10T20:42:38.698Z"
   },
   {
    "duration": 11,
    "start_time": "2023-05-10T20:42:38.722Z"
   },
   {
    "duration": 9,
    "start_time": "2023-05-10T20:42:38.734Z"
   },
   {
    "duration": 30,
    "start_time": "2023-05-10T20:42:38.745Z"
   },
   {
    "duration": 6,
    "start_time": "2023-05-10T20:42:38.793Z"
   },
   {
    "duration": 12,
    "start_time": "2023-05-10T20:42:38.801Z"
   },
   {
    "duration": 43,
    "start_time": "2023-05-10T20:42:38.815Z"
   },
   {
    "duration": 24,
    "start_time": "2023-05-10T20:42:52.095Z"
   },
   {
    "duration": 6,
    "start_time": "2023-05-10T20:47:21.581Z"
   },
   {
    "duration": 14,
    "start_time": "2023-05-10T20:47:28.298Z"
   },
   {
    "duration": 22167,
    "start_time": "2023-05-10T20:51:17.956Z"
   },
   {
    "duration": 684,
    "start_time": "2023-05-10T20:51:40.125Z"
   },
   {
    "duration": 1183,
    "start_time": "2023-05-10T20:51:40.811Z"
   },
   {
    "duration": 6,
    "start_time": "2023-05-10T20:51:41.996Z"
   },
   {
    "duration": 17,
    "start_time": "2023-05-10T20:51:42.004Z"
   },
   {
    "duration": 10,
    "start_time": "2023-05-10T20:51:42.023Z"
   },
   {
    "duration": 12,
    "start_time": "2023-05-10T20:51:42.093Z"
   },
   {
    "duration": 88,
    "start_time": "2023-05-10T20:51:42.107Z"
   },
   {
    "duration": 5,
    "start_time": "2023-05-10T20:51:42.197Z"
   },
   {
    "duration": 13,
    "start_time": "2023-05-10T20:51:42.204Z"
   },
   {
    "duration": 85,
    "start_time": "2023-05-10T20:51:42.219Z"
   },
   {
    "duration": 5,
    "start_time": "2023-05-10T20:51:42.307Z"
   },
   {
    "duration": 16,
    "start_time": "2023-05-10T20:51:42.314Z"
   },
   {
    "duration": 137,
    "start_time": "2023-05-10T21:06:30.993Z"
   },
   {
    "duration": 608,
    "start_time": "2023-05-10T21:10:14.298Z"
   },
   {
    "duration": 83,
    "start_time": "2023-05-10T21:10:24.382Z"
   },
   {
    "duration": 3,
    "start_time": "2023-05-10T21:11:44.715Z"
   },
   {
    "duration": 86,
    "start_time": "2023-05-10T21:13:18.915Z"
   },
   {
    "duration": 4,
    "start_time": "2023-05-11T07:30:55.980Z"
   },
   {
    "duration": 3,
    "start_time": "2023-05-11T07:30:56.840Z"
   },
   {
    "duration": 3467,
    "start_time": "2023-05-11T07:30:58.540Z"
   },
   {
    "duration": 94,
    "start_time": "2023-05-11T07:31:10.614Z"
   },
   {
    "duration": 3,
    "start_time": "2023-05-11T07:31:20.869Z"
   },
   {
    "duration": 259,
    "start_time": "2023-05-11T07:31:21.486Z"
   },
   {
    "duration": 25806,
    "start_time": "2023-05-11T07:31:31.789Z"
   },
   {
    "duration": 798,
    "start_time": "2023-05-11T07:31:57.598Z"
   },
   {
    "duration": 1336,
    "start_time": "2023-05-11T07:31:58.399Z"
   },
   {
    "duration": 8,
    "start_time": "2023-05-11T07:31:59.737Z"
   },
   {
    "duration": 20,
    "start_time": "2023-05-11T07:31:59.748Z"
   },
   {
    "duration": 14,
    "start_time": "2023-05-11T07:31:59.793Z"
   },
   {
    "duration": 15,
    "start_time": "2023-05-11T07:31:59.809Z"
   },
   {
    "duration": 33,
    "start_time": "2023-05-11T07:31:59.826Z"
   },
   {
    "duration": 33,
    "start_time": "2023-05-11T07:31:59.861Z"
   },
   {
    "duration": 14,
    "start_time": "2023-05-11T07:31:59.896Z"
   },
   {
    "duration": 33,
    "start_time": "2023-05-11T07:31:59.912Z"
   },
   {
    "duration": 6,
    "start_time": "2023-05-11T07:31:59.947Z"
   },
   {
    "duration": 16,
    "start_time": "2023-05-11T07:31:59.955Z"
   },
   {
    "duration": 651,
    "start_time": "2023-05-11T07:31:59.994Z"
   },
   {
    "duration": 48,
    "start_time": "2023-05-11T07:32:00.647Z"
   },
   {
    "duration": 6,
    "start_time": "2023-05-11T07:32:00.697Z"
   },
   {
    "duration": 4594,
    "start_time": "2023-05-11T07:32:00.705Z"
   },
   {
    "duration": 1020,
    "start_time": "2023-05-11T07:32:05.301Z"
   },
   {
    "duration": 779,
    "start_time": "2023-05-11T07:36:26.724Z"
   },
   {
    "duration": 44,
    "start_time": "2023-05-11T07:37:50.344Z"
   },
   {
    "duration": 29,
    "start_time": "2023-05-11T07:43:14.660Z"
   },
   {
    "duration": 1199,
    "start_time": "2023-05-11T07:46:03.232Z"
   },
   {
    "duration": 5,
    "start_time": "2023-05-11T07:46:18.643Z"
   },
   {
    "duration": 615,
    "start_time": "2023-05-11T07:48:02.593Z"
   },
   {
    "duration": 3175,
    "start_time": "2023-05-11T07:50:52.838Z"
   },
   {
    "duration": 1711,
    "start_time": "2023-05-11T07:51:12.624Z"
   },
   {
    "duration": 25365,
    "start_time": "2023-05-11T08:12:09.935Z"
   },
   {
    "duration": 796,
    "start_time": "2023-05-11T08:12:35.303Z"
   },
   {
    "duration": 1424,
    "start_time": "2023-05-11T08:12:36.100Z"
   },
   {
    "duration": 8,
    "start_time": "2023-05-11T08:12:37.526Z"
   },
   {
    "duration": 86,
    "start_time": "2023-05-11T08:12:37.536Z"
   },
   {
    "duration": 11,
    "start_time": "2023-05-11T08:12:37.625Z"
   },
   {
    "duration": 16,
    "start_time": "2023-05-11T08:12:37.695Z"
   },
   {
    "duration": 92,
    "start_time": "2023-05-11T08:12:37.713Z"
   },
   {
    "duration": 7,
    "start_time": "2023-05-11T08:12:37.806Z"
   },
   {
    "duration": 13,
    "start_time": "2023-05-11T08:12:37.815Z"
   },
   {
    "duration": 102,
    "start_time": "2023-05-11T08:12:37.831Z"
   },
   {
    "duration": 63,
    "start_time": "2023-05-11T08:12:37.936Z"
   },
   {
    "duration": 29,
    "start_time": "2023-05-11T08:12:38.002Z"
   },
   {
    "duration": 962,
    "start_time": "2023-05-11T08:12:38.033Z"
   },
   {
    "duration": 9,
    "start_time": "2023-05-11T08:12:39.000Z"
   },
   {
    "duration": 3,
    "start_time": "2023-05-11T08:12:39.011Z"
   },
   {
    "duration": 3881,
    "start_time": "2023-05-11T08:12:39.016Z"
   },
   {
    "duration": 820,
    "start_time": "2023-05-11T08:12:42.898Z"
   },
   {
    "duration": 114,
    "start_time": "2023-05-11T08:12:43.720Z"
   },
   {
    "duration": 35,
    "start_time": "2023-05-11T08:12:43.893Z"
   },
   {
    "duration": 1296,
    "start_time": "2023-05-11T08:12:43.930Z"
   },
   {
    "duration": 67,
    "start_time": "2023-05-11T08:12:45.227Z"
   },
   {
    "duration": 422,
    "start_time": "2023-05-11T08:12:45.296Z"
   },
   {
    "duration": 3286,
    "start_time": "2023-05-11T08:12:45.720Z"
   },
   {
    "duration": 74,
    "start_time": "2023-05-11T08:45:57.705Z"
   },
   {
    "duration": 24353,
    "start_time": "2023-05-11T08:48:32.244Z"
   },
   {
    "duration": 830,
    "start_time": "2023-05-11T08:48:56.599Z"
   },
   {
    "duration": 1227,
    "start_time": "2023-05-11T08:48:57.495Z"
   },
   {
    "duration": 8,
    "start_time": "2023-05-11T08:48:58.725Z"
   },
   {
    "duration": 25,
    "start_time": "2023-05-11T08:48:58.793Z"
   },
   {
    "duration": 15,
    "start_time": "2023-05-11T08:48:58.820Z"
   },
   {
    "duration": 25,
    "start_time": "2023-05-11T08:48:58.837Z"
   },
   {
    "duration": 67,
    "start_time": "2023-05-11T08:48:58.863Z"
   },
   {
    "duration": 6,
    "start_time": "2023-05-11T08:48:58.931Z"
   },
   {
    "duration": 13,
    "start_time": "2023-05-11T08:48:58.939Z"
   },
   {
    "duration": 44,
    "start_time": "2023-05-11T08:48:58.953Z"
   },
   {
    "duration": 7,
    "start_time": "2023-05-11T08:48:58.999Z"
   },
   {
    "duration": 17,
    "start_time": "2023-05-11T08:48:59.008Z"
   },
   {
    "duration": 715,
    "start_time": "2023-05-11T08:48:59.027Z"
   },
   {
    "duration": 4,
    "start_time": "2023-05-11T08:48:59.794Z"
   },
   {
    "duration": 5,
    "start_time": "2023-05-11T08:48:59.801Z"
   },
   {
    "duration": 4287,
    "start_time": "2023-05-11T08:48:59.809Z"
   },
   {
    "duration": 1018,
    "start_time": "2023-05-11T08:49:04.099Z"
   },
   {
    "duration": 197,
    "start_time": "2023-05-11T08:49:05.120Z"
   },
   {
    "duration": 107,
    "start_time": "2023-05-11T08:49:05.318Z"
   },
   {
    "duration": 1409,
    "start_time": "2023-05-11T08:49:05.427Z"
   },
   {
    "duration": 6,
    "start_time": "2023-05-11T08:49:06.896Z"
   },
   {
    "duration": 605,
    "start_time": "2023-05-11T08:49:06.904Z"
   },
   {
    "duration": 3586,
    "start_time": "2023-05-11T08:49:07.510Z"
   },
   {
    "duration": 4139,
    "start_time": "2023-05-11T08:49:11.098Z"
   },
   {
    "duration": 1082,
    "start_time": "2023-05-11T08:49:15.239Z"
   },
   {
    "duration": 25726,
    "start_time": "2023-05-11T09:11:05.989Z"
   },
   {
    "duration": 780,
    "start_time": "2023-05-11T09:11:31.717Z"
   },
   {
    "duration": 1339,
    "start_time": "2023-05-11T09:11:32.499Z"
   },
   {
    "duration": 7,
    "start_time": "2023-05-11T09:11:33.895Z"
   },
   {
    "duration": 24,
    "start_time": "2023-05-11T09:11:33.903Z"
   },
   {
    "duration": 67,
    "start_time": "2023-05-11T09:11:33.928Z"
   },
   {
    "duration": 13,
    "start_time": "2023-05-11T09:11:33.997Z"
   },
   {
    "duration": 106,
    "start_time": "2023-05-11T09:11:34.011Z"
   },
   {
    "duration": 9,
    "start_time": "2023-05-11T09:11:34.120Z"
   },
   {
    "duration": 70,
    "start_time": "2023-05-11T09:11:34.133Z"
   },
   {
    "duration": 103,
    "start_time": "2023-05-11T09:11:34.204Z"
   },
   {
    "duration": 6,
    "start_time": "2023-05-11T09:11:34.310Z"
   },
   {
    "duration": 83,
    "start_time": "2023-05-11T09:11:34.318Z"
   },
   {
    "duration": 1105,
    "start_time": "2023-05-11T09:11:34.403Z"
   },
   {
    "duration": 4,
    "start_time": "2023-05-11T09:11:35.510Z"
   },
   {
    "duration": 8,
    "start_time": "2023-05-11T09:11:35.516Z"
   },
   {
    "duration": 4377,
    "start_time": "2023-05-11T09:11:35.525Z"
   },
   {
    "duration": 891,
    "start_time": "2023-05-11T09:11:39.904Z"
   },
   {
    "duration": 105,
    "start_time": "2023-05-11T09:11:40.797Z"
   },
   {
    "duration": 101,
    "start_time": "2023-05-11T09:11:40.903Z"
   },
   {
    "duration": 1320,
    "start_time": "2023-05-11T09:11:41.006Z"
   },
   {
    "duration": 69,
    "start_time": "2023-05-11T09:11:42.328Z"
   },
   {
    "duration": 419,
    "start_time": "2023-05-11T09:11:42.400Z"
   },
   {
    "duration": 3574,
    "start_time": "2023-05-11T09:11:42.822Z"
   },
   {
    "duration": 5037,
    "start_time": "2023-05-11T09:11:46.397Z"
   },
   {
    "duration": 912,
    "start_time": "2023-05-11T09:11:51.436Z"
   },
   {
    "duration": 3,
    "start_time": "2023-05-11T09:11:52.350Z"
   },
   {
    "duration": 6,
    "start_time": "2023-05-11T09:15:51.685Z"
   },
   {
    "duration": 5,
    "start_time": "2023-05-11T09:25:00.285Z"
   },
   {
    "duration": 3188,
    "start_time": "2023-05-11T09:36:35.921Z"
   },
   {
    "duration": 1116,
    "start_time": "2023-05-11T09:36:39.111Z"
   },
   {
    "duration": 6,
    "start_time": "2023-05-11T09:37:58.433Z"
   },
   {
    "duration": 28617,
    "start_time": "2023-05-11T09:40:35.314Z"
   },
   {
    "duration": 969,
    "start_time": "2023-05-11T09:41:03.934Z"
   },
   {
    "duration": 1522,
    "start_time": "2023-05-11T09:41:04.905Z"
   },
   {
    "duration": 7,
    "start_time": "2023-05-11T09:41:06.429Z"
   },
   {
    "duration": 77,
    "start_time": "2023-05-11T09:41:06.437Z"
   },
   {
    "duration": 12,
    "start_time": "2023-05-11T09:41:06.516Z"
   },
   {
    "duration": 12,
    "start_time": "2023-05-11T09:41:06.529Z"
   },
   {
    "duration": 68,
    "start_time": "2023-05-11T09:41:06.543Z"
   },
   {
    "duration": 7,
    "start_time": "2023-05-11T09:41:06.613Z"
   },
   {
    "duration": 21,
    "start_time": "2023-05-11T09:41:06.624Z"
   },
   {
    "duration": 63,
    "start_time": "2023-05-11T09:41:06.648Z"
   },
   {
    "duration": 5,
    "start_time": "2023-05-11T09:41:06.713Z"
   },
   {
    "duration": 16,
    "start_time": "2023-05-11T09:41:06.719Z"
   },
   {
    "duration": 860,
    "start_time": "2023-05-11T09:41:06.736Z"
   },
   {
    "duration": 4,
    "start_time": "2023-05-11T09:41:07.598Z"
   },
   {
    "duration": 4,
    "start_time": "2023-05-11T09:41:07.604Z"
   },
   {
    "duration": 3703,
    "start_time": "2023-05-11T09:41:07.610Z"
   },
   {
    "duration": 993,
    "start_time": "2023-05-11T09:41:11.315Z"
   },
   {
    "duration": 129,
    "start_time": "2023-05-11T09:41:12.310Z"
   },
   {
    "duration": 171,
    "start_time": "2023-05-11T09:41:12.441Z"
   },
   {
    "duration": 1424,
    "start_time": "2023-05-11T09:41:12.615Z"
   },
   {
    "duration": 58,
    "start_time": "2023-05-11T09:41:14.041Z"
   },
   {
    "duration": 621,
    "start_time": "2023-05-11T09:41:14.102Z"
   },
   {
    "duration": 3981,
    "start_time": "2023-05-11T09:41:14.725Z"
   },
   {
    "duration": 5288,
    "start_time": "2023-05-11T09:41:18.707Z"
   },
   {
    "duration": 1300,
    "start_time": "2023-05-11T09:41:23.997Z"
   },
   {
    "duration": 11,
    "start_time": "2023-05-11T09:41:25.298Z"
   },
   {
    "duration": 3383,
    "start_time": "2023-05-11T09:41:25.319Z"
   },
   {
    "duration": 1392,
    "start_time": "2023-05-11T09:41:28.704Z"
   },
   {
    "duration": 11,
    "start_time": "2023-05-11T09:41:30.098Z"
   },
   {
    "duration": 28979,
    "start_time": "2023-05-11T09:44:52.747Z"
   },
   {
    "duration": 903,
    "start_time": "2023-05-11T09:45:21.729Z"
   },
   {
    "duration": 1497,
    "start_time": "2023-05-11T09:45:22.635Z"
   },
   {
    "duration": 7,
    "start_time": "2023-05-11T09:45:24.134Z"
   },
   {
    "duration": 80,
    "start_time": "2023-05-11T09:45:24.143Z"
   },
   {
    "duration": 71,
    "start_time": "2023-05-11T09:45:24.226Z"
   },
   {
    "duration": 20,
    "start_time": "2023-05-11T09:45:24.300Z"
   },
   {
    "duration": 116,
    "start_time": "2023-05-11T09:45:24.323Z"
   },
   {
    "duration": 7,
    "start_time": "2023-05-11T09:45:24.442Z"
   },
   {
    "duration": 19,
    "start_time": "2023-05-11T09:45:24.453Z"
   },
   {
    "duration": 56,
    "start_time": "2023-05-11T09:45:24.474Z"
   },
   {
    "duration": 7,
    "start_time": "2023-05-11T09:45:24.532Z"
   },
   {
    "duration": 23,
    "start_time": "2023-05-11T09:45:24.541Z"
   },
   {
    "duration": 865,
    "start_time": "2023-05-11T09:45:24.566Z"
   },
   {
    "duration": 5,
    "start_time": "2023-05-11T09:45:25.433Z"
   },
   {
    "duration": 16,
    "start_time": "2023-05-11T09:45:25.441Z"
   },
   {
    "duration": 4577,
    "start_time": "2023-05-11T09:45:25.460Z"
   },
   {
    "duration": 1128,
    "start_time": "2023-05-11T09:45:30.095Z"
   },
   {
    "duration": 117,
    "start_time": "2023-05-11T09:45:31.225Z"
   },
   {
    "duration": 116,
    "start_time": "2023-05-11T09:45:31.396Z"
   },
   {
    "duration": 1606,
    "start_time": "2023-05-11T09:45:31.514Z"
   },
   {
    "duration": 6,
    "start_time": "2023-05-11T09:45:33.122Z"
   },
   {
    "duration": 683,
    "start_time": "2023-05-11T09:45:33.129Z"
   },
   {
    "duration": 3922,
    "start_time": "2023-05-11T09:45:33.814Z"
   },
   {
    "duration": 5496,
    "start_time": "2023-05-11T09:45:37.739Z"
   },
   {
    "duration": 1046,
    "start_time": "2023-05-11T09:45:43.297Z"
   },
   {
    "duration": 20,
    "start_time": "2023-05-11T09:45:44.344Z"
   },
   {
    "duration": 3659,
    "start_time": "2023-05-11T09:45:44.370Z"
   },
   {
    "duration": 1564,
    "start_time": "2023-05-11T09:45:48.032Z"
   },
   {
    "duration": 16,
    "start_time": "2023-05-11T09:45:49.597Z"
   },
   {
    "duration": 5,
    "start_time": "2023-05-11T09:48:01.787Z"
   },
   {
    "duration": 8,
    "start_time": "2023-05-11T09:49:01.194Z"
   },
   {
    "duration": 7,
    "start_time": "2023-05-11T09:49:52.021Z"
   },
   {
    "duration": 5,
    "start_time": "2023-05-11T09:49:52.544Z"
   },
   {
    "duration": 27081,
    "start_time": "2023-05-11T09:50:52.246Z"
   },
   {
    "duration": 866,
    "start_time": "2023-05-11T09:51:19.330Z"
   },
   {
    "duration": 1656,
    "start_time": "2023-05-11T09:51:20.197Z"
   },
   {
    "duration": 46,
    "start_time": "2023-05-11T09:51:21.856Z"
   },
   {
    "duration": 37,
    "start_time": "2023-05-11T09:51:21.904Z"
   },
   {
    "duration": 13,
    "start_time": "2023-05-11T09:51:21.943Z"
   },
   {
    "duration": 20,
    "start_time": "2023-05-11T09:51:21.958Z"
   },
   {
    "duration": 68,
    "start_time": "2023-05-11T09:51:21.980Z"
   },
   {
    "duration": 7,
    "start_time": "2023-05-11T09:51:22.051Z"
   },
   {
    "duration": 59,
    "start_time": "2023-05-11T09:51:22.061Z"
   },
   {
    "duration": 42,
    "start_time": "2023-05-11T09:51:22.122Z"
   },
   {
    "duration": 6,
    "start_time": "2023-05-11T09:51:22.166Z"
   },
   {
    "duration": 36,
    "start_time": "2023-05-11T09:51:22.175Z"
   },
   {
    "duration": 800,
    "start_time": "2023-05-11T09:51:22.212Z"
   },
   {
    "duration": 4,
    "start_time": "2023-05-11T09:51:23.018Z"
   },
   {
    "duration": 10,
    "start_time": "2023-05-11T09:51:23.024Z"
   },
   {
    "duration": 4396,
    "start_time": "2023-05-11T09:51:23.036Z"
   },
   {
    "duration": 1092,
    "start_time": "2023-05-11T09:51:27.434Z"
   },
   {
    "duration": 166,
    "start_time": "2023-05-11T09:51:28.528Z"
   },
   {
    "duration": 98,
    "start_time": "2023-05-11T09:51:28.696Z"
   },
   {
    "duration": 1424,
    "start_time": "2023-05-11T09:51:28.796Z"
   },
   {
    "duration": 5,
    "start_time": "2023-05-11T09:51:30.222Z"
   },
   {
    "duration": 684,
    "start_time": "2023-05-11T09:51:30.229Z"
   },
   {
    "duration": 4007,
    "start_time": "2023-05-11T09:51:30.914Z"
   },
   {
    "duration": 5010,
    "start_time": "2023-05-11T09:51:34.924Z"
   },
   {
    "duration": 1309,
    "start_time": "2023-05-11T09:51:39.936Z"
   },
   {
    "duration": 10,
    "start_time": "2023-05-11T09:51:41.295Z"
   },
   {
    "duration": 3026,
    "start_time": "2023-05-11T09:51:41.310Z"
   },
   {
    "duration": 1472,
    "start_time": "2023-05-11T09:51:44.339Z"
   },
   {
    "duration": 6,
    "start_time": "2023-05-11T09:51:45.815Z"
   },
   {
    "duration": 12,
    "start_time": "2023-05-11T09:51:45.823Z"
   },
   {
    "duration": 11,
    "start_time": "2023-05-11T09:51:45.837Z"
   },
   {
    "duration": 7,
    "start_time": "2023-05-11T09:55:13.151Z"
   },
   {
    "duration": 9,
    "start_time": "2023-05-11T09:55:15.089Z"
   },
   {
    "duration": 27473,
    "start_time": "2023-05-11T10:03:21.355Z"
   },
   {
    "duration": 875,
    "start_time": "2023-05-11T10:03:48.830Z"
   },
   {
    "duration": 1596,
    "start_time": "2023-05-11T10:03:49.706Z"
   },
   {
    "duration": 8,
    "start_time": "2023-05-11T10:03:51.305Z"
   },
   {
    "duration": 33,
    "start_time": "2023-05-11T10:03:51.315Z"
   },
   {
    "duration": 12,
    "start_time": "2023-05-11T10:03:51.350Z"
   },
   {
    "duration": 60,
    "start_time": "2023-05-11T10:03:51.364Z"
   },
   {
    "duration": 59,
    "start_time": "2023-05-11T10:03:51.426Z"
   },
   {
    "duration": 7,
    "start_time": "2023-05-11T10:03:51.487Z"
   },
   {
    "duration": 33,
    "start_time": "2023-05-11T10:03:51.497Z"
   },
   {
    "duration": 42,
    "start_time": "2023-05-11T10:03:51.534Z"
   },
   {
    "duration": 6,
    "start_time": "2023-05-11T10:03:51.579Z"
   },
   {
    "duration": 36,
    "start_time": "2023-05-11T10:03:51.587Z"
   },
   {
    "duration": 788,
    "start_time": "2023-05-11T10:03:51.625Z"
   },
   {
    "duration": 7,
    "start_time": "2023-05-11T10:03:52.415Z"
   },
   {
    "duration": 4,
    "start_time": "2023-05-11T10:03:52.424Z"
   },
   {
    "duration": 4207,
    "start_time": "2023-05-11T10:03:52.430Z"
   },
   {
    "duration": 866,
    "start_time": "2023-05-11T10:03:56.638Z"
   },
   {
    "duration": 126,
    "start_time": "2023-05-11T10:03:57.505Z"
   },
   {
    "duration": 106,
    "start_time": "2023-05-11T10:03:57.633Z"
   },
   {
    "duration": 1495,
    "start_time": "2023-05-11T10:03:57.798Z"
   },
   {
    "duration": 8,
    "start_time": "2023-05-11T10:03:59.297Z"
   },
   {
    "duration": 612,
    "start_time": "2023-05-11T10:03:59.306Z"
   },
   {
    "duration": 3992,
    "start_time": "2023-05-11T10:03:59.920Z"
   },
   {
    "duration": 5108,
    "start_time": "2023-05-11T10:04:03.916Z"
   },
   {
    "duration": 944,
    "start_time": "2023-05-11T10:04:09.027Z"
   },
   {
    "duration": 10,
    "start_time": "2023-05-11T10:04:09.999Z"
   },
   {
    "duration": 3299,
    "start_time": "2023-05-11T10:04:10.017Z"
   },
   {
    "duration": 1303,
    "start_time": "2023-05-11T10:04:13.320Z"
   },
   {
    "duration": 7,
    "start_time": "2023-05-11T10:04:14.625Z"
   },
   {
    "duration": 70,
    "start_time": "2023-05-11T10:04:14.635Z"
   },
   {
    "duration": 9,
    "start_time": "2023-05-11T10:04:14.707Z"
   },
   {
    "duration": 28502,
    "start_time": "2023-05-11T10:07:16.334Z"
   },
   {
    "duration": 926,
    "start_time": "2023-05-11T10:07:44.895Z"
   },
   {
    "duration": 1691,
    "start_time": "2023-05-11T10:07:45.823Z"
   },
   {
    "duration": 9,
    "start_time": "2023-05-11T10:07:47.517Z"
   },
   {
    "duration": 86,
    "start_time": "2023-05-11T10:07:47.528Z"
   },
   {
    "duration": 13,
    "start_time": "2023-05-11T10:07:47.618Z"
   },
   {
    "duration": 64,
    "start_time": "2023-05-11T10:07:47.633Z"
   },
   {
    "duration": 110,
    "start_time": "2023-05-11T10:07:47.699Z"
   },
   {
    "duration": 8,
    "start_time": "2023-05-11T10:07:47.811Z"
   },
   {
    "duration": 14,
    "start_time": "2023-05-11T10:07:47.822Z"
   },
   {
    "duration": 60,
    "start_time": "2023-05-11T10:07:47.837Z"
   },
   {
    "duration": 15,
    "start_time": "2023-05-11T10:07:47.899Z"
   },
   {
    "duration": 16,
    "start_time": "2023-05-11T10:07:47.918Z"
   },
   {
    "duration": 795,
    "start_time": "2023-05-11T10:07:47.936Z"
   },
   {
    "duration": 66,
    "start_time": "2023-05-11T10:07:48.733Z"
   },
   {
    "duration": 16,
    "start_time": "2023-05-11T10:07:48.804Z"
   },
   {
    "duration": 4203,
    "start_time": "2023-05-11T10:07:48.822Z"
   },
   {
    "duration": 896,
    "start_time": "2023-05-11T10:07:53.026Z"
   },
   {
    "duration": 181,
    "start_time": "2023-05-11T10:07:53.924Z"
   },
   {
    "duration": 90,
    "start_time": "2023-05-11T10:07:54.106Z"
   },
   {
    "duration": 1408,
    "start_time": "2023-05-11T10:07:54.198Z"
   },
   {
    "duration": 10,
    "start_time": "2023-05-11T10:07:55.609Z"
   },
   {
    "duration": 686,
    "start_time": "2023-05-11T10:07:55.621Z"
   },
   {
    "duration": 4210,
    "start_time": "2023-05-11T10:07:56.320Z"
   },
   {
    "duration": 5205,
    "start_time": "2023-05-11T10:08:00.532Z"
   },
   {
    "duration": 1182,
    "start_time": "2023-05-11T10:08:05.740Z"
   },
   {
    "duration": 8,
    "start_time": "2023-05-11T10:08:06.924Z"
   },
   {
    "duration": 2785,
    "start_time": "2023-05-11T10:08:06.936Z"
   },
   {
    "duration": 1399,
    "start_time": "2023-05-11T10:08:09.723Z"
   },
   {
    "duration": 6,
    "start_time": "2023-05-11T10:08:11.124Z"
   },
   {
    "duration": 5,
    "start_time": "2023-05-11T10:08:11.132Z"
   },
   {
    "duration": 72,
    "start_time": "2023-05-11T10:08:11.139Z"
   },
   {
    "duration": 44,
    "start_time": "2023-05-11T14:26:19.932Z"
   },
   {
    "duration": 778,
    "start_time": "2023-05-12T06:34:53.488Z"
   },
   {
    "duration": 31162,
    "start_time": "2023-05-12T06:34:54.276Z"
   },
   {
    "duration": 1145,
    "start_time": "2023-05-12T06:35:25.456Z"
   },
   {
    "duration": 1455,
    "start_time": "2023-05-12T06:35:26.603Z"
   },
   {
    "duration": 13,
    "start_time": "2023-05-12T06:35:28.061Z"
   },
   {
    "duration": 90,
    "start_time": "2023-05-12T06:35:28.076Z"
   },
   {
    "duration": 29,
    "start_time": "2023-05-12T06:35:28.168Z"
   },
   {
    "duration": 19,
    "start_time": "2023-05-12T06:35:28.201Z"
   },
   {
    "duration": 71,
    "start_time": "2023-05-12T06:35:28.223Z"
   },
   {
    "duration": 8,
    "start_time": "2023-05-12T06:35:28.300Z"
   },
   {
    "duration": 23,
    "start_time": "2023-05-12T06:35:28.311Z"
   },
   {
    "duration": 58,
    "start_time": "2023-05-12T06:35:28.337Z"
   },
   {
    "duration": 6,
    "start_time": "2023-05-12T06:35:28.397Z"
   },
   {
    "duration": 26,
    "start_time": "2023-05-12T06:35:28.410Z"
   },
   {
    "duration": 981,
    "start_time": "2023-05-12T06:35:28.439Z"
   },
   {
    "duration": 26,
    "start_time": "2023-05-12T06:35:29.452Z"
   },
   {
    "duration": 12,
    "start_time": "2023-05-12T06:35:29.480Z"
   },
   {
    "duration": 4890,
    "start_time": "2023-05-12T06:35:29.499Z"
   },
   {
    "duration": 994,
    "start_time": "2023-05-12T06:35:34.391Z"
   },
   {
    "duration": 196,
    "start_time": "2023-05-12T06:35:35.387Z"
   },
   {
    "duration": 108,
    "start_time": "2023-05-12T06:35:35.585Z"
   },
   {
    "duration": 1872,
    "start_time": "2023-05-12T06:35:35.697Z"
   },
   {
    "duration": 23,
    "start_time": "2023-05-12T06:35:37.571Z"
   },
   {
    "duration": 716,
    "start_time": "2023-05-12T06:35:37.596Z"
   },
   {
    "duration": 5263,
    "start_time": "2023-05-12T06:35:38.315Z"
   },
   {
    "duration": 6819,
    "start_time": "2023-05-12T06:35:43.580Z"
   },
   {
    "duration": 1402,
    "start_time": "2023-05-12T06:35:50.403Z"
   },
   {
    "duration": 60,
    "start_time": "2023-05-12T06:35:51.808Z"
   },
   {
    "duration": 3837,
    "start_time": "2023-05-12T06:35:51.869Z"
   },
   {
    "duration": 1450,
    "start_time": "2023-05-12T06:35:55.755Z"
   },
   {
    "duration": 47,
    "start_time": "2023-05-12T06:35:57.207Z"
   },
   {
    "duration": 20,
    "start_time": "2023-05-12T06:35:57.258Z"
   },
   {
    "duration": 24,
    "start_time": "2023-05-12T06:35:57.282Z"
   },
   {
    "duration": 7,
    "start_time": "2023-05-12T08:37:34.033Z"
   },
   {
    "duration": 1050,
    "start_time": "2023-05-12T08:37:34.849Z"
   },
   {
    "duration": 304,
    "start_time": "2023-05-12T08:37:38.843Z"
   },
   {
    "duration": 3,
    "start_time": "2023-05-12T08:37:55.285Z"
   },
   {
    "duration": 140,
    "start_time": "2023-05-12T08:38:11.576Z"
   },
   {
    "duration": 367,
    "start_time": "2023-05-12T08:39:32.012Z"
   },
   {
    "duration": 3552,
    "start_time": "2023-05-12T08:41:27.950Z"
   },
   {
    "duration": 1836,
    "start_time": "2023-05-12T08:41:38.724Z"
   },
   {
    "duration": 2426,
    "start_time": "2023-05-12T08:43:12.480Z"
   },
   {
    "duration": 286,
    "start_time": "2023-05-12T08:43:36.444Z"
   },
   {
    "duration": 1812,
    "start_time": "2023-05-12T08:43:39.279Z"
   },
   {
    "duration": 10,
    "start_time": "2023-05-12T08:46:11.699Z"
   },
   {
    "duration": 759,
    "start_time": "2023-05-12T08:46:27.287Z"
   },
   {
    "duration": 28345,
    "start_time": "2023-05-12T08:46:28.049Z"
   },
   {
    "duration": 1011,
    "start_time": "2023-05-12T08:46:56.395Z"
   },
   {
    "duration": 1465,
    "start_time": "2023-05-12T08:46:57.407Z"
   },
   {
    "duration": 5,
    "start_time": "2023-05-12T08:46:58.881Z"
   },
   {
    "duration": 231,
    "start_time": "2023-05-12T08:46:58.892Z"
   },
   {
    "duration": 0,
    "start_time": "2023-05-12T08:46:59.125Z"
   },
   {
    "duration": 0,
    "start_time": "2023-05-12T08:46:59.127Z"
   },
   {
    "duration": 0,
    "start_time": "2023-05-12T08:46:59.128Z"
   },
   {
    "duration": 0,
    "start_time": "2023-05-12T08:46:59.129Z"
   },
   {
    "duration": 0,
    "start_time": "2023-05-12T08:46:59.130Z"
   },
   {
    "duration": 0,
    "start_time": "2023-05-12T08:46:59.132Z"
   },
   {
    "duration": 0,
    "start_time": "2023-05-12T08:46:59.132Z"
   },
   {
    "duration": 0,
    "start_time": "2023-05-12T08:46:59.135Z"
   },
   {
    "duration": 0,
    "start_time": "2023-05-12T08:46:59.153Z"
   },
   {
    "duration": 0,
    "start_time": "2023-05-12T08:46:59.154Z"
   },
   {
    "duration": 0,
    "start_time": "2023-05-12T08:46:59.156Z"
   },
   {
    "duration": 0,
    "start_time": "2023-05-12T08:46:59.157Z"
   },
   {
    "duration": 0,
    "start_time": "2023-05-12T08:46:59.159Z"
   },
   {
    "duration": 0,
    "start_time": "2023-05-12T08:46:59.161Z"
   },
   {
    "duration": 0,
    "start_time": "2023-05-12T08:46:59.162Z"
   },
   {
    "duration": 0,
    "start_time": "2023-05-12T08:46:59.163Z"
   },
   {
    "duration": 0,
    "start_time": "2023-05-12T08:46:59.165Z"
   },
   {
    "duration": 0,
    "start_time": "2023-05-12T08:46:59.166Z"
   },
   {
    "duration": 0,
    "start_time": "2023-05-12T08:46:59.168Z"
   },
   {
    "duration": 0,
    "start_time": "2023-05-12T08:46:59.169Z"
   },
   {
    "duration": 0,
    "start_time": "2023-05-12T08:46:59.170Z"
   },
   {
    "duration": 0,
    "start_time": "2023-05-12T08:46:59.171Z"
   },
   {
    "duration": 0,
    "start_time": "2023-05-12T08:46:59.173Z"
   },
   {
    "duration": 0,
    "start_time": "2023-05-12T08:46:59.175Z"
   },
   {
    "duration": 0,
    "start_time": "2023-05-12T08:46:59.176Z"
   },
   {
    "duration": 29,
    "start_time": "2023-05-12T08:47:09.577Z"
   },
   {
    "duration": 50,
    "start_time": "2023-05-12T08:47:15.691Z"
   },
   {
    "duration": 36,
    "start_time": "2023-05-12T08:47:30.079Z"
   },
   {
    "duration": 2548,
    "start_time": "2023-05-12T08:48:15.149Z"
   },
   {
    "duration": 9685,
    "start_time": "2023-05-12T08:49:08.672Z"
   },
   {
    "duration": 178,
    "start_time": "2023-05-12T09:03:12.651Z"
   },
   {
    "duration": 947,
    "start_time": "2023-05-12T09:03:24.305Z"
   },
   {
    "duration": 23,
    "start_time": "2023-05-12T09:25:46.773Z"
   },
   {
    "duration": 771,
    "start_time": "2023-05-12T09:34:29.393Z"
   },
   {
    "duration": 28208,
    "start_time": "2023-05-12T09:34:30.166Z"
   },
   {
    "duration": 886,
    "start_time": "2023-05-12T09:34:58.376Z"
   },
   {
    "duration": 1605,
    "start_time": "2023-05-12T09:34:59.264Z"
   },
   {
    "duration": 11,
    "start_time": "2023-05-12T09:35:00.871Z"
   },
   {
    "duration": 98,
    "start_time": "2023-05-12T09:35:00.887Z"
   },
   {
    "duration": 188,
    "start_time": "2023-05-12T09:35:00.987Z"
   },
   {
    "duration": 10795,
    "start_time": "2023-05-12T09:35:01.177Z"
   },
   {
    "duration": 130,
    "start_time": "2023-05-12T09:35:11.973Z"
   },
   {
    "duration": 946,
    "start_time": "2023-05-12T09:35:12.106Z"
   },
   {
    "duration": 226,
    "start_time": "2023-05-12T09:35:13.054Z"
   },
   {
    "duration": 0,
    "start_time": "2023-05-12T09:35:13.283Z"
   },
   {
    "duration": 0,
    "start_time": "2023-05-12T09:35:13.284Z"
   },
   {
    "duration": 0,
    "start_time": "2023-05-12T09:35:13.285Z"
   },
   {
    "duration": 0,
    "start_time": "2023-05-12T09:35:13.287Z"
   },
   {
    "duration": 0,
    "start_time": "2023-05-12T09:35:13.288Z"
   },
   {
    "duration": 0,
    "start_time": "2023-05-12T09:35:13.289Z"
   },
   {
    "duration": 0,
    "start_time": "2023-05-12T09:35:13.294Z"
   },
   {
    "duration": 0,
    "start_time": "2023-05-12T09:35:13.295Z"
   },
   {
    "duration": 0,
    "start_time": "2023-05-12T09:35:13.300Z"
   },
   {
    "duration": 0,
    "start_time": "2023-05-12T09:35:13.302Z"
   },
   {
    "duration": 0,
    "start_time": "2023-05-12T09:35:13.303Z"
   },
   {
    "duration": 0,
    "start_time": "2023-05-12T09:35:13.304Z"
   },
   {
    "duration": 0,
    "start_time": "2023-05-12T09:35:13.305Z"
   },
   {
    "duration": 0,
    "start_time": "2023-05-12T09:35:13.306Z"
   },
   {
    "duration": 0,
    "start_time": "2023-05-12T09:35:13.307Z"
   },
   {
    "duration": 0,
    "start_time": "2023-05-12T09:35:13.308Z"
   },
   {
    "duration": 0,
    "start_time": "2023-05-12T09:35:13.309Z"
   },
   {
    "duration": 0,
    "start_time": "2023-05-12T09:35:13.311Z"
   },
   {
    "duration": 0,
    "start_time": "2023-05-12T09:35:13.311Z"
   },
   {
    "duration": 0,
    "start_time": "2023-05-12T09:35:13.350Z"
   },
   {
    "duration": 0,
    "start_time": "2023-05-12T09:35:13.351Z"
   },
   {
    "duration": 0,
    "start_time": "2023-05-12T09:35:13.351Z"
   },
   {
    "duration": 244,
    "start_time": "2023-05-12T09:36:37.938Z"
   },
   {
    "duration": 5046,
    "start_time": "2023-05-12T09:46:27.754Z"
   },
   {
    "duration": 10,
    "start_time": "2023-05-12T09:46:51.718Z"
   },
   {
    "duration": 6,
    "start_time": "2023-05-12T09:46:54.733Z"
   },
   {
    "duration": 36,
    "start_time": "2023-05-12T09:47:10.550Z"
   },
   {
    "duration": 826,
    "start_time": "2023-05-12T09:47:47.844Z"
   },
   {
    "duration": 27746,
    "start_time": "2023-05-12T09:47:48.676Z"
   },
   {
    "duration": 944,
    "start_time": "2023-05-12T09:48:16.425Z"
   },
   {
    "duration": 1542,
    "start_time": "2023-05-12T09:48:17.370Z"
   },
   {
    "duration": 5,
    "start_time": "2023-05-12T09:48:18.917Z"
   },
   {
    "duration": 57,
    "start_time": "2023-05-12T09:48:18.949Z"
   },
   {
    "duration": 214,
    "start_time": "2023-05-12T09:48:19.011Z"
   },
   {
    "duration": 10626,
    "start_time": "2023-05-12T09:48:19.227Z"
   },
   {
    "duration": 132,
    "start_time": "2023-05-12T09:48:29.855Z"
   },
   {
    "duration": 991,
    "start_time": "2023-05-12T09:48:29.989Z"
   },
   {
    "duration": 5380,
    "start_time": "2023-05-12T09:48:30.982Z"
   },
   {
    "duration": 96,
    "start_time": "2023-05-12T09:48:36.364Z"
   },
   {
    "duration": 1547,
    "start_time": "2023-05-12T09:48:36.464Z"
   },
   {
    "duration": 214,
    "start_time": "2023-05-12T09:48:38.018Z"
   },
   {
    "duration": 0,
    "start_time": "2023-05-12T09:48:38.251Z"
   },
   {
    "duration": 0,
    "start_time": "2023-05-12T09:48:38.252Z"
   },
   {
    "duration": 0,
    "start_time": "2023-05-12T09:48:38.254Z"
   },
   {
    "duration": 0,
    "start_time": "2023-05-12T09:48:38.255Z"
   },
   {
    "duration": 0,
    "start_time": "2023-05-12T09:48:38.257Z"
   },
   {
    "duration": 0,
    "start_time": "2023-05-12T09:48:38.258Z"
   },
   {
    "duration": 0,
    "start_time": "2023-05-12T09:48:38.260Z"
   },
   {
    "duration": 0,
    "start_time": "2023-05-12T09:48:38.261Z"
   },
   {
    "duration": 0,
    "start_time": "2023-05-12T09:48:38.261Z"
   },
   {
    "duration": 0,
    "start_time": "2023-05-12T09:48:38.262Z"
   },
   {
    "duration": 0,
    "start_time": "2023-05-12T09:48:38.263Z"
   },
   {
    "duration": 0,
    "start_time": "2023-05-12T09:48:38.270Z"
   },
   {
    "duration": 0,
    "start_time": "2023-05-12T09:48:38.271Z"
   },
   {
    "duration": 0,
    "start_time": "2023-05-12T09:48:38.272Z"
   },
   {
    "duration": 0,
    "start_time": "2023-05-12T09:48:38.275Z"
   },
   {
    "duration": 0,
    "start_time": "2023-05-12T09:48:38.276Z"
   },
   {
    "duration": 0,
    "start_time": "2023-05-12T09:48:38.278Z"
   },
   {
    "duration": 0,
    "start_time": "2023-05-12T09:48:38.280Z"
   },
   {
    "duration": 1171,
    "start_time": "2023-05-12T09:49:36.112Z"
   },
   {
    "duration": 15,
    "start_time": "2023-05-12T09:50:24.569Z"
   },
   {
    "duration": 11,
    "start_time": "2023-05-12T09:50:29.588Z"
   },
   {
    "duration": 235,
    "start_time": "2023-05-12T09:50:32.574Z"
   },
   {
    "duration": 160,
    "start_time": "2023-05-12T09:52:34.503Z"
   },
   {
    "duration": 3,
    "start_time": "2023-05-12T09:52:38.586Z"
   },
   {
    "duration": 2134,
    "start_time": "2023-05-12T09:55:48.857Z"
   },
   {
    "duration": 92,
    "start_time": "2023-05-12T10:05:46.363Z"
   },
   {
    "duration": 29,
    "start_time": "2023-05-12T10:06:29.880Z"
   },
   {
    "duration": 26,
    "start_time": "2023-05-12T10:06:34.681Z"
   },
   {
    "duration": 34,
    "start_time": "2023-05-12T10:06:42.541Z"
   },
   {
    "duration": 38,
    "start_time": "2023-05-12T10:06:49.425Z"
   },
   {
    "duration": 353,
    "start_time": "2023-05-12T10:09:44.141Z"
   },
   {
    "duration": 710,
    "start_time": "2023-05-12T10:10:08.774Z"
   },
   {
    "duration": 27776,
    "start_time": "2023-05-12T10:10:09.486Z"
   },
   {
    "duration": 994,
    "start_time": "2023-05-12T10:10:37.264Z"
   },
   {
    "duration": 1329,
    "start_time": "2023-05-12T10:10:38.259Z"
   },
   {
    "duration": 67,
    "start_time": "2023-05-12T10:10:39.590Z"
   },
   {
    "duration": 19,
    "start_time": "2023-05-12T10:10:39.659Z"
   },
   {
    "duration": 182,
    "start_time": "2023-05-12T10:10:39.680Z"
   },
   {
    "duration": 10438,
    "start_time": "2023-05-12T10:10:39.868Z"
   },
   {
    "duration": 163,
    "start_time": "2023-05-12T10:10:50.351Z"
   },
   {
    "duration": 1211,
    "start_time": "2023-05-12T10:10:50.550Z"
   },
   {
    "duration": 5122,
    "start_time": "2023-05-12T10:10:51.763Z"
   },
   {
    "duration": 89,
    "start_time": "2023-05-12T10:10:56.895Z"
   },
   {
    "duration": 1671,
    "start_time": "2023-05-12T10:10:56.990Z"
   },
   {
    "duration": 22,
    "start_time": "2023-05-12T10:10:58.673Z"
   },
   {
    "duration": 1267,
    "start_time": "2023-05-12T10:10:58.697Z"
   },
   {
    "duration": 5,
    "start_time": "2023-05-12T10:10:59.966Z"
   },
   {
    "duration": 2718,
    "start_time": "2023-05-12T10:10:59.974Z"
   },
   {
    "duration": 767,
    "start_time": "2023-05-12T10:11:02.694Z"
   },
   {
    "duration": 106,
    "start_time": "2023-05-12T10:11:03.471Z"
   },
   {
    "duration": 68,
    "start_time": "2023-05-12T10:11:03.587Z"
   },
   {
    "duration": 1530,
    "start_time": "2023-05-12T10:11:03.657Z"
   },
   {
    "duration": 11,
    "start_time": "2023-05-12T10:11:05.188Z"
   },
   {
    "duration": 487,
    "start_time": "2023-05-12T10:11:05.200Z"
   },
   {
    "duration": 3365,
    "start_time": "2023-05-12T10:11:05.689Z"
   },
   {
    "duration": 5493,
    "start_time": "2023-05-12T10:11:09.057Z"
   },
   {
    "duration": 1299,
    "start_time": "2023-05-12T10:11:14.555Z"
   },
   {
    "duration": 14,
    "start_time": "2023-05-12T10:11:15.856Z"
   },
   {
    "duration": 3603,
    "start_time": "2023-05-12T10:11:15.875Z"
   },
   {
    "duration": 1193,
    "start_time": "2023-05-12T10:11:19.483Z"
   },
   {
    "duration": 18,
    "start_time": "2023-05-12T10:11:20.678Z"
   },
   {
    "duration": 20,
    "start_time": "2023-05-12T10:11:20.698Z"
   },
   {
    "duration": 29,
    "start_time": "2023-05-12T10:11:20.719Z"
   },
   {
    "duration": 10,
    "start_time": "2023-05-12T10:12:27.587Z"
   },
   {
    "duration": 17,
    "start_time": "2023-05-12T12:37:29.406Z"
   },
   {
    "duration": 11,
    "start_time": "2023-05-12T12:40:52.199Z"
   },
   {
    "duration": 107,
    "start_time": "2023-05-12T12:42:05.313Z"
   },
   {
    "duration": 21,
    "start_time": "2023-05-12T12:42:11.797Z"
   },
   {
    "duration": 17,
    "start_time": "2023-05-12T12:42:22.697Z"
   },
   {
    "duration": 5,
    "start_time": "2023-05-12T12:42:42.201Z"
   },
   {
    "duration": 35,
    "start_time": "2023-05-12T12:43:09.151Z"
   },
   {
    "duration": 9,
    "start_time": "2023-05-12T12:43:09.920Z"
   },
   {
    "duration": 7,
    "start_time": "2023-05-12T12:43:10.404Z"
   },
   {
    "duration": 4,
    "start_time": "2023-05-12T12:43:45.203Z"
   },
   {
    "duration": 25,
    "start_time": "2023-05-12T12:44:01.788Z"
   },
   {
    "duration": 8,
    "start_time": "2023-05-12T12:44:08.101Z"
   },
   {
    "duration": 1684,
    "start_time": "2023-05-12T12:47:46.531Z"
   },
   {
    "duration": 695,
    "start_time": "2023-05-12T12:48:40.802Z"
   },
   {
    "duration": 27139,
    "start_time": "2023-05-12T12:48:41.551Z"
   },
   {
    "duration": 768,
    "start_time": "2023-05-12T12:49:08.692Z"
   },
   {
    "duration": 1494,
    "start_time": "2023-05-12T12:49:09.462Z"
   },
   {
    "duration": 3,
    "start_time": "2023-05-12T12:49:10.962Z"
   },
   {
    "duration": 29,
    "start_time": "2023-05-12T12:49:10.968Z"
   },
   {
    "duration": 178,
    "start_time": "2023-05-12T12:49:10.999Z"
   },
   {
    "duration": 10319,
    "start_time": "2023-05-12T12:49:11.181Z"
   },
   {
    "duration": 157,
    "start_time": "2023-05-12T12:49:21.502Z"
   },
   {
    "duration": 1200,
    "start_time": "2023-05-12T12:49:21.661Z"
   },
   {
    "duration": 4612,
    "start_time": "2023-05-12T12:49:22.871Z"
   },
   {
    "duration": 97,
    "start_time": "2023-05-12T12:49:27.485Z"
   },
   {
    "duration": 1582,
    "start_time": "2023-05-12T12:49:27.584Z"
   },
   {
    "duration": 20,
    "start_time": "2023-05-12T12:49:29.171Z"
   },
   {
    "duration": 1161,
    "start_time": "2023-05-12T12:49:29.197Z"
   },
   {
    "duration": 44,
    "start_time": "2023-05-12T12:49:30.360Z"
   },
   {
    "duration": 69,
    "start_time": "2023-05-12T12:49:30.406Z"
   },
   {
    "duration": 18,
    "start_time": "2023-05-12T12:49:30.479Z"
   },
   {
    "duration": 1783,
    "start_time": "2023-05-12T12:49:30.499Z"
   },
   {
    "duration": 3,
    "start_time": "2023-05-12T12:49:32.284Z"
   },
   {
    "duration": 2099,
    "start_time": "2023-05-12T12:49:32.289Z"
   },
   {
    "duration": 704,
    "start_time": "2023-05-12T12:49:34.389Z"
   },
   {
    "duration": 112,
    "start_time": "2023-05-12T12:49:35.094Z"
   },
   {
    "duration": 86,
    "start_time": "2023-05-12T12:49:35.208Z"
   },
   {
    "duration": 1385,
    "start_time": "2023-05-12T12:49:35.295Z"
   },
   {
    "duration": 11,
    "start_time": "2023-05-12T12:49:36.681Z"
   },
   {
    "duration": 465,
    "start_time": "2023-05-12T12:49:36.694Z"
   },
   {
    "duration": 3144,
    "start_time": "2023-05-12T12:49:37.160Z"
   },
   {
    "duration": 4498,
    "start_time": "2023-05-12T12:49:40.306Z"
   },
   {
    "duration": 1076,
    "start_time": "2023-05-12T12:49:44.810Z"
   },
   {
    "duration": 17,
    "start_time": "2023-05-12T12:49:45.887Z"
   },
   {
    "duration": 3410,
    "start_time": "2023-05-12T12:49:45.906Z"
   },
   {
    "duration": 1371,
    "start_time": "2023-05-12T12:49:49.317Z"
   },
   {
    "duration": 17,
    "start_time": "2023-05-12T12:49:50.689Z"
   },
   {
    "duration": 45,
    "start_time": "2023-05-12T12:49:50.709Z"
   },
   {
    "duration": 39,
    "start_time": "2023-05-12T12:49:50.756Z"
   },
   {
    "duration": 115,
    "start_time": "2023-05-12T12:49:50.797Z"
   },
   {
    "duration": 3030,
    "start_time": "2023-05-12T12:51:10.903Z"
   },
   {
    "duration": 773,
    "start_time": "2023-05-12T12:51:51.652Z"
   },
   {
    "duration": 28577,
    "start_time": "2023-05-12T12:51:52.428Z"
   },
   {
    "duration": 1044,
    "start_time": "2023-05-12T12:52:21.009Z"
   },
   {
    "duration": 1507,
    "start_time": "2023-05-12T12:52:22.063Z"
   },
   {
    "duration": 6,
    "start_time": "2023-05-12T12:52:23.576Z"
   },
   {
    "duration": 63,
    "start_time": "2023-05-12T12:52:23.588Z"
   },
   {
    "duration": 111,
    "start_time": "2023-05-12T12:52:23.658Z"
   },
   {
    "duration": 10780,
    "start_time": "2023-05-12T12:52:23.770Z"
   },
   {
    "duration": 130,
    "start_time": "2023-05-12T12:52:34.552Z"
   },
   {
    "duration": 1107,
    "start_time": "2023-05-12T12:52:34.685Z"
   },
   {
    "duration": 5032,
    "start_time": "2023-05-12T12:52:35.793Z"
   },
   {
    "duration": 37,
    "start_time": "2023-05-12T12:52:40.827Z"
   },
   {
    "duration": 1288,
    "start_time": "2023-05-12T12:52:40.868Z"
   },
   {
    "duration": 37,
    "start_time": "2023-05-12T12:52:42.165Z"
   },
   {
    "duration": 1196,
    "start_time": "2023-05-12T12:52:42.204Z"
   },
   {
    "duration": 60,
    "start_time": "2023-05-12T12:52:43.403Z"
   },
   {
    "duration": 26,
    "start_time": "2023-05-12T12:52:43.465Z"
   },
   {
    "duration": 21,
    "start_time": "2023-05-12T12:52:43.492Z"
   },
   {
    "duration": 2051,
    "start_time": "2023-05-12T12:52:43.553Z"
   },
   {
    "duration": 7483,
    "start_time": "2023-05-12T12:52:45.606Z"
   },
   {
    "duration": 210,
    "start_time": "2023-05-12T12:52:53.090Z"
   },
   {
    "duration": 4,
    "start_time": "2023-05-12T12:52:53.303Z"
   },
   {
    "duration": 890,
    "start_time": "2023-05-12T12:52:53.309Z"
   },
   {
    "duration": 311,
    "start_time": "2023-05-12T12:52:54.200Z"
   },
   {
    "duration": 87,
    "start_time": "2023-05-12T12:52:54.513Z"
   },
   {
    "duration": 66,
    "start_time": "2023-05-12T12:52:54.602Z"
   },
   {
    "duration": 1185,
    "start_time": "2023-05-12T12:52:54.670Z"
   },
   {
    "duration": 22,
    "start_time": "2023-05-12T12:52:55.862Z"
   },
   {
    "duration": 380,
    "start_time": "2023-05-12T12:52:55.886Z"
   },
   {
    "duration": 2814,
    "start_time": "2023-05-12T12:52:56.268Z"
   },
   {
    "duration": 3329,
    "start_time": "2023-05-12T12:52:59.084Z"
   },
   {
    "duration": 1071,
    "start_time": "2023-05-12T12:53:02.415Z"
   },
   {
    "duration": 16,
    "start_time": "2023-05-12T12:53:03.487Z"
   },
   {
    "duration": 3193,
    "start_time": "2023-05-12T12:53:03.505Z"
   },
   {
    "duration": 988,
    "start_time": "2023-05-12T12:53:06.699Z"
   },
   {
    "duration": 62,
    "start_time": "2023-05-12T12:53:07.688Z"
   },
   {
    "duration": 8,
    "start_time": "2023-05-12T12:53:07.753Z"
   },
   {
    "duration": 10,
    "start_time": "2023-05-12T12:53:07.764Z"
   },
   {
    "duration": 845,
    "start_time": "2023-05-12T12:54:14.043Z"
   },
   {
    "duration": 6,
    "start_time": "2023-05-12T12:55:08.626Z"
   },
   {
    "duration": 9,
    "start_time": "2023-05-12T12:59:47.581Z"
   },
   {
    "duration": 1206,
    "start_time": "2023-05-12T12:59:48.392Z"
   },
   {
    "duration": 2945,
    "start_time": "2023-05-12T13:01:32.070Z"
   },
   {
    "duration": 688,
    "start_time": "2023-05-12T13:01:58.896Z"
   },
   {
    "duration": 28199,
    "start_time": "2023-05-12T13:01:59.586Z"
   },
   {
    "duration": 908,
    "start_time": "2023-05-12T13:02:27.792Z"
   },
   {
    "duration": 1189,
    "start_time": "2023-05-12T13:02:28.702Z"
   },
   {
    "duration": 3,
    "start_time": "2023-05-12T13:02:29.893Z"
   },
   {
    "duration": 27,
    "start_time": "2023-05-12T13:02:29.952Z"
   },
   {
    "duration": 174,
    "start_time": "2023-05-12T13:02:29.981Z"
   },
   {
    "duration": 10505,
    "start_time": "2023-05-12T13:02:30.157Z"
   },
   {
    "duration": 111,
    "start_time": "2023-05-12T13:02:40.663Z"
   },
   {
    "duration": 1529,
    "start_time": "2023-05-12T13:02:40.776Z"
   },
   {
    "duration": 5000,
    "start_time": "2023-05-12T13:02:42.307Z"
   },
   {
    "duration": 107,
    "start_time": "2023-05-12T13:02:47.350Z"
   },
   {
    "duration": 1297,
    "start_time": "2023-05-12T13:02:47.459Z"
   },
   {
    "duration": 24,
    "start_time": "2023-05-12T13:02:48.770Z"
   },
   {
    "duration": 1265,
    "start_time": "2023-05-12T13:02:48.802Z"
   },
   {
    "duration": 38,
    "start_time": "2023-05-12T13:02:50.069Z"
   },
   {
    "duration": 41,
    "start_time": "2023-05-12T13:02:50.150Z"
   },
   {
    "duration": 13,
    "start_time": "2023-05-12T13:02:50.193Z"
   },
   {
    "duration": 1552,
    "start_time": "2023-05-12T13:02:50.208Z"
   },
   {
    "duration": 7298,
    "start_time": "2023-05-12T13:02:51.761Z"
   },
   {
    "duration": 255,
    "start_time": "2023-05-12T13:02:59.063Z"
   },
   {
    "duration": 537,
    "start_time": "2023-05-12T13:02:59.322Z"
   },
   {
    "duration": 156,
    "start_time": "2023-05-12T13:02:59.862Z"
   },
   {
    "duration": 0,
    "start_time": "2023-05-12T13:03:00.020Z"
   },
   {
    "duration": 0,
    "start_time": "2023-05-12T13:03:00.021Z"
   },
   {
    "duration": 0,
    "start_time": "2023-05-12T13:03:00.023Z"
   },
   {
    "duration": 0,
    "start_time": "2023-05-12T13:03:00.023Z"
   },
   {
    "duration": 0,
    "start_time": "2023-05-12T13:03:00.050Z"
   },
   {
    "duration": 0,
    "start_time": "2023-05-12T13:03:00.051Z"
   },
   {
    "duration": 0,
    "start_time": "2023-05-12T13:03:00.051Z"
   },
   {
    "duration": 0,
    "start_time": "2023-05-12T13:03:00.052Z"
   },
   {
    "duration": 0,
    "start_time": "2023-05-12T13:03:00.052Z"
   },
   {
    "duration": 0,
    "start_time": "2023-05-12T13:03:00.053Z"
   },
   {
    "duration": 0,
    "start_time": "2023-05-12T13:03:00.054Z"
   },
   {
    "duration": 0,
    "start_time": "2023-05-12T13:03:00.054Z"
   },
   {
    "duration": 0,
    "start_time": "2023-05-12T13:03:00.056Z"
   },
   {
    "duration": 0,
    "start_time": "2023-05-12T13:03:00.057Z"
   },
   {
    "duration": 0,
    "start_time": "2023-05-12T13:03:00.058Z"
   },
   {
    "duration": 0,
    "start_time": "2023-05-12T13:03:00.059Z"
   },
   {
    "duration": 0,
    "start_time": "2023-05-12T13:03:00.059Z"
   },
   {
    "duration": 0,
    "start_time": "2023-05-12T13:03:00.061Z"
   },
   {
    "duration": 0,
    "start_time": "2023-05-12T13:03:00.062Z"
   },
   {
    "duration": 0,
    "start_time": "2023-05-12T13:03:00.063Z"
   },
   {
    "duration": 81,
    "start_time": "2023-05-12T13:06:01.039Z"
   },
   {
    "duration": 10,
    "start_time": "2023-05-12T13:07:19.006Z"
   },
   {
    "duration": 18,
    "start_time": "2023-05-12T13:08:12.791Z"
   },
   {
    "duration": 12,
    "start_time": "2023-05-12T13:09:05.520Z"
   },
   {
    "duration": 18,
    "start_time": "2023-05-12T13:10:12.668Z"
   },
   {
    "duration": 17,
    "start_time": "2023-05-12T13:10:13.390Z"
   },
   {
    "duration": 660,
    "start_time": "2023-05-12T13:10:18.895Z"
   },
   {
    "duration": 8,
    "start_time": "2023-05-12T13:11:28.598Z"
   },
   {
    "duration": 9,
    "start_time": "2023-05-12T13:11:43.226Z"
   },
   {
    "duration": 4,
    "start_time": "2023-05-12T13:11:48.894Z"
   },
   {
    "duration": 706,
    "start_time": "2023-05-12T13:12:37.898Z"
   },
   {
    "duration": 26392,
    "start_time": "2023-05-12T13:12:38.606Z"
   },
   {
    "duration": 793,
    "start_time": "2023-05-12T13:13:05.000Z"
   },
   {
    "duration": 1358,
    "start_time": "2023-05-12T13:13:05.794Z"
   },
   {
    "duration": 2,
    "start_time": "2023-05-12T13:13:07.157Z"
   },
   {
    "duration": 42,
    "start_time": "2023-05-12T13:13:07.161Z"
   },
   {
    "duration": 158,
    "start_time": "2023-05-12T13:13:07.207Z"
   },
   {
    "duration": 9718,
    "start_time": "2023-05-12T13:13:07.367Z"
   },
   {
    "duration": 164,
    "start_time": "2023-05-12T13:13:17.086Z"
   },
   {
    "duration": 1006,
    "start_time": "2023-05-12T13:13:17.254Z"
   },
   {
    "duration": 4819,
    "start_time": "2023-05-12T13:13:18.261Z"
   },
   {
    "duration": 115,
    "start_time": "2023-05-12T13:13:23.083Z"
   },
   {
    "duration": 1614,
    "start_time": "2023-05-12T13:13:23.200Z"
   },
   {
    "duration": 18,
    "start_time": "2023-05-12T13:13:24.856Z"
   },
   {
    "duration": 1642,
    "start_time": "2023-05-12T13:13:24.876Z"
   },
   {
    "duration": 76,
    "start_time": "2023-05-12T13:13:26.519Z"
   },
   {
    "duration": 68,
    "start_time": "2023-05-12T13:13:26.597Z"
   },
   {
    "duration": 16,
    "start_time": "2023-05-12T13:13:26.666Z"
   },
   {
    "duration": 2309,
    "start_time": "2023-05-12T13:13:26.683Z"
   },
   {
    "duration": 5,
    "start_time": "2023-05-12T13:13:28.993Z"
   },
   {
    "duration": 8003,
    "start_time": "2023-05-12T13:13:29.002Z"
   },
   {
    "duration": 356,
    "start_time": "2023-05-12T13:13:37.007Z"
   },
   {
    "duration": 543,
    "start_time": "2023-05-12T13:13:37.369Z"
   },
   {
    "duration": 118,
    "start_time": "2023-05-12T13:13:37.951Z"
   },
   {
    "duration": 0,
    "start_time": "2023-05-12T13:13:38.071Z"
   },
   {
    "duration": 0,
    "start_time": "2023-05-12T13:13:38.073Z"
   },
   {
    "duration": 0,
    "start_time": "2023-05-12T13:13:38.074Z"
   },
   {
    "duration": 0,
    "start_time": "2023-05-12T13:13:38.075Z"
   },
   {
    "duration": 0,
    "start_time": "2023-05-12T13:13:38.076Z"
   },
   {
    "duration": 0,
    "start_time": "2023-05-12T13:13:38.077Z"
   },
   {
    "duration": 0,
    "start_time": "2023-05-12T13:13:38.079Z"
   },
   {
    "duration": 0,
    "start_time": "2023-05-12T13:13:38.080Z"
   },
   {
    "duration": 0,
    "start_time": "2023-05-12T13:13:38.081Z"
   },
   {
    "duration": 0,
    "start_time": "2023-05-12T13:13:38.082Z"
   },
   {
    "duration": 1,
    "start_time": "2023-05-12T13:13:38.083Z"
   },
   {
    "duration": 0,
    "start_time": "2023-05-12T13:13:38.085Z"
   },
   {
    "duration": 0,
    "start_time": "2023-05-12T13:13:38.086Z"
   },
   {
    "duration": 0,
    "start_time": "2023-05-12T13:13:38.087Z"
   },
   {
    "duration": 0,
    "start_time": "2023-05-12T13:13:38.088Z"
   },
   {
    "duration": 1,
    "start_time": "2023-05-12T13:13:38.089Z"
   },
   {
    "duration": 0,
    "start_time": "2023-05-12T13:13:38.091Z"
   },
   {
    "duration": 0,
    "start_time": "2023-05-12T13:13:38.092Z"
   },
   {
    "duration": 0,
    "start_time": "2023-05-12T13:13:38.093Z"
   },
   {
    "duration": 0,
    "start_time": "2023-05-12T13:13:38.095Z"
   },
   {
    "duration": 0,
    "start_time": "2023-05-12T13:13:38.096Z"
   },
   {
    "duration": 142,
    "start_time": "2023-05-12T13:14:07.103Z"
   },
   {
    "duration": 119,
    "start_time": "2023-05-12T13:15:50.539Z"
   },
   {
    "duration": 15,
    "start_time": "2023-05-12T13:15:56.922Z"
   },
   {
    "duration": 398,
    "start_time": "2023-05-12T13:17:57.003Z"
   },
   {
    "duration": 148,
    "start_time": "2023-05-12T13:22:13.803Z"
   },
   {
    "duration": 6,
    "start_time": "2023-05-12T13:22:16.870Z"
   },
   {
    "duration": 1144,
    "start_time": "2023-05-12T13:22:18.038Z"
   },
   {
    "duration": 313,
    "start_time": "2023-05-12T13:22:23.605Z"
   },
   {
    "duration": 36,
    "start_time": "2023-05-12T13:22:26.079Z"
   },
   {
    "duration": 27,
    "start_time": "2023-05-12T13:22:27.000Z"
   },
   {
    "duration": 829,
    "start_time": "2023-05-12T13:22:27.677Z"
   },
   {
    "duration": 52,
    "start_time": "2023-05-12T13:22:28.508Z"
   },
   {
    "duration": 340,
    "start_time": "2023-05-12T13:22:34.840Z"
   },
   {
    "duration": 2490,
    "start_time": "2023-05-12T13:22:37.195Z"
   },
   {
    "duration": 3428,
    "start_time": "2023-05-12T13:22:42.379Z"
   },
   {
    "duration": 1053,
    "start_time": "2023-05-12T13:22:48.321Z"
   },
   {
    "duration": 14,
    "start_time": "2023-05-12T13:22:54.196Z"
   },
   {
    "duration": 3004,
    "start_time": "2023-05-12T13:22:57.256Z"
   },
   {
    "duration": 989,
    "start_time": "2023-05-12T13:23:00.271Z"
   },
   {
    "duration": 25,
    "start_time": "2023-05-12T13:23:01.264Z"
   },
   {
    "duration": 24,
    "start_time": "2023-05-12T13:23:01.292Z"
   },
   {
    "duration": 86,
    "start_time": "2023-05-12T13:23:01.351Z"
   },
   {
    "duration": 1227,
    "start_time": "2023-05-12T13:24:23.094Z"
   },
   {
    "duration": 4,
    "start_time": "2023-05-12T13:24:26.820Z"
   },
   {
    "duration": 3,
    "start_time": "2023-05-12T13:28:35.795Z"
   },
   {
    "duration": 120,
    "start_time": "2023-05-12T13:28:53.840Z"
   },
   {
    "duration": 707,
    "start_time": "2023-05-12T13:29:06.092Z"
   },
   {
    "duration": 26503,
    "start_time": "2023-05-12T13:29:06.801Z"
   },
   {
    "duration": 983,
    "start_time": "2023-05-12T13:29:33.306Z"
   },
   {
    "duration": 1329,
    "start_time": "2023-05-12T13:29:34.351Z"
   },
   {
    "duration": 9,
    "start_time": "2023-05-12T13:29:35.681Z"
   },
   {
    "duration": 26,
    "start_time": "2023-05-12T13:29:35.691Z"
   },
   {
    "duration": 98,
    "start_time": "2023-05-12T13:29:35.719Z"
   },
   {
    "duration": 9961,
    "start_time": "2023-05-12T13:29:35.819Z"
   },
   {
    "duration": 126,
    "start_time": "2023-05-12T13:29:45.781Z"
   },
   {
    "duration": 1128,
    "start_time": "2023-05-12T13:29:45.955Z"
   },
   {
    "duration": 5209,
    "start_time": "2023-05-12T13:29:47.088Z"
   },
   {
    "duration": 108,
    "start_time": "2023-05-12T13:29:52.354Z"
   },
   {
    "duration": 1290,
    "start_time": "2023-05-12T13:29:52.464Z"
   },
   {
    "duration": 14,
    "start_time": "2023-05-12T13:29:53.755Z"
   },
   {
    "duration": 1378,
    "start_time": "2023-05-12T13:29:53.774Z"
   },
   {
    "duration": 15,
    "start_time": "2023-05-12T13:29:55.159Z"
   },
   {
    "duration": 2090,
    "start_time": "2023-05-12T13:29:55.175Z"
   },
   {
    "duration": 2147,
    "start_time": "2023-05-12T13:29:57.266Z"
   },
   {
    "duration": 863,
    "start_time": "2023-05-12T13:29:59.415Z"
   },
   {
    "duration": 173,
    "start_time": "2023-05-12T13:30:00.279Z"
   },
   {
    "duration": 101,
    "start_time": "2023-05-12T13:30:00.455Z"
   },
   {
    "duration": 1153,
    "start_time": "2023-05-12T13:30:00.558Z"
   },
   {
    "duration": 8,
    "start_time": "2023-05-12T13:30:01.752Z"
   },
   {
    "duration": 508,
    "start_time": "2023-05-12T13:30:01.761Z"
   },
   {
    "duration": 455,
    "start_time": "2023-05-12T13:30:02.272Z"
   },
   {
    "duration": 0,
    "start_time": "2023-05-12T13:30:02.728Z"
   },
   {
    "duration": 0,
    "start_time": "2023-05-12T13:30:02.732Z"
   },
   {
    "duration": 0,
    "start_time": "2023-05-12T13:30:02.733Z"
   },
   {
    "duration": 0,
    "start_time": "2023-05-12T13:30:02.734Z"
   },
   {
    "duration": 0,
    "start_time": "2023-05-12T13:30:02.735Z"
   },
   {
    "duration": 0,
    "start_time": "2023-05-12T13:30:02.736Z"
   },
   {
    "duration": 0,
    "start_time": "2023-05-12T13:30:02.737Z"
   },
   {
    "duration": 709,
    "start_time": "2023-05-12T13:40:04.797Z"
   },
   {
    "duration": 26584,
    "start_time": "2023-05-12T13:40:05.508Z"
   },
   {
    "duration": 1062,
    "start_time": "2023-05-12T13:40:32.094Z"
   },
   {
    "duration": 1426,
    "start_time": "2023-05-12T13:40:33.161Z"
   },
   {
    "duration": 6,
    "start_time": "2023-05-12T13:40:34.589Z"
   },
   {
    "duration": 22,
    "start_time": "2023-05-12T13:40:34.597Z"
   },
   {
    "duration": 98,
    "start_time": "2023-05-12T13:40:34.623Z"
   },
   {
    "duration": 10309,
    "start_time": "2023-05-12T13:40:34.750Z"
   },
   {
    "duration": 127,
    "start_time": "2023-05-12T13:40:45.060Z"
   },
   {
    "duration": 1092,
    "start_time": "2023-05-12T13:40:45.190Z"
   },
   {
    "duration": 4922,
    "start_time": "2023-05-12T13:40:46.283Z"
   },
   {
    "duration": 60,
    "start_time": "2023-05-12T13:40:51.253Z"
   },
   {
    "duration": 1368,
    "start_time": "2023-05-12T13:40:51.315Z"
   },
   {
    "duration": 17,
    "start_time": "2023-05-12T13:40:52.688Z"
   },
   {
    "duration": 1277,
    "start_time": "2023-05-12T13:40:52.707Z"
   },
   {
    "duration": 12,
    "start_time": "2023-05-12T13:40:53.986Z"
   },
   {
    "duration": 1900,
    "start_time": "2023-05-12T13:40:54.002Z"
   },
   {
    "duration": 1905,
    "start_time": "2023-05-12T13:40:55.904Z"
   },
   {
    "duration": 667,
    "start_time": "2023-05-12T13:40:57.812Z"
   },
   {
    "duration": 123,
    "start_time": "2023-05-12T13:40:58.481Z"
   },
   {
    "duration": 102,
    "start_time": "2023-05-12T13:40:58.606Z"
   },
   {
    "duration": 1283,
    "start_time": "2023-05-12T13:40:58.710Z"
   },
   {
    "duration": 55,
    "start_time": "2023-05-12T13:40:59.999Z"
   },
   {
    "duration": 458,
    "start_time": "2023-05-12T13:41:00.056Z"
   },
   {
    "duration": 441,
    "start_time": "2023-05-12T13:41:00.550Z"
   },
   {
    "duration": 0,
    "start_time": "2023-05-12T13:41:00.994Z"
   },
   {
    "duration": 0,
    "start_time": "2023-05-12T13:41:00.995Z"
   },
   {
    "duration": 0,
    "start_time": "2023-05-12T13:41:00.997Z"
   },
   {
    "duration": 0,
    "start_time": "2023-05-12T13:41:00.998Z"
   },
   {
    "duration": 0,
    "start_time": "2023-05-12T13:41:01.000Z"
   },
   {
    "duration": 0,
    "start_time": "2023-05-12T13:41:01.002Z"
   },
   {
    "duration": 0,
    "start_time": "2023-05-12T13:41:01.004Z"
   },
   {
    "duration": 739,
    "start_time": "2023-05-12T13:42:56.269Z"
   },
   {
    "duration": 27755,
    "start_time": "2023-05-12T13:42:57.010Z"
   },
   {
    "duration": 726,
    "start_time": "2023-05-12T13:43:24.767Z"
   },
   {
    "duration": 1368,
    "start_time": "2023-05-12T13:43:25.551Z"
   },
   {
    "duration": 32,
    "start_time": "2023-05-12T13:43:26.922Z"
   },
   {
    "duration": 40,
    "start_time": "2023-05-12T13:43:26.956Z"
   },
   {
    "duration": 80,
    "start_time": "2023-05-12T13:43:27.000Z"
   },
   {
    "duration": 11507,
    "start_time": "2023-05-12T13:43:27.082Z"
   },
   {
    "duration": 99,
    "start_time": "2023-05-12T13:43:38.590Z"
   },
   {
    "duration": 1463,
    "start_time": "2023-05-12T13:43:38.690Z"
   },
   {
    "duration": 5140,
    "start_time": "2023-05-12T13:43:40.154Z"
   },
   {
    "duration": 110,
    "start_time": "2023-05-12T13:43:45.296Z"
   },
   {
    "duration": 1792,
    "start_time": "2023-05-12T13:43:45.408Z"
   },
   {
    "duration": 70,
    "start_time": "2023-05-12T13:43:47.204Z"
   },
   {
    "duration": 1583,
    "start_time": "2023-05-12T13:43:47.276Z"
   },
   {
    "duration": 14,
    "start_time": "2023-05-12T13:43:48.860Z"
   },
   {
    "duration": 1990,
    "start_time": "2023-05-12T13:43:48.876Z"
   },
   {
    "duration": 607,
    "start_time": "2023-05-12T13:43:50.867Z"
   },
   {
    "duration": 120,
    "start_time": "2023-05-12T13:43:51.476Z"
   },
   {
    "duration": 67,
    "start_time": "2023-05-12T13:43:51.597Z"
   },
   {
    "duration": 1506,
    "start_time": "2023-05-12T13:43:51.666Z"
   },
   {
    "duration": 10,
    "start_time": "2023-05-12T13:43:53.174Z"
   },
   {
    "duration": 579,
    "start_time": "2023-05-12T13:43:53.185Z"
   },
   {
    "duration": 3433,
    "start_time": "2023-05-12T13:43:53.765Z"
   },
   {
    "duration": 4965,
    "start_time": "2023-05-12T13:43:57.200Z"
   },
   {
    "duration": 1006,
    "start_time": "2023-05-12T13:44:02.171Z"
   },
   {
    "duration": 13,
    "start_time": "2023-05-12T13:44:03.178Z"
   },
   {
    "duration": 3192,
    "start_time": "2023-05-12T13:44:03.193Z"
   },
   {
    "duration": 914,
    "start_time": "2023-05-12T13:44:06.387Z"
   },
   {
    "duration": 8,
    "start_time": "2023-05-12T13:44:07.303Z"
   },
   {
    "duration": 12,
    "start_time": "2023-05-12T13:44:07.351Z"
   },
   {
    "duration": 19,
    "start_time": "2023-05-12T13:44:07.365Z"
   },
   {
    "duration": 498,
    "start_time": "2023-05-12T13:44:53.848Z"
   },
   {
    "duration": 412,
    "start_time": "2023-05-12T13:57:49.086Z"
   },
   {
    "duration": 787,
    "start_time": "2023-05-12T13:57:58.079Z"
   },
   {
    "duration": 27122,
    "start_time": "2023-05-12T13:57:58.868Z"
   },
   {
    "duration": 917,
    "start_time": "2023-05-12T13:58:25.992Z"
   },
   {
    "duration": 1558,
    "start_time": "2023-05-12T13:58:26.911Z"
   },
   {
    "duration": 9,
    "start_time": "2023-05-12T13:58:28.472Z"
   },
   {
    "duration": 28,
    "start_time": "2023-05-12T13:58:28.484Z"
   },
   {
    "duration": 169,
    "start_time": "2023-05-12T13:58:28.514Z"
   },
   {
    "duration": 11210,
    "start_time": "2023-05-12T13:58:28.684Z"
   },
   {
    "duration": 174,
    "start_time": "2023-05-12T13:58:39.896Z"
   },
   {
    "duration": 885,
    "start_time": "2023-05-12T13:58:40.071Z"
   },
   {
    "duration": 5243,
    "start_time": "2023-05-12T13:58:40.958Z"
   },
   {
    "duration": 46,
    "start_time": "2023-05-12T13:58:46.254Z"
   },
   {
    "duration": 1653,
    "start_time": "2023-05-12T13:58:46.352Z"
   },
   {
    "duration": 23,
    "start_time": "2023-05-12T13:58:48.054Z"
   },
   {
    "duration": 1524,
    "start_time": "2023-05-12T13:58:48.079Z"
   },
   {
    "duration": 7,
    "start_time": "2023-05-12T13:58:49.653Z"
   },
   {
    "duration": 2301,
    "start_time": "2023-05-12T13:58:49.663Z"
   },
   {
    "duration": 728,
    "start_time": "2023-05-12T13:58:51.965Z"
   },
   {
    "duration": 101,
    "start_time": "2023-05-12T13:58:52.695Z"
   },
   {
    "duration": 102,
    "start_time": "2023-05-12T13:58:52.799Z"
   },
   {
    "duration": 1670,
    "start_time": "2023-05-12T13:58:52.904Z"
   },
   {
    "duration": 11,
    "start_time": "2023-05-12T13:58:54.576Z"
   },
   {
    "duration": 481,
    "start_time": "2023-05-12T13:58:54.589Z"
   },
   {
    "duration": 3194,
    "start_time": "2023-05-12T13:58:55.071Z"
   },
   {
    "duration": 5444,
    "start_time": "2023-05-12T13:58:58.267Z"
   },
   {
    "duration": 967,
    "start_time": "2023-05-12T13:59:03.752Z"
   },
   {
    "duration": 9,
    "start_time": "2023-05-12T13:59:04.752Z"
   },
   {
    "duration": 3111,
    "start_time": "2023-05-12T13:59:04.763Z"
   },
   {
    "duration": 1024,
    "start_time": "2023-05-12T13:59:07.881Z"
   },
   {
    "duration": 10,
    "start_time": "2023-05-12T13:59:08.907Z"
   },
   {
    "duration": 47,
    "start_time": "2023-05-12T13:59:08.919Z"
   },
   {
    "duration": 18,
    "start_time": "2023-05-12T13:59:08.970Z"
   },
   {
    "duration": 917,
    "start_time": "2023-05-12T13:59:08.990Z"
   },
   {
    "duration": 748,
    "start_time": "2023-05-12T14:10:29.735Z"
   },
   {
    "duration": 26483,
    "start_time": "2023-05-12T14:10:30.485Z"
   },
   {
    "duration": 915,
    "start_time": "2023-05-12T14:10:56.970Z"
   },
   {
    "duration": 1371,
    "start_time": "2023-05-12T14:10:57.887Z"
   },
   {
    "duration": 3,
    "start_time": "2023-05-12T14:10:59.261Z"
   },
   {
    "duration": 28,
    "start_time": "2023-05-12T14:10:59.266Z"
   },
   {
    "duration": 176,
    "start_time": "2023-05-12T14:10:59.296Z"
   },
   {
    "duration": 10300,
    "start_time": "2023-05-12T14:10:59.477Z"
   },
   {
    "duration": 113,
    "start_time": "2023-05-12T14:11:09.779Z"
   },
   {
    "duration": 994,
    "start_time": "2023-05-12T14:11:09.894Z"
   },
   {
    "duration": 4394,
    "start_time": "2023-05-12T14:11:10.890Z"
   },
   {
    "duration": 108,
    "start_time": "2023-05-12T14:11:15.286Z"
   },
   {
    "duration": 1495,
    "start_time": "2023-05-12T14:11:15.398Z"
   },
   {
    "duration": 9,
    "start_time": "2023-05-12T14:11:16.896Z"
   },
   {
    "duration": 1233,
    "start_time": "2023-05-12T14:11:16.954Z"
   },
   {
    "duration": 184,
    "start_time": "2023-05-12T14:11:18.189Z"
   },
   {
    "duration": 0,
    "start_time": "2023-05-12T14:11:18.374Z"
   },
   {
    "duration": 0,
    "start_time": "2023-05-12T14:11:18.375Z"
   },
   {
    "duration": 0,
    "start_time": "2023-05-12T14:11:18.376Z"
   },
   {
    "duration": 0,
    "start_time": "2023-05-12T14:11:18.380Z"
   },
   {
    "duration": 0,
    "start_time": "2023-05-12T14:11:18.381Z"
   },
   {
    "duration": 0,
    "start_time": "2023-05-12T14:11:18.384Z"
   },
   {
    "duration": 0,
    "start_time": "2023-05-12T14:11:18.385Z"
   },
   {
    "duration": 0,
    "start_time": "2023-05-12T14:11:18.386Z"
   },
   {
    "duration": 0,
    "start_time": "2023-05-12T14:11:18.388Z"
   },
   {
    "duration": 0,
    "start_time": "2023-05-12T14:11:18.389Z"
   },
   {
    "duration": 0,
    "start_time": "2023-05-12T14:11:18.391Z"
   },
   {
    "duration": 0,
    "start_time": "2023-05-12T14:11:18.393Z"
   },
   {
    "duration": 0,
    "start_time": "2023-05-12T14:11:18.393Z"
   },
   {
    "duration": 0,
    "start_time": "2023-05-12T14:11:18.395Z"
   },
   {
    "duration": 0,
    "start_time": "2023-05-12T14:11:18.396Z"
   },
   {
    "duration": 0,
    "start_time": "2023-05-12T14:11:18.397Z"
   },
   {
    "duration": 0,
    "start_time": "2023-05-12T14:11:18.398Z"
   },
   {
    "duration": 0,
    "start_time": "2023-05-12T14:11:18.399Z"
   },
   {
    "duration": 1577,
    "start_time": "2023-05-12T14:11:36.315Z"
   },
   {
    "duration": 2,
    "start_time": "2023-05-12T14:11:53.021Z"
   },
   {
    "duration": 3,
    "start_time": "2023-05-12T14:12:02.334Z"
   },
   {
    "duration": 907,
    "start_time": "2023-05-12T14:12:03.084Z"
   },
   {
    "duration": 1808,
    "start_time": "2023-05-12T14:12:45.297Z"
   },
   {
    "duration": 686,
    "start_time": "2023-05-12T14:13:21.995Z"
   },
   {
    "duration": 25173,
    "start_time": "2023-05-12T14:13:22.683Z"
   },
   {
    "duration": 822,
    "start_time": "2023-05-12T14:13:47.859Z"
   },
   {
    "duration": 1319,
    "start_time": "2023-05-12T14:13:48.684Z"
   },
   {
    "duration": 2,
    "start_time": "2023-05-12T14:13:50.005Z"
   },
   {
    "duration": 67,
    "start_time": "2023-05-12T14:13:50.009Z"
   },
   {
    "duration": 107,
    "start_time": "2023-05-12T14:13:50.078Z"
   },
   {
    "duration": 9794,
    "start_time": "2023-05-12T14:13:50.187Z"
   },
   {
    "duration": 185,
    "start_time": "2023-05-12T14:13:59.984Z"
   },
   {
    "duration": 1103,
    "start_time": "2023-05-12T14:14:00.171Z"
   },
   {
    "duration": 4517,
    "start_time": "2023-05-12T14:14:01.276Z"
   },
   {
    "duration": 91,
    "start_time": "2023-05-12T14:14:05.795Z"
   },
   {
    "duration": 1597,
    "start_time": "2023-05-12T14:14:05.888Z"
   },
   {
    "duration": 11,
    "start_time": "2023-05-12T14:14:07.488Z"
   },
   {
    "duration": 1077,
    "start_time": "2023-05-12T14:14:07.501Z"
   },
   {
    "duration": 3,
    "start_time": "2023-05-12T14:14:08.579Z"
   },
   {
    "duration": 1708,
    "start_time": "2023-05-12T14:14:08.584Z"
   },
   {
    "duration": 2093,
    "start_time": "2023-05-12T14:14:10.294Z"
   },
   {
    "duration": 126,
    "start_time": "2023-05-12T14:14:12.389Z"
   },
   {
    "duration": 0,
    "start_time": "2023-05-12T14:14:12.517Z"
   },
   {
    "duration": 0,
    "start_time": "2023-05-12T14:14:12.519Z"
   },
   {
    "duration": 0,
    "start_time": "2023-05-12T14:14:12.520Z"
   },
   {
    "duration": 0,
    "start_time": "2023-05-12T14:14:12.521Z"
   },
   {
    "duration": 0,
    "start_time": "2023-05-12T14:14:12.522Z"
   },
   {
    "duration": 0,
    "start_time": "2023-05-12T14:14:12.524Z"
   },
   {
    "duration": 0,
    "start_time": "2023-05-12T14:14:12.525Z"
   },
   {
    "duration": 0,
    "start_time": "2023-05-12T14:14:12.527Z"
   },
   {
    "duration": 0,
    "start_time": "2023-05-12T14:14:12.528Z"
   },
   {
    "duration": 0,
    "start_time": "2023-05-12T14:14:12.529Z"
   },
   {
    "duration": 0,
    "start_time": "2023-05-12T14:14:12.530Z"
   },
   {
    "duration": 0,
    "start_time": "2023-05-12T14:14:12.550Z"
   },
   {
    "duration": 0,
    "start_time": "2023-05-12T14:14:12.551Z"
   },
   {
    "duration": 0,
    "start_time": "2023-05-12T14:14:12.554Z"
   },
   {
    "duration": 0,
    "start_time": "2023-05-12T14:14:12.556Z"
   },
   {
    "duration": 931,
    "start_time": "2023-05-12T14:15:12.243Z"
   },
   {
    "duration": 94,
    "start_time": "2023-05-12T14:15:35.487Z"
   },
   {
    "duration": 49,
    "start_time": "2023-05-12T14:15:59.084Z"
   },
   {
    "duration": 250,
    "start_time": "2023-05-12T14:16:03.725Z"
   },
   {
    "duration": 117,
    "start_time": "2023-05-12T14:16:13.842Z"
   },
   {
    "duration": 678,
    "start_time": "2023-05-12T14:16:39.082Z"
   },
   {
    "duration": 672,
    "start_time": "2023-05-12T14:17:02.689Z"
   },
   {
    "duration": 647,
    "start_time": "2023-05-12T14:17:56.513Z"
   },
   {
    "duration": 26905,
    "start_time": "2023-05-12T14:17:57.162Z"
   },
   {
    "duration": 885,
    "start_time": "2023-05-12T14:18:24.069Z"
   },
   {
    "duration": 1199,
    "start_time": "2023-05-12T14:18:24.963Z"
   },
   {
    "duration": 4,
    "start_time": "2023-05-12T14:18:26.172Z"
   },
   {
    "duration": 14,
    "start_time": "2023-05-12T14:18:26.179Z"
   },
   {
    "duration": 166,
    "start_time": "2023-05-12T14:18:26.195Z"
   },
   {
    "duration": 9716,
    "start_time": "2023-05-12T14:18:26.363Z"
   },
   {
    "duration": 104,
    "start_time": "2023-05-12T14:18:36.082Z"
   },
   {
    "duration": 979,
    "start_time": "2023-05-12T14:18:36.187Z"
   },
   {
    "duration": 5095,
    "start_time": "2023-05-12T14:18:37.167Z"
   },
   {
    "duration": 107,
    "start_time": "2023-05-12T14:18:42.264Z"
   },
   {
    "duration": 1078,
    "start_time": "2023-05-12T14:18:42.373Z"
   },
   {
    "duration": 16,
    "start_time": "2023-05-12T14:18:43.457Z"
   },
   {
    "duration": 1214,
    "start_time": "2023-05-12T14:18:43.475Z"
   },
   {
    "duration": 4,
    "start_time": "2023-05-12T14:18:44.691Z"
   },
   {
    "duration": 1495,
    "start_time": "2023-05-12T14:18:44.697Z"
   },
   {
    "duration": 2289,
    "start_time": "2023-05-12T14:18:46.194Z"
   },
   {
    "duration": 787,
    "start_time": "2023-05-12T14:18:48.484Z"
   },
   {
    "duration": 0,
    "start_time": "2023-05-12T14:18:49.273Z"
   },
   {
    "duration": 0,
    "start_time": "2023-05-12T14:18:49.274Z"
   },
   {
    "duration": 0,
    "start_time": "2023-05-12T14:18:49.275Z"
   },
   {
    "duration": 0,
    "start_time": "2023-05-12T14:18:49.276Z"
   },
   {
    "duration": 0,
    "start_time": "2023-05-12T14:18:49.278Z"
   },
   {
    "duration": 0,
    "start_time": "2023-05-12T14:18:49.279Z"
   },
   {
    "duration": 0,
    "start_time": "2023-05-12T14:18:49.281Z"
   },
   {
    "duration": 0,
    "start_time": "2023-05-12T14:18:49.282Z"
   },
   {
    "duration": 0,
    "start_time": "2023-05-12T14:18:49.283Z"
   },
   {
    "duration": 0,
    "start_time": "2023-05-12T14:18:49.284Z"
   },
   {
    "duration": 0,
    "start_time": "2023-05-12T14:18:49.285Z"
   },
   {
    "duration": 0,
    "start_time": "2023-05-12T14:18:49.286Z"
   },
   {
    "duration": 0,
    "start_time": "2023-05-12T14:18:49.287Z"
   },
   {
    "duration": 0,
    "start_time": "2023-05-12T14:18:49.288Z"
   },
   {
    "duration": 0,
    "start_time": "2023-05-12T14:18:49.289Z"
   },
   {
    "duration": 0,
    "start_time": "2023-05-12T14:18:49.290Z"
   },
   {
    "duration": 0,
    "start_time": "2023-05-12T14:18:49.291Z"
   },
   {
    "duration": 601,
    "start_time": "2023-05-12T14:31:44.579Z"
   },
   {
    "duration": 746,
    "start_time": "2023-05-12T14:32:07.048Z"
   },
   {
    "duration": 619,
    "start_time": "2023-05-12T14:33:15.236Z"
   },
   {
    "duration": 16,
    "start_time": "2023-05-12T14:36:32.287Z"
   },
   {
    "duration": 987,
    "start_time": "2023-05-12T14:37:57.995Z"
   },
   {
    "duration": 570,
    "start_time": "2023-05-12T14:38:00.029Z"
   },
   {
    "duration": 19,
    "start_time": "2023-05-12T14:38:20.315Z"
   },
   {
    "duration": 21,
    "start_time": "2023-05-12T14:38:28.908Z"
   },
   {
    "duration": 10,
    "start_time": "2023-05-12T14:40:02.287Z"
   },
   {
    "duration": 9,
    "start_time": "2023-05-12T14:41:22.895Z"
   },
   {
    "duration": 648,
    "start_time": "2023-05-12T14:41:41.341Z"
   },
   {
    "duration": 23476,
    "start_time": "2023-05-12T14:41:41.991Z"
   },
   {
    "duration": 693,
    "start_time": "2023-05-12T14:42:05.469Z"
   },
   {
    "duration": 1115,
    "start_time": "2023-05-12T14:42:06.164Z"
   },
   {
    "duration": 2,
    "start_time": "2023-05-12T14:42:07.281Z"
   },
   {
    "duration": 78,
    "start_time": "2023-05-12T14:42:07.285Z"
   },
   {
    "duration": 99,
    "start_time": "2023-05-12T14:42:07.365Z"
   },
   {
    "duration": 7891,
    "start_time": "2023-05-12T14:42:07.465Z"
   },
   {
    "duration": 100,
    "start_time": "2023-05-12T14:42:15.358Z"
   },
   {
    "duration": 796,
    "start_time": "2023-05-12T14:42:15.461Z"
   },
   {
    "duration": 4314,
    "start_time": "2023-05-12T14:42:16.259Z"
   },
   {
    "duration": 77,
    "start_time": "2023-05-12T14:42:20.575Z"
   },
   {
    "duration": 905,
    "start_time": "2023-05-12T14:42:20.653Z"
   },
   {
    "duration": 8,
    "start_time": "2023-05-12T14:42:21.560Z"
   },
   {
    "duration": 1082,
    "start_time": "2023-05-12T14:42:21.570Z"
   },
   {
    "duration": 1197,
    "start_time": "2023-05-12T14:42:22.653Z"
   },
   {
    "duration": 1009,
    "start_time": "2023-05-12T14:42:23.853Z"
   },
   {
    "duration": 135,
    "start_time": "2023-05-12T14:42:24.864Z"
   },
   {
    "duration": 0,
    "start_time": "2023-05-12T14:42:25.000Z"
   },
   {
    "duration": 1,
    "start_time": "2023-05-12T14:42:25.001Z"
   },
   {
    "duration": 0,
    "start_time": "2023-05-12T14:42:25.003Z"
   },
   {
    "duration": 1,
    "start_time": "2023-05-12T14:42:25.003Z"
   },
   {
    "duration": 0,
    "start_time": "2023-05-12T14:42:25.004Z"
   },
   {
    "duration": 0,
    "start_time": "2023-05-12T14:42:25.005Z"
   },
   {
    "duration": 0,
    "start_time": "2023-05-12T14:42:25.006Z"
   },
   {
    "duration": 0,
    "start_time": "2023-05-12T14:42:25.007Z"
   },
   {
    "duration": 0,
    "start_time": "2023-05-12T14:42:25.010Z"
   },
   {
    "duration": 0,
    "start_time": "2023-05-12T14:42:25.011Z"
   },
   {
    "duration": 0,
    "start_time": "2023-05-12T14:42:25.012Z"
   },
   {
    "duration": 0,
    "start_time": "2023-05-12T14:42:25.013Z"
   },
   {
    "duration": 0,
    "start_time": "2023-05-12T14:42:25.014Z"
   },
   {
    "duration": 0,
    "start_time": "2023-05-12T14:42:25.015Z"
   },
   {
    "duration": 0,
    "start_time": "2023-05-12T14:42:25.016Z"
   },
   {
    "duration": 0,
    "start_time": "2023-05-12T14:42:25.050Z"
   },
   {
    "duration": 0,
    "start_time": "2023-05-12T14:42:25.051Z"
   },
   {
    "duration": 8,
    "start_time": "2023-05-12T14:45:34.514Z"
   },
   {
    "duration": 3,
    "start_time": "2023-05-12T14:45:50.398Z"
   },
   {
    "duration": 34,
    "start_time": "2023-05-12T14:45:53.506Z"
   },
   {
    "duration": 9,
    "start_time": "2023-05-12T14:47:04.613Z"
   },
   {
    "duration": 2,
    "start_time": "2023-05-12T14:47:15.179Z"
   },
   {
    "duration": 23,
    "start_time": "2023-05-12T14:47:15.612Z"
   },
   {
    "duration": 17,
    "start_time": "2023-05-12T14:48:03.974Z"
   },
   {
    "duration": 3,
    "start_time": "2023-05-12T14:48:16.628Z"
   },
   {
    "duration": 1643,
    "start_time": "2023-05-12T14:48:17.847Z"
   },
   {
    "duration": 15,
    "start_time": "2023-05-12T14:49:32.891Z"
   },
   {
    "duration": 1030,
    "start_time": "2023-05-12T14:50:17.534Z"
   },
   {
    "duration": 174,
    "start_time": "2023-05-12T14:50:37.809Z"
   },
   {
    "duration": 630,
    "start_time": "2023-05-12T14:51:09.960Z"
   },
   {
    "duration": 924,
    "start_time": "2023-05-12T14:52:01.168Z"
   },
   {
    "duration": 216,
    "start_time": "2023-05-12T14:52:30.240Z"
   },
   {
    "duration": 390,
    "start_time": "2023-05-12T14:54:47.379Z"
   },
   {
    "duration": 99,
    "start_time": "2023-05-12T14:55:21.107Z"
   },
   {
    "duration": 668,
    "start_time": "2023-05-12T14:56:57.532Z"
   },
   {
    "duration": 24588,
    "start_time": "2023-05-12T14:56:58.202Z"
   },
   {
    "duration": 801,
    "start_time": "2023-05-12T14:57:22.851Z"
   },
   {
    "duration": 1204,
    "start_time": "2023-05-12T14:57:23.654Z"
   },
   {
    "duration": 6,
    "start_time": "2023-05-12T14:57:24.860Z"
   },
   {
    "duration": 12,
    "start_time": "2023-05-12T14:57:24.868Z"
   },
   {
    "duration": 108,
    "start_time": "2023-05-12T14:57:24.881Z"
   },
   {
    "duration": 9131,
    "start_time": "2023-05-12T14:57:25.050Z"
   },
   {
    "duration": 170,
    "start_time": "2023-05-12T14:57:34.183Z"
   },
   {
    "duration": 1013,
    "start_time": "2023-05-12T14:57:34.356Z"
   },
   {
    "duration": 4517,
    "start_time": "2023-05-12T14:57:35.371Z"
   },
   {
    "duration": 90,
    "start_time": "2023-05-12T14:57:39.890Z"
   },
   {
    "duration": 972,
    "start_time": "2023-05-12T14:57:39.982Z"
   },
   {
    "duration": 12,
    "start_time": "2023-05-12T14:57:40.956Z"
   },
   {
    "duration": 1111,
    "start_time": "2023-05-12T14:57:40.969Z"
   },
   {
    "duration": 1867,
    "start_time": "2023-05-12T14:57:42.083Z"
   },
   {
    "duration": 4,
    "start_time": "2023-05-12T14:57:43.952Z"
   },
   {
    "duration": 2225,
    "start_time": "2023-05-12T14:57:43.958Z"
   },
   {
    "duration": 1068,
    "start_time": "2023-05-12T14:57:46.185Z"
   },
   {
    "duration": 699,
    "start_time": "2023-05-12T14:57:47.254Z"
   },
   {
    "duration": 449,
    "start_time": "2023-05-12T14:57:47.955Z"
   },
   {
    "duration": 113,
    "start_time": "2023-05-12T14:57:48.406Z"
   },
   {
    "duration": 0,
    "start_time": "2023-05-12T14:57:48.521Z"
   },
   {
    "duration": 0,
    "start_time": "2023-05-12T14:57:48.523Z"
   },
   {
    "duration": 0,
    "start_time": "2023-05-12T14:57:48.524Z"
   },
   {
    "duration": 0,
    "start_time": "2023-05-12T14:57:48.525Z"
   },
   {
    "duration": 0,
    "start_time": "2023-05-12T14:57:48.526Z"
   },
   {
    "duration": 0,
    "start_time": "2023-05-12T14:57:48.527Z"
   },
   {
    "duration": 0,
    "start_time": "2023-05-12T14:57:48.528Z"
   },
   {
    "duration": 0,
    "start_time": "2023-05-12T14:57:48.529Z"
   },
   {
    "duration": 0,
    "start_time": "2023-05-12T14:57:48.530Z"
   },
   {
    "duration": 0,
    "start_time": "2023-05-12T14:57:48.552Z"
   },
   {
    "duration": 0,
    "start_time": "2023-05-12T14:57:48.553Z"
   },
   {
    "duration": 0,
    "start_time": "2023-05-12T14:57:48.555Z"
   },
   {
    "duration": 0,
    "start_time": "2023-05-12T14:57:48.556Z"
   },
   {
    "duration": 0,
    "start_time": "2023-05-12T14:57:48.558Z"
   },
   {
    "duration": 46,
    "start_time": "2023-05-12T15:00:45.512Z"
   },
   {
    "duration": 7,
    "start_time": "2023-05-12T15:01:54.443Z"
   },
   {
    "duration": 3,
    "start_time": "2023-05-12T15:02:23.907Z"
   },
   {
    "duration": 30,
    "start_time": "2023-05-12T15:02:28.943Z"
   },
   {
    "duration": 919,
    "start_time": "2023-05-12T15:03:21.842Z"
   },
   {
    "duration": 5,
    "start_time": "2023-05-12T15:03:41.433Z"
   },
   {
    "duration": 484,
    "start_time": "2023-05-12T15:04:00.280Z"
   },
   {
    "duration": 380,
    "start_time": "2023-05-12T15:04:53.291Z"
   },
   {
    "duration": 393,
    "start_time": "2023-05-12T15:06:58.562Z"
   },
   {
    "duration": 3389,
    "start_time": "2023-05-12T15:07:25.676Z"
   },
   {
    "duration": 107,
    "start_time": "2023-05-12T15:09:04.429Z"
   },
   {
    "duration": 684,
    "start_time": "2023-05-12T15:09:20.801Z"
   },
   {
    "duration": 24784,
    "start_time": "2023-05-12T15:09:21.487Z"
   },
   {
    "duration": 779,
    "start_time": "2023-05-12T15:09:46.272Z"
   },
   {
    "duration": 1116,
    "start_time": "2023-05-12T15:09:47.053Z"
   },
   {
    "duration": 3,
    "start_time": "2023-05-12T15:09:48.171Z"
   },
   {
    "duration": 27,
    "start_time": "2023-05-12T15:09:48.175Z"
   },
   {
    "duration": 157,
    "start_time": "2023-05-12T15:09:48.204Z"
   },
   {
    "duration": 8584,
    "start_time": "2023-05-12T15:09:48.366Z"
   },
   {
    "duration": 114,
    "start_time": "2023-05-12T15:09:56.952Z"
   },
   {
    "duration": 908,
    "start_time": "2023-05-12T15:09:57.068Z"
   },
   {
    "duration": 4676,
    "start_time": "2023-05-12T15:09:57.978Z"
   },
   {
    "duration": 33,
    "start_time": "2023-05-12T15:10:02.656Z"
   },
   {
    "duration": 1071,
    "start_time": "2023-05-12T15:10:02.691Z"
   },
   {
    "duration": 12,
    "start_time": "2023-05-12T15:10:03.765Z"
   },
   {
    "duration": 1505,
    "start_time": "2023-05-12T15:10:03.778Z"
   },
   {
    "duration": 1690,
    "start_time": "2023-05-12T15:10:05.284Z"
   },
   {
    "duration": 3,
    "start_time": "2023-05-12T15:10:06.976Z"
   },
   {
    "duration": 2185,
    "start_time": "2023-05-12T15:10:06.980Z"
   },
   {
    "duration": 1284,
    "start_time": "2023-05-12T15:10:09.167Z"
   },
   {
    "duration": 722,
    "start_time": "2023-05-12T15:10:10.453Z"
   },
   {
    "duration": 483,
    "start_time": "2023-05-12T15:10:11.176Z"
   },
   {
    "duration": 123,
    "start_time": "2023-05-12T15:10:11.661Z"
   },
   {
    "duration": 103,
    "start_time": "2023-05-12T15:10:11.786Z"
   },
   {
    "duration": 985,
    "start_time": "2023-05-12T15:10:11.891Z"
   },
   {
    "duration": 4,
    "start_time": "2023-05-12T15:10:12.878Z"
   },
   {
    "duration": 602,
    "start_time": "2023-05-12T15:10:12.884Z"
   },
   {
    "duration": 195,
    "start_time": "2023-05-12T15:10:13.488Z"
   },
   {
    "duration": 0,
    "start_time": "2023-05-12T15:10:13.685Z"
   },
   {
    "duration": 0,
    "start_time": "2023-05-12T15:10:13.687Z"
   },
   {
    "duration": 0,
    "start_time": "2023-05-12T15:10:13.688Z"
   },
   {
    "duration": 0,
    "start_time": "2023-05-12T15:10:13.689Z"
   },
   {
    "duration": 0,
    "start_time": "2023-05-12T15:10:13.691Z"
   },
   {
    "duration": 0,
    "start_time": "2023-05-12T15:10:13.692Z"
   },
   {
    "duration": 0,
    "start_time": "2023-05-12T15:10:13.755Z"
   },
   {
    "duration": 0,
    "start_time": "2023-05-12T15:10:13.757Z"
   },
   {
    "duration": 0,
    "start_time": "2023-05-12T15:10:13.758Z"
   },
   {
    "duration": 677,
    "start_time": "2023-05-12T15:15:22.411Z"
   },
   {
    "duration": 23780,
    "start_time": "2023-05-12T15:15:23.090Z"
   },
   {
    "duration": 779,
    "start_time": "2023-05-12T15:15:46.872Z"
   },
   {
    "duration": 1112,
    "start_time": "2023-05-12T15:15:47.654Z"
   },
   {
    "duration": 3,
    "start_time": "2023-05-12T15:15:48.768Z"
   },
   {
    "duration": 85,
    "start_time": "2023-05-12T15:15:48.773Z"
   },
   {
    "duration": 106,
    "start_time": "2023-05-12T15:15:48.860Z"
   },
   {
    "duration": 8004,
    "start_time": "2023-05-12T15:15:48.968Z"
   },
   {
    "duration": 110,
    "start_time": "2023-05-12T15:15:56.973Z"
   },
   {
    "duration": 791,
    "start_time": "2023-05-12T15:15:57.086Z"
   },
   {
    "duration": 4104,
    "start_time": "2023-05-12T15:15:57.879Z"
   },
   {
    "duration": 83,
    "start_time": "2023-05-12T15:16:01.984Z"
   },
   {
    "duration": 1009,
    "start_time": "2023-05-12T15:16:02.068Z"
   },
   {
    "duration": 73,
    "start_time": "2023-05-12T15:16:03.079Z"
   },
   {
    "duration": 1525,
    "start_time": "2023-05-12T15:16:03.154Z"
   },
   {
    "duration": 1698,
    "start_time": "2023-05-12T15:16:04.681Z"
   },
   {
    "duration": 4,
    "start_time": "2023-05-12T15:16:06.381Z"
   },
   {
    "duration": 2067,
    "start_time": "2023-05-12T15:16:06.387Z"
   },
   {
    "duration": 953,
    "start_time": "2023-05-12T15:16:08.456Z"
   },
   {
    "duration": 760,
    "start_time": "2023-05-12T15:16:09.411Z"
   },
   {
    "duration": 487,
    "start_time": "2023-05-12T15:16:10.173Z"
   },
   {
    "duration": 124,
    "start_time": "2023-05-12T15:16:10.663Z"
   },
   {
    "duration": 98,
    "start_time": "2023-05-12T15:16:10.789Z"
   },
   {
    "duration": 1871,
    "start_time": "2023-05-12T15:16:10.889Z"
   },
   {
    "duration": 689,
    "start_time": "2023-05-12T15:16:12.761Z"
   },
   {
    "duration": 1013,
    "start_time": "2023-05-12T15:16:13.452Z"
   },
   {
    "duration": 3194,
    "start_time": "2023-05-12T15:16:14.467Z"
   },
   {
    "duration": 497,
    "start_time": "2023-05-12T15:16:17.664Z"
   },
   {
    "duration": 11,
    "start_time": "2023-05-12T15:16:18.163Z"
   },
   {
    "duration": 189,
    "start_time": "2023-05-12T15:16:18.176Z"
   },
   {
    "duration": 0,
    "start_time": "2023-05-12T15:16:18.366Z"
   },
   {
    "duration": 0,
    "start_time": "2023-05-12T15:16:18.368Z"
   },
   {
    "duration": 0,
    "start_time": "2023-05-12T15:16:18.370Z"
   },
   {
    "duration": 0,
    "start_time": "2023-05-12T15:16:18.371Z"
   },
   {
    "duration": 0,
    "start_time": "2023-05-12T15:16:18.372Z"
   },
   {
    "duration": 0,
    "start_time": "2023-05-12T15:16:18.373Z"
   },
   {
    "duration": 735,
    "start_time": "2023-05-12T15:20:30.142Z"
   },
   {
    "duration": 23387,
    "start_time": "2023-05-12T15:20:30.879Z"
   },
   {
    "duration": 791,
    "start_time": "2023-05-12T15:20:54.269Z"
   },
   {
    "duration": 1005,
    "start_time": "2023-05-12T15:20:55.062Z"
   },
   {
    "duration": 2,
    "start_time": "2023-05-12T15:20:56.069Z"
   },
   {
    "duration": 80,
    "start_time": "2023-05-12T15:20:56.072Z"
   },
   {
    "duration": 100,
    "start_time": "2023-05-12T15:20:56.153Z"
   },
   {
    "duration": 8196,
    "start_time": "2023-05-12T15:20:56.255Z"
   },
   {
    "duration": 104,
    "start_time": "2023-05-12T15:21:04.454Z"
   },
   {
    "duration": 790,
    "start_time": "2023-05-12T15:21:04.560Z"
   },
   {
    "duration": 4217,
    "start_time": "2023-05-12T15:21:05.353Z"
   },
   {
    "duration": 82,
    "start_time": "2023-05-12T15:21:09.572Z"
   },
   {
    "duration": 1002,
    "start_time": "2023-05-12T15:21:09.655Z"
   },
   {
    "duration": 9,
    "start_time": "2023-05-12T15:21:10.660Z"
   },
   {
    "duration": 906,
    "start_time": "2023-05-12T15:21:10.671Z"
   },
   {
    "duration": 1585,
    "start_time": "2023-05-12T15:21:11.579Z"
   },
   {
    "duration": 3,
    "start_time": "2023-05-12T15:21:13.166Z"
   },
   {
    "duration": 2121,
    "start_time": "2023-05-12T15:21:13.170Z"
   },
   {
    "duration": 1004,
    "start_time": "2023-05-12T15:21:15.293Z"
   },
   {
    "duration": 863,
    "start_time": "2023-05-12T15:21:16.299Z"
   },
   {
    "duration": 427,
    "start_time": "2023-05-12T15:21:17.164Z"
   },
   {
    "duration": 114,
    "start_time": "2023-05-12T15:21:17.651Z"
   },
   {
    "duration": 92,
    "start_time": "2023-05-12T15:21:17.766Z"
   },
   {
    "duration": 921,
    "start_time": "2023-05-12T15:21:17.859Z"
   },
   {
    "duration": 603,
    "start_time": "2023-05-12T15:21:18.782Z"
   },
   {
    "duration": 896,
    "start_time": "2023-05-12T15:21:19.386Z"
   },
   {
    "duration": 192,
    "start_time": "2023-05-12T15:21:20.350Z"
   },
   {
    "duration": 0,
    "start_time": "2023-05-12T15:21:20.544Z"
   },
   {
    "duration": 0,
    "start_time": "2023-05-12T15:21:20.546Z"
   },
   {
    "duration": 0,
    "start_time": "2023-05-12T15:21:20.547Z"
   },
   {
    "duration": 0,
    "start_time": "2023-05-12T15:21:20.548Z"
   },
   {
    "duration": 0,
    "start_time": "2023-05-12T15:21:20.550Z"
   },
   {
    "duration": 0,
    "start_time": "2023-05-12T15:21:20.552Z"
   },
   {
    "duration": 0,
    "start_time": "2023-05-12T15:21:20.553Z"
   },
   {
    "duration": 0,
    "start_time": "2023-05-12T15:21:20.554Z"
   },
   {
    "duration": 0,
    "start_time": "2023-05-12T15:21:20.556Z"
   },
   {
    "duration": 696,
    "start_time": "2023-05-12T15:24:27.088Z"
   },
   {
    "duration": 24179,
    "start_time": "2023-05-12T15:24:27.786Z"
   },
   {
    "duration": 804,
    "start_time": "2023-05-12T15:24:51.967Z"
   },
   {
    "duration": 1178,
    "start_time": "2023-05-12T15:24:52.773Z"
   },
   {
    "duration": 2,
    "start_time": "2023-05-12T15:24:53.955Z"
   },
   {
    "duration": 21,
    "start_time": "2023-05-12T15:24:53.959Z"
   },
   {
    "duration": 171,
    "start_time": "2023-05-12T15:24:53.982Z"
   },
   {
    "duration": 9000,
    "start_time": "2023-05-12T15:24:54.155Z"
   },
   {
    "duration": 120,
    "start_time": "2023-05-12T15:25:03.157Z"
   },
   {
    "duration": 891,
    "start_time": "2023-05-12T15:25:03.279Z"
   },
   {
    "duration": 3918,
    "start_time": "2023-05-12T15:25:04.172Z"
   },
   {
    "duration": 88,
    "start_time": "2023-05-12T15:25:08.092Z"
   },
   {
    "duration": 1668,
    "start_time": "2023-05-12T15:25:08.182Z"
   },
   {
    "duration": 10,
    "start_time": "2023-05-12T15:25:09.854Z"
   },
   {
    "duration": 1096,
    "start_time": "2023-05-12T15:25:09.866Z"
   },
   {
    "duration": 1399,
    "start_time": "2023-05-12T15:25:10.965Z"
   },
   {
    "duration": 3,
    "start_time": "2023-05-12T15:25:12.366Z"
   },
   {
    "duration": 2397,
    "start_time": "2023-05-12T15:25:12.371Z"
   },
   {
    "duration": 1027,
    "start_time": "2023-05-12T15:25:14.770Z"
   },
   {
    "duration": 772,
    "start_time": "2023-05-12T15:25:15.799Z"
   },
   {
    "duration": 502,
    "start_time": "2023-05-12T15:25:16.574Z"
   },
   {
    "duration": 191,
    "start_time": "2023-05-12T15:25:17.078Z"
   },
   {
    "duration": 99,
    "start_time": "2023-05-12T15:25:17.271Z"
   },
   {
    "duration": 1105,
    "start_time": "2023-05-12T15:25:17.372Z"
   },
   {
    "duration": 689,
    "start_time": "2023-05-12T15:25:18.479Z"
   },
   {
    "duration": 791,
    "start_time": "2023-05-12T15:25:19.169Z"
   },
   {
    "duration": 193,
    "start_time": "2023-05-12T15:25:19.962Z"
   },
   {
    "duration": 0,
    "start_time": "2023-05-12T15:25:20.156Z"
   },
   {
    "duration": 0,
    "start_time": "2023-05-12T15:25:20.158Z"
   },
   {
    "duration": 0,
    "start_time": "2023-05-12T15:25:20.159Z"
   },
   {
    "duration": 0,
    "start_time": "2023-05-12T15:25:20.160Z"
   },
   {
    "duration": 0,
    "start_time": "2023-05-12T15:25:20.161Z"
   },
   {
    "duration": 0,
    "start_time": "2023-05-12T15:25:20.162Z"
   },
   {
    "duration": 0,
    "start_time": "2023-05-12T15:25:20.164Z"
   },
   {
    "duration": 0,
    "start_time": "2023-05-12T15:25:20.165Z"
   },
   {
    "duration": 0,
    "start_time": "2023-05-12T15:25:20.167Z"
   },
   {
    "duration": 0,
    "start_time": "2023-05-12T15:25:20.168Z"
   },
   {
    "duration": 688,
    "start_time": "2023-05-12T15:26:43.500Z"
   },
   {
    "duration": 24976,
    "start_time": "2023-05-12T15:26:44.190Z"
   },
   {
    "duration": 888,
    "start_time": "2023-05-12T15:27:09.168Z"
   },
   {
    "duration": 1108,
    "start_time": "2023-05-12T15:27:10.058Z"
   },
   {
    "duration": 2,
    "start_time": "2023-05-12T15:27:11.169Z"
   },
   {
    "duration": 90,
    "start_time": "2023-05-12T15:27:11.173Z"
   },
   {
    "duration": 116,
    "start_time": "2023-05-12T15:27:11.265Z"
   },
   {
    "duration": 8383,
    "start_time": "2023-05-12T15:27:11.383Z"
   },
   {
    "duration": 110,
    "start_time": "2023-05-12T15:27:19.769Z"
   },
   {
    "duration": 978,
    "start_time": "2023-05-12T15:27:19.881Z"
   },
   {
    "duration": 4205,
    "start_time": "2023-05-12T15:27:20.861Z"
   },
   {
    "duration": 116,
    "start_time": "2023-05-12T15:27:25.067Z"
   },
   {
    "duration": 910,
    "start_time": "2023-05-12T15:27:25.184Z"
   },
   {
    "duration": 61,
    "start_time": "2023-05-12T15:27:26.097Z"
   },
   {
    "duration": 1220,
    "start_time": "2023-05-12T15:27:26.160Z"
   },
   {
    "duration": 1385,
    "start_time": "2023-05-12T15:27:27.381Z"
   },
   {
    "duration": 4,
    "start_time": "2023-05-12T15:27:28.768Z"
   },
   {
    "duration": 2183,
    "start_time": "2023-05-12T15:27:28.773Z"
   },
   {
    "duration": 1399,
    "start_time": "2023-05-12T15:27:30.958Z"
   },
   {
    "duration": 994,
    "start_time": "2023-05-12T15:27:32.359Z"
   },
   {
    "duration": 497,
    "start_time": "2023-05-12T15:27:33.355Z"
   },
   {
    "duration": 131,
    "start_time": "2023-05-12T15:27:33.854Z"
   },
   {
    "duration": 176,
    "start_time": "2023-05-12T15:27:33.987Z"
   },
   {
    "duration": 1106,
    "start_time": "2023-05-12T15:27:34.166Z"
   },
   {
    "duration": 698,
    "start_time": "2023-05-12T15:27:35.274Z"
   },
   {
    "duration": 784,
    "start_time": "2023-05-12T15:27:35.974Z"
   },
   {
    "duration": 596,
    "start_time": "2023-05-12T15:27:36.761Z"
   },
   {
    "duration": 496,
    "start_time": "2023-05-12T15:27:37.359Z"
   },
   {
    "duration": 3303,
    "start_time": "2023-05-12T15:27:37.857Z"
   },
   {
    "duration": 291,
    "start_time": "2023-05-12T15:27:41.162Z"
   },
   {
    "duration": 0,
    "start_time": "2023-05-12T15:27:41.455Z"
   },
   {
    "duration": 0,
    "start_time": "2023-05-12T15:27:41.457Z"
   },
   {
    "duration": 0,
    "start_time": "2023-05-12T15:27:41.458Z"
   },
   {
    "duration": 0,
    "start_time": "2023-05-12T15:27:41.460Z"
   },
   {
    "duration": 1,
    "start_time": "2023-05-12T15:27:41.461Z"
   },
   {
    "duration": 0,
    "start_time": "2023-05-12T15:27:41.463Z"
   },
   {
    "duration": 0,
    "start_time": "2023-05-12T15:27:41.464Z"
   },
   {
    "duration": 84,
    "start_time": "2023-05-12T15:29:44.927Z"
   },
   {
    "duration": 285,
    "start_time": "2023-05-12T15:30:00.711Z"
   },
   {
    "duration": 413,
    "start_time": "2023-05-12T15:30:01.337Z"
   },
   {
    "duration": 1567,
    "start_time": "2023-05-12T15:30:08.703Z"
   },
   {
    "duration": 96,
    "start_time": "2023-05-12T15:30:12.440Z"
   },
   {
    "duration": 1516,
    "start_time": "2023-05-12T15:30:28.839Z"
   },
   {
    "duration": 482,
    "start_time": "2023-05-12T15:30:33.199Z"
   },
   {
    "duration": 7,
    "start_time": "2023-05-12T15:30:37.703Z"
   },
   {
    "duration": 1242,
    "start_time": "2023-05-12T15:30:46.727Z"
   },
   {
    "duration": 79,
    "start_time": "2023-05-12T15:30:53.391Z"
   },
   {
    "duration": 84,
    "start_time": "2023-05-12T15:31:50.731Z"
   },
   {
    "duration": 89,
    "start_time": "2023-05-12T15:32:05.911Z"
   },
   {
    "duration": 97,
    "start_time": "2023-05-12T15:32:16.275Z"
   },
   {
    "duration": 761,
    "start_time": "2023-05-12T15:33:46.132Z"
   },
   {
    "duration": 23875,
    "start_time": "2023-05-12T15:33:46.895Z"
   },
   {
    "duration": 882,
    "start_time": "2023-05-12T15:34:10.772Z"
   },
   {
    "duration": 1108,
    "start_time": "2023-05-12T15:34:11.656Z"
   },
   {
    "duration": 2,
    "start_time": "2023-05-12T15:34:12.767Z"
   },
   {
    "duration": 80,
    "start_time": "2023-05-12T15:34:12.771Z"
   },
   {
    "duration": 107,
    "start_time": "2023-05-12T15:34:12.854Z"
   },
   {
    "duration": 9787,
    "start_time": "2023-05-12T15:34:12.965Z"
   },
   {
    "duration": 111,
    "start_time": "2023-05-12T15:34:22.754Z"
   },
   {
    "duration": 1002,
    "start_time": "2023-05-12T15:34:22.867Z"
   },
   {
    "duration": 4391,
    "start_time": "2023-05-12T15:34:23.871Z"
   },
   {
    "duration": 93,
    "start_time": "2023-05-12T15:34:28.263Z"
   },
   {
    "duration": 1092,
    "start_time": "2023-05-12T15:34:28.358Z"
   },
   {
    "duration": 9,
    "start_time": "2023-05-12T15:34:29.454Z"
   },
   {
    "duration": 1006,
    "start_time": "2023-05-12T15:34:29.465Z"
   },
   {
    "duration": 1884,
    "start_time": "2023-05-12T15:34:30.473Z"
   },
   {
    "duration": 4,
    "start_time": "2023-05-12T15:34:32.358Z"
   },
   {
    "duration": 2323,
    "start_time": "2023-05-12T15:34:32.364Z"
   },
   {
    "duration": 1088,
    "start_time": "2023-05-12T15:34:34.689Z"
   },
   {
    "duration": 887,
    "start_time": "2023-05-12T15:34:35.779Z"
   },
   {
    "duration": 502,
    "start_time": "2023-05-12T15:34:36.668Z"
   },
   {
    "duration": 109,
    "start_time": "2023-05-12T15:34:37.172Z"
   },
   {
    "duration": 101,
    "start_time": "2023-05-12T15:34:37.283Z"
   },
   {
    "duration": 1078,
    "start_time": "2023-05-12T15:34:37.386Z"
   },
   {
    "duration": 895,
    "start_time": "2023-05-12T15:34:38.466Z"
   },
   {
    "duration": 809,
    "start_time": "2023-05-12T15:34:39.363Z"
   },
   {
    "duration": 594,
    "start_time": "2023-05-12T15:34:40.174Z"
   },
   {
    "duration": 582,
    "start_time": "2023-05-12T15:34:40.770Z"
   },
   {
    "duration": 3519,
    "start_time": "2023-05-12T15:34:41.354Z"
   },
   {
    "duration": 674,
    "start_time": "2023-05-12T15:34:44.876Z"
   },
   {
    "duration": 8,
    "start_time": "2023-05-12T15:34:45.552Z"
   },
   {
    "duration": 1816,
    "start_time": "2023-05-12T15:34:45.562Z"
   },
   {
    "duration": 392,
    "start_time": "2023-05-12T15:34:47.380Z"
   },
   {
    "duration": 82,
    "start_time": "2023-05-12T15:34:47.775Z"
   },
   {
    "duration": 5,
    "start_time": "2023-05-12T15:34:47.859Z"
   },
   {
    "duration": 14,
    "start_time": "2023-05-12T15:34:47.867Z"
   },
   {
    "duration": 889,
    "start_time": "2023-05-12T15:34:47.884Z"
   },
   {
    "duration": 676,
    "start_time": "2023-05-12T15:38:23.115Z"
   },
   {
    "duration": 25996,
    "start_time": "2023-05-12T15:38:23.793Z"
   },
   {
    "duration": 874,
    "start_time": "2023-05-12T15:38:49.791Z"
   },
   {
    "duration": 1305,
    "start_time": "2023-05-12T15:38:50.668Z"
   },
   {
    "duration": 4,
    "start_time": "2023-05-12T15:38:51.976Z"
   },
   {
    "duration": 85,
    "start_time": "2023-05-12T15:38:51.982Z"
   },
   {
    "duration": 109,
    "start_time": "2023-05-12T15:38:52.071Z"
   },
   {
    "duration": 8971,
    "start_time": "2023-05-12T15:38:52.182Z"
   },
   {
    "duration": 198,
    "start_time": "2023-05-12T15:39:01.155Z"
   },
   {
    "duration": 1001,
    "start_time": "2023-05-12T15:39:01.355Z"
   },
   {
    "duration": 4914,
    "start_time": "2023-05-12T15:39:02.358Z"
   },
   {
    "duration": 104,
    "start_time": "2023-05-12T15:39:07.274Z"
   },
   {
    "duration": 1272,
    "start_time": "2023-05-12T15:39:07.381Z"
   },
   {
    "duration": 16,
    "start_time": "2023-05-12T15:39:08.657Z"
   },
   {
    "duration": 1274,
    "start_time": "2023-05-12T15:39:08.677Z"
   },
   {
    "duration": 1713,
    "start_time": "2023-05-12T15:39:09.954Z"
   },
   {
    "duration": 4,
    "start_time": "2023-05-12T15:39:11.669Z"
   },
   {
    "duration": 2580,
    "start_time": "2023-05-12T15:39:11.675Z"
   },
   {
    "duration": 1156,
    "start_time": "2023-05-12T15:39:14.257Z"
   },
   {
    "duration": 953,
    "start_time": "2023-05-12T15:39:15.415Z"
   },
   {
    "duration": 505,
    "start_time": "2023-05-12T15:39:16.370Z"
   },
   {
    "duration": 179,
    "start_time": "2023-05-12T15:39:16.877Z"
   },
   {
    "duration": 116,
    "start_time": "2023-05-12T15:39:17.059Z"
   },
   {
    "duration": 2397,
    "start_time": "2023-05-12T15:39:17.180Z"
   },
   {
    "duration": 789,
    "start_time": "2023-05-12T15:39:19.579Z"
   },
   {
    "duration": 1194,
    "start_time": "2023-05-12T15:39:20.370Z"
   },
   {
    "duration": 3620,
    "start_time": "2023-05-12T15:39:21.566Z"
   },
   {
    "duration": 600,
    "start_time": "2023-05-12T15:39:25.191Z"
   },
   {
    "duration": 7,
    "start_time": "2023-05-12T15:39:25.793Z"
   },
   {
    "duration": 1815,
    "start_time": "2023-05-12T15:39:25.851Z"
   },
   {
    "duration": 511,
    "start_time": "2023-05-12T15:39:27.668Z"
   },
   {
    "duration": 70,
    "start_time": "2023-05-12T15:39:28.181Z"
   },
   {
    "duration": 6,
    "start_time": "2023-05-12T15:39:28.253Z"
   },
   {
    "duration": 7,
    "start_time": "2023-05-12T15:39:28.261Z"
   },
   {
    "duration": 910,
    "start_time": "2023-05-12T15:39:28.270Z"
   },
   {
    "duration": 707,
    "start_time": "2023-05-14T07:27:51.570Z"
   },
   {
    "duration": 25790,
    "start_time": "2023-05-14T07:27:52.772Z"
   },
   {
    "duration": 726,
    "start_time": "2023-05-14T07:28:18.565Z"
   },
   {
    "duration": 1113,
    "start_time": "2023-05-14T07:28:23.564Z"
   },
   {
    "duration": 2,
    "start_time": "2023-05-14T07:28:28.747Z"
   },
   {
    "duration": 17,
    "start_time": "2023-05-14T07:28:31.683Z"
   },
   {
    "duration": 9,
    "start_time": "2023-05-14T07:28:48.884Z"
   },
   {
    "duration": 7602,
    "start_time": "2023-05-14T07:29:10.660Z"
   },
   {
    "duration": 6605,
    "start_time": "2023-05-14T07:29:56.385Z"
   },
   {
    "duration": 5,
    "start_time": "2023-05-14T07:31:48.416Z"
   },
   {
    "duration": 669,
    "start_time": "2023-05-14T07:31:51.088Z"
   },
   {
    "duration": 170,
    "start_time": "2023-05-14T07:31:55.097Z"
   },
   {
    "duration": 195,
    "start_time": "2023-05-14T07:31:56.277Z"
   },
   {
    "duration": 2,
    "start_time": "2023-05-14T07:31:58.573Z"
   },
   {
    "duration": 9,
    "start_time": "2023-05-14T07:32:00.381Z"
   },
   {
    "duration": 4,
    "start_time": "2023-05-14T07:32:03.482Z"
   },
   {
    "duration": 4624,
    "start_time": "2023-05-14T07:32:40.051Z"
   },
   {
    "duration": 3762,
    "start_time": "2023-05-14T07:33:23.631Z"
   },
   {
    "duration": 2921,
    "start_time": "2023-05-14T07:38:26.444Z"
   },
   {
    "duration": 97,
    "start_time": "2023-05-14T07:38:29.367Z"
   },
   {
    "duration": 3908,
    "start_time": "2023-05-14T07:38:41.584Z"
   },
   {
    "duration": 8,
    "start_time": "2023-05-14T07:39:37.734Z"
   },
   {
    "duration": 22,
    "start_time": "2023-05-14T08:50:34.150Z"
   },
   {
    "duration": 12,
    "start_time": "2023-05-14T08:50:41.602Z"
   },
   {
    "duration": 54,
    "start_time": "2023-05-14T08:50:47.012Z"
   },
   {
    "duration": 4773,
    "start_time": "2023-05-14T08:51:10.216Z"
   },
   {
    "duration": 6,
    "start_time": "2023-05-14T08:54:17.931Z"
   },
   {
    "duration": 566,
    "start_time": "2023-05-14T08:54:18.200Z"
   },
   {
    "duration": 133,
    "start_time": "2023-05-14T08:54:21.998Z"
   },
   {
    "duration": 162,
    "start_time": "2023-05-14T08:54:22.900Z"
   },
   {
    "duration": 5,
    "start_time": "2023-05-14T08:54:24.283Z"
   },
   {
    "duration": 9,
    "start_time": "2023-05-14T08:54:25.432Z"
   },
   {
    "duration": 5,
    "start_time": "2023-05-14T08:54:26.331Z"
   },
   {
    "duration": 3916,
    "start_time": "2023-05-14T08:54:53.654Z"
   },
   {
    "duration": 248,
    "start_time": "2023-05-14T08:56:07.215Z"
   },
   {
    "duration": 6833,
    "start_time": "2023-05-14T08:57:46.013Z"
   },
   {
    "duration": 3937,
    "start_time": "2023-05-14T08:58:25.597Z"
   },
   {
    "duration": 885,
    "start_time": "2023-05-14T08:58:38.262Z"
   },
   {
    "duration": 29442,
    "start_time": "2023-05-14T08:58:39.149Z"
   },
   {
    "duration": 997,
    "start_time": "2023-05-14T08:59:08.593Z"
   },
   {
    "duration": 1416,
    "start_time": "2023-05-14T08:59:09.592Z"
   },
   {
    "duration": 50,
    "start_time": "2023-05-14T08:59:11.013Z"
   },
   {
    "duration": 21,
    "start_time": "2023-05-14T08:59:11.065Z"
   },
   {
    "duration": 14,
    "start_time": "2023-05-14T08:59:11.088Z"
   },
   {
    "duration": 11195,
    "start_time": "2023-05-14T08:59:11.107Z"
   },
   {
    "duration": 9174,
    "start_time": "2023-05-14T08:59:22.304Z"
   },
   {
    "duration": 7943,
    "start_time": "2023-05-14T08:59:31.479Z"
   },
   {
    "duration": 5666,
    "start_time": "2023-05-14T08:59:39.423Z"
   },
   {
    "duration": 149,
    "start_time": "2023-05-14T08:59:45.090Z"
   },
   {
    "duration": 1385,
    "start_time": "2023-05-14T08:59:45.241Z"
   },
   {
    "duration": 5657,
    "start_time": "2023-05-14T08:59:46.663Z"
   },
   {
    "duration": 133,
    "start_time": "2023-05-14T08:59:52.336Z"
   },
   {
    "duration": 3992,
    "start_time": "2023-05-14T08:59:52.470Z"
   },
   {
    "duration": 28,
    "start_time": "2023-05-14T08:59:56.466Z"
   },
   {
    "duration": 1896,
    "start_time": "2023-05-14T08:59:56.496Z"
   },
   {
    "duration": 2608,
    "start_time": "2023-05-14T08:59:58.398Z"
   },
   {
    "duration": 25,
    "start_time": "2023-05-14T09:00:01.007Z"
   },
   {
    "duration": 4541,
    "start_time": "2023-05-14T09:00:01.043Z"
   },
   {
    "duration": 1905,
    "start_time": "2023-05-14T09:00:05.585Z"
   },
   {
    "duration": 1543,
    "start_time": "2023-05-14T09:00:07.491Z"
   },
   {
    "duration": 853,
    "start_time": "2023-05-14T09:00:09.036Z"
   },
   {
    "duration": 232,
    "start_time": "2023-05-14T09:00:09.891Z"
   },
   {
    "duration": 98,
    "start_time": "2023-05-14T09:00:10.124Z"
   },
   {
    "duration": 1944,
    "start_time": "2023-05-14T09:00:10.223Z"
   },
   {
    "duration": 0,
    "start_time": "2023-05-14T09:00:12.177Z"
   },
   {
    "duration": 0,
    "start_time": "2023-05-14T09:00:12.197Z"
   },
   {
    "duration": 0,
    "start_time": "2023-05-14T09:00:12.207Z"
   },
   {
    "duration": 0,
    "start_time": "2023-05-14T09:00:12.218Z"
   },
   {
    "duration": 0,
    "start_time": "2023-05-14T09:00:12.256Z"
   },
   {
    "duration": 0,
    "start_time": "2023-05-14T09:00:12.300Z"
   },
   {
    "duration": 0,
    "start_time": "2023-05-14T09:00:12.301Z"
   },
   {
    "duration": 0,
    "start_time": "2023-05-14T09:00:12.301Z"
   },
   {
    "duration": 0,
    "start_time": "2023-05-14T09:00:12.302Z"
   },
   {
    "duration": 0,
    "start_time": "2023-05-14T09:00:12.303Z"
   },
   {
    "duration": 0,
    "start_time": "2023-05-14T09:00:12.303Z"
   },
   {
    "duration": 197,
    "start_time": "2023-05-14T09:00:22.671Z"
   },
   {
    "duration": 148,
    "start_time": "2023-05-14T09:00:53.395Z"
   },
   {
    "duration": 888,
    "start_time": "2023-05-14T09:02:31.790Z"
   },
   {
    "duration": 31240,
    "start_time": "2023-05-14T09:02:32.681Z"
   },
   {
    "duration": 1064,
    "start_time": "2023-05-14T09:03:03.923Z"
   },
   {
    "duration": 1634,
    "start_time": "2023-05-14T09:03:04.989Z"
   },
   {
    "duration": 4,
    "start_time": "2023-05-14T09:03:06.656Z"
   },
   {
    "duration": 26,
    "start_time": "2023-05-14T09:03:06.664Z"
   },
   {
    "duration": 108,
    "start_time": "2023-05-14T09:03:06.695Z"
   },
   {
    "duration": 10569,
    "start_time": "2023-05-14T09:03:06.807Z"
   },
   {
    "duration": 9083,
    "start_time": "2023-05-14T09:03:17.378Z"
   },
   {
    "duration": 5135,
    "start_time": "2023-05-14T09:03:26.463Z"
   },
   {
    "duration": 6074,
    "start_time": "2023-05-14T09:03:31.599Z"
   },
   {
    "duration": 510,
    "start_time": "2023-05-14T09:03:37.674Z"
   },
   {
    "duration": 0,
    "start_time": "2023-05-14T09:03:38.191Z"
   },
   {
    "duration": 0,
    "start_time": "2023-05-14T09:03:38.196Z"
   },
   {
    "duration": 0,
    "start_time": "2023-05-14T09:03:38.197Z"
   },
   {
    "duration": 0,
    "start_time": "2023-05-14T09:03:38.258Z"
   },
   {
    "duration": 0,
    "start_time": "2023-05-14T09:03:38.262Z"
   },
   {
    "duration": 0,
    "start_time": "2023-05-14T09:03:38.264Z"
   },
   {
    "duration": 0,
    "start_time": "2023-05-14T09:03:38.265Z"
   },
   {
    "duration": 0,
    "start_time": "2023-05-14T09:03:38.271Z"
   },
   {
    "duration": 0,
    "start_time": "2023-05-14T09:03:38.272Z"
   },
   {
    "duration": 0,
    "start_time": "2023-05-14T09:03:38.273Z"
   },
   {
    "duration": 0,
    "start_time": "2023-05-14T09:03:38.275Z"
   },
   {
    "duration": 0,
    "start_time": "2023-05-14T09:03:38.278Z"
   },
   {
    "duration": 0,
    "start_time": "2023-05-14T09:03:38.279Z"
   },
   {
    "duration": 0,
    "start_time": "2023-05-14T09:03:38.283Z"
   },
   {
    "duration": 0,
    "start_time": "2023-05-14T09:03:38.286Z"
   },
   {
    "duration": 0,
    "start_time": "2023-05-14T09:03:38.291Z"
   },
   {
    "duration": 0,
    "start_time": "2023-05-14T09:03:38.293Z"
   },
   {
    "duration": 0,
    "start_time": "2023-05-14T09:03:38.295Z"
   },
   {
    "duration": 0,
    "start_time": "2023-05-14T09:03:38.300Z"
   },
   {
    "duration": 0,
    "start_time": "2023-05-14T09:03:38.304Z"
   },
   {
    "duration": 0,
    "start_time": "2023-05-14T09:03:38.306Z"
   },
   {
    "duration": 0,
    "start_time": "2023-05-14T09:03:38.307Z"
   },
   {
    "duration": 0,
    "start_time": "2023-05-14T09:03:38.309Z"
   },
   {
    "duration": 0,
    "start_time": "2023-05-14T09:03:38.310Z"
   },
   {
    "duration": 0,
    "start_time": "2023-05-14T09:03:38.361Z"
   },
   {
    "duration": 0,
    "start_time": "2023-05-14T09:03:38.367Z"
   },
   {
    "duration": 5259,
    "start_time": "2023-05-14T09:18:19.537Z"
   },
   {
    "duration": 7097,
    "start_time": "2023-05-14T09:19:02.413Z"
   },
   {
    "duration": 6625,
    "start_time": "2023-05-14T09:19:33.969Z"
   },
   {
    "duration": 38,
    "start_time": "2023-05-14T09:19:44.796Z"
   },
   {
    "duration": 567,
    "start_time": "2023-05-14T09:20:17.400Z"
   },
   {
    "duration": 124,
    "start_time": "2023-05-14T09:27:10.651Z"
   },
   {
    "duration": 9,
    "start_time": "2023-05-14T09:28:38.000Z"
   },
   {
    "duration": 17,
    "start_time": "2023-05-14T09:28:52.167Z"
   },
   {
    "duration": 472,
    "start_time": "2023-05-14T09:28:54.159Z"
   },
   {
    "duration": 13,
    "start_time": "2023-05-14T09:29:12.255Z"
   },
   {
    "duration": 112,
    "start_time": "2023-05-14T09:29:18.250Z"
   },
   {
    "duration": 13204,
    "start_time": "2023-05-14T09:29:19.908Z"
   },
   {
    "duration": 36,
    "start_time": "2023-05-14T09:32:12.896Z"
   },
   {
    "duration": 6374,
    "start_time": "2023-05-14T09:32:13.743Z"
   },
   {
    "duration": 5824,
    "start_time": "2023-05-14T09:32:44.796Z"
   },
   {
    "duration": 53,
    "start_time": "2023-05-14T09:36:06.050Z"
   },
   {
    "duration": 67,
    "start_time": "2023-05-14T09:36:06.750Z"
   },
   {
    "duration": 5131,
    "start_time": "2023-05-14T09:36:11.294Z"
   },
   {
    "duration": 1005,
    "start_time": "2023-05-14T09:38:26.233Z"
   },
   {
    "duration": 418,
    "start_time": "2023-05-14T09:38:28.801Z"
   },
   {
    "duration": 268,
    "start_time": "2023-05-14T09:38:32.347Z"
   },
   {
    "duration": 167,
    "start_time": "2023-05-14T09:38:32.815Z"
   },
   {
    "duration": 6,
    "start_time": "2023-05-14T09:38:33.294Z"
   },
   {
    "duration": 15,
    "start_time": "2023-05-14T09:38:33.987Z"
   },
   {
    "duration": 1148,
    "start_time": "2023-05-14T09:38:34.791Z"
   },
   {
    "duration": 840,
    "start_time": "2023-05-14T09:38:36.896Z"
   },
   {
    "duration": 846,
    "start_time": "2023-05-14T09:38:39.901Z"
   },
   {
    "duration": 52,
    "start_time": "2023-05-14T09:38:41.655Z"
   },
   {
    "duration": 139,
    "start_time": "2023-05-14T09:38:42.702Z"
   },
   {
    "duration": 3,
    "start_time": "2023-05-14T09:38:47.816Z"
   },
   {
    "duration": 167,
    "start_time": "2023-05-14T09:38:54.348Z"
   },
   {
    "duration": 5,
    "start_time": "2023-05-14T09:38:58.897Z"
   },
   {
    "duration": 7,
    "start_time": "2023-05-14T09:39:00.008Z"
   },
   {
    "duration": 36,
    "start_time": "2023-05-14T09:39:04.615Z"
   },
   {
    "duration": 1001,
    "start_time": "2023-05-14T09:40:07.494Z"
   },
   {
    "duration": 1644,
    "start_time": "2023-05-14T09:41:14.602Z"
   },
   {
    "duration": 29804,
    "start_time": "2023-05-14T09:41:16.248Z"
   },
   {
    "duration": 1119,
    "start_time": "2023-05-14T09:41:46.063Z"
   },
   {
    "duration": 1916,
    "start_time": "2023-05-14T09:41:47.191Z"
   },
   {
    "duration": 12,
    "start_time": "2023-05-14T09:41:49.111Z"
   },
   {
    "duration": 58,
    "start_time": "2023-05-14T09:41:49.125Z"
   },
   {
    "duration": 2346,
    "start_time": "2023-05-14T09:41:49.187Z"
   },
   {
    "duration": 2640,
    "start_time": "2023-05-14T09:41:51.534Z"
   },
   {
    "duration": 1970,
    "start_time": "2023-05-14T09:41:54.176Z"
   },
   {
    "duration": 167,
    "start_time": "2023-05-14T09:41:56.147Z"
   },
   {
    "duration": 553,
    "start_time": "2023-05-14T09:41:56.327Z"
   },
   {
    "duration": 10,
    "start_time": "2023-05-14T09:41:56.882Z"
   },
   {
    "duration": 28,
    "start_time": "2023-05-14T09:41:56.895Z"
   },
   {
    "duration": 435,
    "start_time": "2023-05-14T09:41:56.966Z"
   },
   {
    "duration": 4576,
    "start_time": "2023-05-14T09:41:57.403Z"
   },
   {
    "duration": 0,
    "start_time": "2023-05-14T09:42:01.982Z"
   },
   {
    "duration": 0,
    "start_time": "2023-05-14T09:42:01.983Z"
   },
   {
    "duration": 0,
    "start_time": "2023-05-14T09:42:01.985Z"
   },
   {
    "duration": 1,
    "start_time": "2023-05-14T09:42:01.986Z"
   },
   {
    "duration": 0,
    "start_time": "2023-05-14T09:42:01.988Z"
   },
   {
    "duration": 0,
    "start_time": "2023-05-14T09:42:01.993Z"
   },
   {
    "duration": 0,
    "start_time": "2023-05-14T09:42:01.995Z"
   },
   {
    "duration": 0,
    "start_time": "2023-05-14T09:42:01.996Z"
   },
   {
    "duration": 0,
    "start_time": "2023-05-14T09:42:01.997Z"
   },
   {
    "duration": 0,
    "start_time": "2023-05-14T09:42:01.999Z"
   },
   {
    "duration": 0,
    "start_time": "2023-05-14T09:42:02.000Z"
   },
   {
    "duration": 0,
    "start_time": "2023-05-14T09:42:02.001Z"
   },
   {
    "duration": 0,
    "start_time": "2023-05-14T09:42:02.003Z"
   },
   {
    "duration": 0,
    "start_time": "2023-05-14T09:42:02.004Z"
   },
   {
    "duration": 0,
    "start_time": "2023-05-14T09:42:02.006Z"
   },
   {
    "duration": 0,
    "start_time": "2023-05-14T09:42:02.007Z"
   },
   {
    "duration": 0,
    "start_time": "2023-05-14T09:42:02.008Z"
   },
   {
    "duration": 0,
    "start_time": "2023-05-14T09:42:02.010Z"
   },
   {
    "duration": 0,
    "start_time": "2023-05-14T09:42:02.011Z"
   },
   {
    "duration": 0,
    "start_time": "2023-05-14T09:42:02.013Z"
   },
   {
    "duration": 0,
    "start_time": "2023-05-14T09:42:02.016Z"
   },
   {
    "duration": 0,
    "start_time": "2023-05-14T09:42:02.018Z"
   },
   {
    "duration": 0,
    "start_time": "2023-05-14T09:42:02.023Z"
   },
   {
    "duration": 0,
    "start_time": "2023-05-14T09:42:02.025Z"
   },
   {
    "duration": 1898,
    "start_time": "2023-05-14T09:42:26.052Z"
   },
   {
    "duration": 0,
    "start_time": "2023-05-14T09:42:27.957Z"
   },
   {
    "duration": 0,
    "start_time": "2023-05-14T09:42:27.962Z"
   },
   {
    "duration": 0,
    "start_time": "2023-05-14T09:42:27.967Z"
   },
   {
    "duration": 0,
    "start_time": "2023-05-14T09:42:27.971Z"
   },
   {
    "duration": 0,
    "start_time": "2023-05-14T09:42:27.976Z"
   },
   {
    "duration": 0,
    "start_time": "2023-05-14T09:42:27.981Z"
   },
   {
    "duration": 0,
    "start_time": "2023-05-14T09:42:27.985Z"
   },
   {
    "duration": 0,
    "start_time": "2023-05-14T09:42:27.987Z"
   },
   {
    "duration": 0,
    "start_time": "2023-05-14T09:42:27.990Z"
   },
   {
    "duration": 0,
    "start_time": "2023-05-14T09:42:27.991Z"
   },
   {
    "duration": 0,
    "start_time": "2023-05-14T09:42:27.993Z"
   },
   {
    "duration": 0,
    "start_time": "2023-05-14T09:42:27.999Z"
   },
   {
    "duration": 0,
    "start_time": "2023-05-14T09:42:28.000Z"
   },
   {
    "duration": 0,
    "start_time": "2023-05-14T09:42:28.001Z"
   },
   {
    "duration": 0,
    "start_time": "2023-05-14T09:42:28.003Z"
   },
   {
    "duration": 0,
    "start_time": "2023-05-14T09:42:28.004Z"
   },
   {
    "duration": 1,
    "start_time": "2023-05-14T09:42:28.006Z"
   },
   {
    "duration": 0,
    "start_time": "2023-05-14T09:42:28.011Z"
   },
   {
    "duration": 0,
    "start_time": "2023-05-14T09:42:28.012Z"
   },
   {
    "duration": 0,
    "start_time": "2023-05-14T09:42:28.013Z"
   },
   {
    "duration": 0,
    "start_time": "2023-05-14T09:42:28.023Z"
   },
   {
    "duration": 0,
    "start_time": "2023-05-14T09:42:28.024Z"
   },
   {
    "duration": 0,
    "start_time": "2023-05-14T09:42:28.025Z"
   },
   {
    "duration": 0,
    "start_time": "2023-05-14T09:42:28.027Z"
   },
   {
    "duration": 0,
    "start_time": "2023-05-14T09:42:28.028Z"
   },
   {
    "duration": 0,
    "start_time": "2023-05-14T09:42:28.029Z"
   },
   {
    "duration": 0,
    "start_time": "2023-05-14T09:42:28.031Z"
   },
   {
    "duration": 0,
    "start_time": "2023-05-14T09:42:28.032Z"
   },
   {
    "duration": 0,
    "start_time": "2023-05-14T09:42:28.042Z"
   },
   {
    "duration": 0,
    "start_time": "2023-05-14T09:42:28.043Z"
   },
   {
    "duration": 0,
    "start_time": "2023-05-14T09:42:28.045Z"
   },
   {
    "duration": 0,
    "start_time": "2023-05-14T09:42:28.046Z"
   },
   {
    "duration": 0,
    "start_time": "2023-05-14T09:42:28.047Z"
   },
   {
    "duration": 0,
    "start_time": "2023-05-14T09:42:28.049Z"
   },
   {
    "duration": 0,
    "start_time": "2023-05-14T09:42:28.050Z"
   },
   {
    "duration": 0,
    "start_time": "2023-05-14T09:42:28.052Z"
   },
   {
    "duration": 0,
    "start_time": "2023-05-14T09:42:28.053Z"
   },
   {
    "duration": 0,
    "start_time": "2023-05-14T09:42:28.058Z"
   },
   {
    "duration": 1994,
    "start_time": "2023-05-14T09:44:28.152Z"
   },
   {
    "duration": 29751,
    "start_time": "2023-05-14T09:44:30.148Z"
   },
   {
    "duration": 1154,
    "start_time": "2023-05-14T09:44:59.904Z"
   },
   {
    "duration": 2592,
    "start_time": "2023-05-14T09:45:01.071Z"
   },
   {
    "duration": 31,
    "start_time": "2023-05-14T09:45:03.680Z"
   },
   {
    "duration": 35,
    "start_time": "2023-05-14T09:45:03.730Z"
   },
   {
    "duration": 2717,
    "start_time": "2023-05-14T09:45:03.768Z"
   },
   {
    "duration": 3169,
    "start_time": "2023-05-14T09:45:06.491Z"
   },
   {
    "duration": 2156,
    "start_time": "2023-05-14T09:45:09.661Z"
   },
   {
    "duration": 139,
    "start_time": "2023-05-14T09:45:11.829Z"
   },
   {
    "duration": 742,
    "start_time": "2023-05-14T09:45:11.969Z"
   },
   {
    "duration": 2,
    "start_time": "2023-05-14T09:45:12.713Z"
   },
   {
    "duration": 39,
    "start_time": "2023-05-14T09:45:12.718Z"
   },
   {
    "duration": 697,
    "start_time": "2023-05-14T09:45:12.760Z"
   },
   {
    "duration": 4590,
    "start_time": "2023-05-14T09:45:13.476Z"
   },
   {
    "duration": 0,
    "start_time": "2023-05-14T09:45:18.069Z"
   },
   {
    "duration": 0,
    "start_time": "2023-05-14T09:45:18.071Z"
   },
   {
    "duration": 0,
    "start_time": "2023-05-14T09:45:18.079Z"
   },
   {
    "duration": 0,
    "start_time": "2023-05-14T09:45:18.080Z"
   },
   {
    "duration": 0,
    "start_time": "2023-05-14T09:45:18.082Z"
   },
   {
    "duration": 0,
    "start_time": "2023-05-14T09:45:18.083Z"
   },
   {
    "duration": 0,
    "start_time": "2023-05-14T09:45:18.088Z"
   },
   {
    "duration": 0,
    "start_time": "2023-05-14T09:45:18.090Z"
   },
   {
    "duration": 0,
    "start_time": "2023-05-14T09:45:18.092Z"
   },
   {
    "duration": 0,
    "start_time": "2023-05-14T09:45:18.094Z"
   },
   {
    "duration": 0,
    "start_time": "2023-05-14T09:45:18.095Z"
   },
   {
    "duration": 0,
    "start_time": "2023-05-14T09:45:18.097Z"
   },
   {
    "duration": 0,
    "start_time": "2023-05-14T09:45:18.099Z"
   },
   {
    "duration": 0,
    "start_time": "2023-05-14T09:45:18.101Z"
   },
   {
    "duration": 0,
    "start_time": "2023-05-14T09:45:18.107Z"
   },
   {
    "duration": 0,
    "start_time": "2023-05-14T09:45:18.109Z"
   },
   {
    "duration": 0,
    "start_time": "2023-05-14T09:45:18.111Z"
   },
   {
    "duration": 0,
    "start_time": "2023-05-14T09:45:18.113Z"
   },
   {
    "duration": 0,
    "start_time": "2023-05-14T09:45:18.115Z"
   },
   {
    "duration": 0,
    "start_time": "2023-05-14T09:45:18.116Z"
   },
   {
    "duration": 1,
    "start_time": "2023-05-14T09:45:18.122Z"
   },
   {
    "duration": 0,
    "start_time": "2023-05-14T09:45:18.124Z"
   },
   {
    "duration": 0,
    "start_time": "2023-05-14T09:45:18.126Z"
   },
   {
    "duration": 0,
    "start_time": "2023-05-14T09:45:18.127Z"
   },
   {
    "duration": 103,
    "start_time": "2023-05-14T09:49:13.753Z"
   },
   {
    "duration": 0,
    "start_time": "2023-05-14T09:49:13.860Z"
   },
   {
    "duration": 0,
    "start_time": "2023-05-14T09:49:13.862Z"
   },
   {
    "duration": 0,
    "start_time": "2023-05-14T09:49:13.863Z"
   },
   {
    "duration": 0,
    "start_time": "2023-05-14T09:49:13.864Z"
   },
   {
    "duration": 0,
    "start_time": "2023-05-14T09:49:13.866Z"
   },
   {
    "duration": 0,
    "start_time": "2023-05-14T09:49:13.867Z"
   },
   {
    "duration": 0,
    "start_time": "2023-05-14T09:49:13.868Z"
   },
   {
    "duration": 0,
    "start_time": "2023-05-14T09:49:13.870Z"
   },
   {
    "duration": 0,
    "start_time": "2023-05-14T09:49:13.871Z"
   },
   {
    "duration": 0,
    "start_time": "2023-05-14T09:49:13.872Z"
   },
   {
    "duration": 0,
    "start_time": "2023-05-14T09:49:13.873Z"
   },
   {
    "duration": 0,
    "start_time": "2023-05-14T09:49:13.875Z"
   },
   {
    "duration": 0,
    "start_time": "2023-05-14T09:49:13.876Z"
   },
   {
    "duration": 0,
    "start_time": "2023-05-14T09:49:13.877Z"
   },
   {
    "duration": 0,
    "start_time": "2023-05-14T09:49:13.879Z"
   },
   {
    "duration": 0,
    "start_time": "2023-05-14T09:49:13.880Z"
   },
   {
    "duration": 0,
    "start_time": "2023-05-14T09:49:13.881Z"
   },
   {
    "duration": 0,
    "start_time": "2023-05-14T09:49:13.888Z"
   },
   {
    "duration": 0,
    "start_time": "2023-05-14T09:49:13.890Z"
   },
   {
    "duration": 0,
    "start_time": "2023-05-14T09:49:13.892Z"
   },
   {
    "duration": 0,
    "start_time": "2023-05-14T09:49:13.893Z"
   },
   {
    "duration": 0,
    "start_time": "2023-05-14T09:49:13.899Z"
   },
   {
    "duration": 0,
    "start_time": "2023-05-14T09:49:13.901Z"
   },
   {
    "duration": 0,
    "start_time": "2023-05-14T09:49:13.902Z"
   },
   {
    "duration": 0,
    "start_time": "2023-05-14T09:49:13.903Z"
   },
   {
    "duration": 1,
    "start_time": "2023-05-14T09:49:13.904Z"
   },
   {
    "duration": 0,
    "start_time": "2023-05-14T09:49:13.910Z"
   },
   {
    "duration": 0,
    "start_time": "2023-05-14T09:49:13.912Z"
   },
   {
    "duration": 0,
    "start_time": "2023-05-14T09:49:13.913Z"
   },
   {
    "duration": 0,
    "start_time": "2023-05-14T09:49:13.914Z"
   },
   {
    "duration": 0,
    "start_time": "2023-05-14T09:49:13.915Z"
   },
   {
    "duration": 0,
    "start_time": "2023-05-14T09:49:13.916Z"
   },
   {
    "duration": 0,
    "start_time": "2023-05-14T09:49:13.918Z"
   },
   {
    "duration": 0,
    "start_time": "2023-05-14T09:49:13.919Z"
   },
   {
    "duration": 0,
    "start_time": "2023-05-14T09:49:13.920Z"
   },
   {
    "duration": 0,
    "start_time": "2023-05-14T09:49:13.921Z"
   },
   {
    "duration": 0,
    "start_time": "2023-05-14T09:49:13.922Z"
   },
   {
    "duration": 0,
    "start_time": "2023-05-14T09:49:13.923Z"
   },
   {
    "duration": 1530,
    "start_time": "2023-05-14T09:49:48.322Z"
   },
   {
    "duration": 1504,
    "start_time": "2023-05-14T09:50:01.526Z"
   },
   {
    "duration": 29455,
    "start_time": "2023-05-14T09:50:03.033Z"
   },
   {
    "duration": 1036,
    "start_time": "2023-05-14T09:50:32.495Z"
   },
   {
    "duration": 1884,
    "start_time": "2023-05-14T09:50:33.532Z"
   },
   {
    "duration": 4,
    "start_time": "2023-05-14T09:50:35.426Z"
   },
   {
    "duration": 45,
    "start_time": "2023-05-14T09:50:35.463Z"
   },
   {
    "duration": 2380,
    "start_time": "2023-05-14T09:50:35.515Z"
   },
   {
    "duration": 2301,
    "start_time": "2023-05-14T09:50:37.896Z"
   },
   {
    "duration": 2004,
    "start_time": "2023-05-14T09:50:40.198Z"
   },
   {
    "duration": 99,
    "start_time": "2023-05-14T09:50:42.206Z"
   },
   {
    "duration": 468,
    "start_time": "2023-05-14T09:50:42.307Z"
   },
   {
    "duration": 14,
    "start_time": "2023-05-14T09:50:42.776Z"
   },
   {
    "duration": 25,
    "start_time": "2023-05-14T09:50:42.791Z"
   },
   {
    "duration": 659,
    "start_time": "2023-05-14T09:50:42.819Z"
   },
   {
    "duration": 4441,
    "start_time": "2023-05-14T09:50:43.479Z"
   },
   {
    "duration": 0,
    "start_time": "2023-05-14T09:50:47.922Z"
   },
   {
    "duration": 0,
    "start_time": "2023-05-14T09:50:47.924Z"
   },
   {
    "duration": 0,
    "start_time": "2023-05-14T09:50:47.925Z"
   },
   {
    "duration": 0,
    "start_time": "2023-05-14T09:50:47.926Z"
   },
   {
    "duration": 0,
    "start_time": "2023-05-14T09:50:47.928Z"
   },
   {
    "duration": 0,
    "start_time": "2023-05-14T09:50:47.930Z"
   },
   {
    "duration": 0,
    "start_time": "2023-05-14T09:50:47.931Z"
   },
   {
    "duration": 0,
    "start_time": "2023-05-14T09:50:47.932Z"
   },
   {
    "duration": 0,
    "start_time": "2023-05-14T09:50:47.933Z"
   },
   {
    "duration": 0,
    "start_time": "2023-05-14T09:50:47.958Z"
   },
   {
    "duration": 0,
    "start_time": "2023-05-14T09:50:47.960Z"
   },
   {
    "duration": 0,
    "start_time": "2023-05-14T09:50:47.961Z"
   },
   {
    "duration": 0,
    "start_time": "2023-05-14T09:50:47.976Z"
   },
   {
    "duration": 0,
    "start_time": "2023-05-14T09:50:47.977Z"
   },
   {
    "duration": 0,
    "start_time": "2023-05-14T09:50:47.981Z"
   },
   {
    "duration": 0,
    "start_time": "2023-05-14T09:50:47.985Z"
   },
   {
    "duration": 1,
    "start_time": "2023-05-14T09:50:47.989Z"
   },
   {
    "duration": 0,
    "start_time": "2023-05-14T09:50:47.991Z"
   },
   {
    "duration": 0,
    "start_time": "2023-05-14T09:50:47.993Z"
   },
   {
    "duration": 0,
    "start_time": "2023-05-14T09:50:47.994Z"
   },
   {
    "duration": 0,
    "start_time": "2023-05-14T09:50:47.996Z"
   },
   {
    "duration": 0,
    "start_time": "2023-05-14T09:50:47.998Z"
   },
   {
    "duration": 0,
    "start_time": "2023-05-14T09:50:47.999Z"
   },
   {
    "duration": 0,
    "start_time": "2023-05-14T09:50:48.001Z"
   },
   {
    "duration": 1457,
    "start_time": "2023-05-14T09:55:16.751Z"
   },
   {
    "duration": 981,
    "start_time": "2023-05-14T09:59:36.813Z"
   },
   {
    "duration": 833,
    "start_time": "2023-05-14T09:59:43.816Z"
   },
   {
    "duration": 12,
    "start_time": "2023-05-14T10:00:14.948Z"
   },
   {
    "duration": 10,
    "start_time": "2023-05-14T10:00:42.982Z"
   },
   {
    "duration": 5,
    "start_time": "2023-05-14T10:01:12.059Z"
   },
   {
    "duration": 47,
    "start_time": "2023-05-14T10:01:49.311Z"
   },
   {
    "duration": 1313,
    "start_time": "2023-05-14T10:06:00.536Z"
   },
   {
    "duration": 26352,
    "start_time": "2023-05-14T10:06:01.852Z"
   },
   {
    "duration": 978,
    "start_time": "2023-05-14T10:06:28.206Z"
   },
   {
    "duration": 1294,
    "start_time": "2023-05-14T10:06:29.186Z"
   },
   {
    "duration": 5,
    "start_time": "2023-05-14T10:06:30.488Z"
   },
   {
    "duration": 70,
    "start_time": "2023-05-14T10:06:30.495Z"
   },
   {
    "duration": 1936,
    "start_time": "2023-05-14T10:06:30.569Z"
   },
   {
    "duration": 2241,
    "start_time": "2023-05-14T10:06:32.559Z"
   },
   {
    "duration": 2023,
    "start_time": "2023-05-14T10:06:34.857Z"
   },
   {
    "duration": 104,
    "start_time": "2023-05-14T10:06:36.883Z"
   },
   {
    "duration": 509,
    "start_time": "2023-05-14T10:06:36.989Z"
   },
   {
    "duration": 3,
    "start_time": "2023-05-14T10:06:37.500Z"
   },
   {
    "duration": 73,
    "start_time": "2023-05-14T10:06:37.505Z"
   },
   {
    "duration": 192,
    "start_time": "2023-05-14T10:06:37.579Z"
   },
   {
    "duration": 0,
    "start_time": "2023-05-14T10:06:37.775Z"
   },
   {
    "duration": 0,
    "start_time": "2023-05-14T10:06:37.776Z"
   },
   {
    "duration": 0,
    "start_time": "2023-05-14T10:06:37.776Z"
   },
   {
    "duration": 0,
    "start_time": "2023-05-14T10:06:37.777Z"
   },
   {
    "duration": 0,
    "start_time": "2023-05-14T10:06:37.781Z"
   },
   {
    "duration": 0,
    "start_time": "2023-05-14T10:06:37.787Z"
   },
   {
    "duration": 0,
    "start_time": "2023-05-14T10:06:37.790Z"
   },
   {
    "duration": 0,
    "start_time": "2023-05-14T10:06:37.791Z"
   },
   {
    "duration": 0,
    "start_time": "2023-05-14T10:06:37.792Z"
   },
   {
    "duration": 0,
    "start_time": "2023-05-14T10:06:37.794Z"
   },
   {
    "duration": 0,
    "start_time": "2023-05-14T10:06:37.795Z"
   },
   {
    "duration": 0,
    "start_time": "2023-05-14T10:06:37.796Z"
   },
   {
    "duration": 0,
    "start_time": "2023-05-14T10:06:37.797Z"
   },
   {
    "duration": 0,
    "start_time": "2023-05-14T10:06:37.798Z"
   },
   {
    "duration": 0,
    "start_time": "2023-05-14T10:06:37.799Z"
   },
   {
    "duration": 0,
    "start_time": "2023-05-14T10:06:37.800Z"
   },
   {
    "duration": 0,
    "start_time": "2023-05-14T10:06:37.801Z"
   },
   {
    "duration": 0,
    "start_time": "2023-05-14T10:06:37.802Z"
   },
   {
    "duration": 0,
    "start_time": "2023-05-14T10:06:37.803Z"
   },
   {
    "duration": 0,
    "start_time": "2023-05-14T10:06:37.804Z"
   },
   {
    "duration": 0,
    "start_time": "2023-05-14T10:06:37.806Z"
   },
   {
    "duration": 0,
    "start_time": "2023-05-14T10:06:37.807Z"
   },
   {
    "duration": 0,
    "start_time": "2023-05-14T10:06:37.807Z"
   },
   {
    "duration": 28,
    "start_time": "2023-05-14T10:09:33.093Z"
   },
   {
    "duration": 1181,
    "start_time": "2023-05-14T10:09:56.515Z"
   },
   {
    "duration": 2844,
    "start_time": "2023-05-14T10:11:18.312Z"
   },
   {
    "duration": 85,
    "start_time": "2023-05-14T10:11:53.581Z"
   },
   {
    "duration": 14,
    "start_time": "2023-05-14T10:12:14.015Z"
   },
   {
    "duration": 28,
    "start_time": "2023-05-14T10:18:37.750Z"
   },
   {
    "duration": 29,
    "start_time": "2023-05-14T10:18:44.160Z"
   },
   {
    "duration": 3,
    "start_time": "2023-05-14T10:44:12.744Z"
   },
   {
    "duration": 3,
    "start_time": "2023-05-14T10:44:13.409Z"
   },
   {
    "duration": 14,
    "start_time": "2023-05-14T10:44:13.846Z"
   },
   {
    "duration": 346,
    "start_time": "2023-05-14T10:44:15.099Z"
   },
   {
    "duration": 1920,
    "start_time": "2023-05-14T10:57:44.507Z"
   },
   {
    "duration": 31976,
    "start_time": "2023-05-14T10:57:46.430Z"
   },
   {
    "duration": 1056,
    "start_time": "2023-05-14T10:58:18.408Z"
   },
   {
    "duration": 1693,
    "start_time": "2023-05-14T10:58:19.466Z"
   },
   {
    "duration": 4,
    "start_time": "2023-05-14T10:58:21.162Z"
   },
   {
    "duration": 38,
    "start_time": "2023-05-14T10:58:21.169Z"
   },
   {
    "duration": 2249,
    "start_time": "2023-05-14T10:58:21.260Z"
   },
   {
    "duration": 2649,
    "start_time": "2023-05-14T10:58:23.512Z"
   },
   {
    "duration": 2207,
    "start_time": "2023-05-14T10:58:26.166Z"
   },
   {
    "duration": 145,
    "start_time": "2023-05-14T10:58:28.375Z"
   },
   {
    "duration": 572,
    "start_time": "2023-05-14T10:58:28.522Z"
   },
   {
    "duration": 62,
    "start_time": "2023-05-14T10:58:29.096Z"
   },
   {
    "duration": 21,
    "start_time": "2023-05-14T10:58:29.165Z"
   },
   {
    "duration": 783,
    "start_time": "2023-05-14T10:58:29.191Z"
   },
   {
    "duration": 4922,
    "start_time": "2023-05-14T10:58:29.975Z"
   },
   {
    "duration": 185,
    "start_time": "2023-05-14T10:58:34.899Z"
   },
   {
    "duration": 234,
    "start_time": "2023-05-14T10:58:35.088Z"
   },
   {
    "duration": 0,
    "start_time": "2023-05-14T10:58:35.324Z"
   },
   {
    "duration": 0,
    "start_time": "2023-05-14T10:58:35.327Z"
   },
   {
    "duration": 0,
    "start_time": "2023-05-14T10:58:35.328Z"
   },
   {
    "duration": 0,
    "start_time": "2023-05-14T10:58:35.330Z"
   },
   {
    "duration": 0,
    "start_time": "2023-05-14T10:58:35.331Z"
   },
   {
    "duration": 0,
    "start_time": "2023-05-14T10:58:35.333Z"
   },
   {
    "duration": 0,
    "start_time": "2023-05-14T10:58:35.334Z"
   },
   {
    "duration": 0,
    "start_time": "2023-05-14T10:58:35.358Z"
   },
   {
    "duration": 0,
    "start_time": "2023-05-14T10:58:35.360Z"
   },
   {
    "duration": 0,
    "start_time": "2023-05-14T10:58:35.361Z"
   },
   {
    "duration": 0,
    "start_time": "2023-05-14T10:58:35.362Z"
   },
   {
    "duration": 0,
    "start_time": "2023-05-14T10:58:35.372Z"
   },
   {
    "duration": 0,
    "start_time": "2023-05-14T10:58:35.374Z"
   },
   {
    "duration": 0,
    "start_time": "2023-05-14T10:58:35.375Z"
   },
   {
    "duration": 0,
    "start_time": "2023-05-14T10:58:35.377Z"
   },
   {
    "duration": 0,
    "start_time": "2023-05-14T10:58:35.379Z"
   },
   {
    "duration": 0,
    "start_time": "2023-05-14T10:58:35.380Z"
   },
   {
    "duration": 0,
    "start_time": "2023-05-14T10:58:35.382Z"
   },
   {
    "duration": 0,
    "start_time": "2023-05-14T10:58:35.383Z"
   },
   {
    "duration": 0,
    "start_time": "2023-05-14T10:58:35.385Z"
   },
   {
    "duration": 0,
    "start_time": "2023-05-14T10:58:35.387Z"
   },
   {
    "duration": 0,
    "start_time": "2023-05-14T10:58:35.388Z"
   },
   {
    "duration": 0,
    "start_time": "2023-05-14T10:58:35.391Z"
   },
   {
    "duration": 0,
    "start_time": "2023-05-14T10:58:35.392Z"
   },
   {
    "duration": 1626,
    "start_time": "2023-05-14T11:00:53.696Z"
   },
   {
    "duration": 491,
    "start_time": "2023-05-14T11:05:36.950Z"
   },
   {
    "duration": 11,
    "start_time": "2023-05-14T11:06:09.219Z"
   },
   {
    "duration": 48,
    "start_time": "2023-05-14T11:06:10.103Z"
   },
   {
    "duration": 1639,
    "start_time": "2023-05-14T11:06:11.166Z"
   },
   {
    "duration": 30,
    "start_time": "2023-05-14T11:06:13.649Z"
   },
   {
    "duration": 27,
    "start_time": "2023-05-14T11:06:45.149Z"
   },
   {
    "duration": 17,
    "start_time": "2023-05-14T11:08:50.294Z"
   },
   {
    "duration": 201,
    "start_time": "2023-05-14T11:11:17.032Z"
   },
   {
    "duration": 1228,
    "start_time": "2023-05-14T11:11:20.131Z"
   },
   {
    "duration": 15,
    "start_time": "2023-05-14T11:11:22.319Z"
   },
   {
    "duration": 108,
    "start_time": "2023-05-14T11:12:25.647Z"
   },
   {
    "duration": 2356,
    "start_time": "2023-05-14T11:13:07.144Z"
   },
   {
    "duration": 1543,
    "start_time": "2023-05-14T11:15:38.442Z"
   },
   {
    "duration": 1839,
    "start_time": "2023-05-14T11:16:16.809Z"
   },
   {
    "duration": 32796,
    "start_time": "2023-05-14T11:16:18.651Z"
   },
   {
    "duration": 1142,
    "start_time": "2023-05-14T11:16:51.450Z"
   },
   {
    "duration": 1656,
    "start_time": "2023-05-14T11:16:52.594Z"
   },
   {
    "duration": 7,
    "start_time": "2023-05-14T11:16:54.254Z"
   },
   {
    "duration": 51,
    "start_time": "2023-05-14T11:16:54.271Z"
   },
   {
    "duration": 2224,
    "start_time": "2023-05-14T11:16:54.328Z"
   },
   {
    "duration": 3128,
    "start_time": "2023-05-14T11:16:56.554Z"
   },
   {
    "duration": 2311,
    "start_time": "2023-05-14T11:16:59.695Z"
   },
   {
    "duration": 181,
    "start_time": "2023-05-14T11:17:02.009Z"
   },
   {
    "duration": 510,
    "start_time": "2023-05-14T11:17:02.195Z"
   },
   {
    "duration": 9,
    "start_time": "2023-05-14T11:17:02.706Z"
   },
   {
    "duration": 66,
    "start_time": "2023-05-14T11:17:02.719Z"
   },
   {
    "duration": 525,
    "start_time": "2023-05-14T11:17:02.789Z"
   },
   {
    "duration": 5552,
    "start_time": "2023-05-14T11:17:03.323Z"
   },
   {
    "duration": 0,
    "start_time": "2023-05-14T11:17:08.878Z"
   },
   {
    "duration": 0,
    "start_time": "2023-05-14T11:17:08.879Z"
   },
   {
    "duration": 0,
    "start_time": "2023-05-14T11:17:08.886Z"
   },
   {
    "duration": 0,
    "start_time": "2023-05-14T11:17:08.887Z"
   },
   {
    "duration": 0,
    "start_time": "2023-05-14T11:17:08.888Z"
   },
   {
    "duration": 0,
    "start_time": "2023-05-14T11:17:08.895Z"
   },
   {
    "duration": 1,
    "start_time": "2023-05-14T11:17:08.895Z"
   },
   {
    "duration": 0,
    "start_time": "2023-05-14T11:17:08.904Z"
   },
   {
    "duration": 0,
    "start_time": "2023-05-14T11:17:08.910Z"
   },
   {
    "duration": 0,
    "start_time": "2023-05-14T11:17:08.911Z"
   },
   {
    "duration": 0,
    "start_time": "2023-05-14T11:17:08.912Z"
   },
   {
    "duration": 0,
    "start_time": "2023-05-14T11:17:08.922Z"
   },
   {
    "duration": 0,
    "start_time": "2023-05-14T11:17:08.925Z"
   },
   {
    "duration": 0,
    "start_time": "2023-05-14T11:17:08.927Z"
   },
   {
    "duration": 0,
    "start_time": "2023-05-14T11:17:08.935Z"
   },
   {
    "duration": 0,
    "start_time": "2023-05-14T11:17:08.936Z"
   },
   {
    "duration": 0,
    "start_time": "2023-05-14T11:17:08.937Z"
   },
   {
    "duration": 0,
    "start_time": "2023-05-14T11:17:08.947Z"
   },
   {
    "duration": 0,
    "start_time": "2023-05-14T11:17:08.949Z"
   },
   {
    "duration": 0,
    "start_time": "2023-05-14T11:17:08.950Z"
   },
   {
    "duration": 0,
    "start_time": "2023-05-14T11:17:08.951Z"
   },
   {
    "duration": 0,
    "start_time": "2023-05-14T11:17:08.953Z"
   },
   {
    "duration": 0,
    "start_time": "2023-05-14T11:17:08.963Z"
   },
   {
    "duration": 0,
    "start_time": "2023-05-14T11:17:08.964Z"
   },
   {
    "duration": 326,
    "start_time": "2023-05-14T11:20:10.182Z"
   },
   {
    "duration": 1866,
    "start_time": "2023-05-14T11:20:41.337Z"
   },
   {
    "duration": 5,
    "start_time": "2023-05-14T11:29:20.202Z"
   },
   {
    "duration": 13,
    "start_time": "2023-05-14T11:29:22.498Z"
   },
   {
    "duration": 61,
    "start_time": "2023-05-14T11:29:23.339Z"
   },
   {
    "duration": 1242,
    "start_time": "2023-05-14T11:29:25.254Z"
   },
   {
    "duration": 3,
    "start_time": "2023-05-14T11:29:28.014Z"
   },
   {
    "duration": 13,
    "start_time": "2023-05-14T11:29:28.509Z"
   },
   {
    "duration": 133,
    "start_time": "2023-05-14T11:30:04.507Z"
   },
   {
    "duration": 1167,
    "start_time": "2023-05-14T11:30:15.897Z"
   },
   {
    "duration": 2919,
    "start_time": "2023-05-14T11:30:51.196Z"
   },
   {
    "duration": 11,
    "start_time": "2023-05-14T11:31:58.522Z"
   },
   {
    "duration": 2781,
    "start_time": "2023-05-14T11:32:00.395Z"
   },
   {
    "duration": 13,
    "start_time": "2023-05-14T11:32:03.185Z"
   },
   {
    "duration": 17,
    "start_time": "2023-05-14T11:32:03.204Z"
   },
   {
    "duration": 66,
    "start_time": "2023-05-14T11:32:03.227Z"
   },
   {
    "duration": 954,
    "start_time": "2023-05-14T11:32:05.584Z"
   },
   {
    "duration": 2961,
    "start_time": "2023-05-14T11:32:12.336Z"
   },
   {
    "duration": 8,
    "start_time": "2023-05-14T11:32:17.974Z"
   },
   {
    "duration": 3183,
    "start_time": "2023-05-14T11:32:24.835Z"
   },
   {
    "duration": 256,
    "start_time": "2023-05-14T11:41:59.788Z"
   },
   {
    "duration": 2012,
    "start_time": "2023-05-14T11:42:25.822Z"
   },
   {
    "duration": 36469,
    "start_time": "2023-05-14T11:42:27.837Z"
   },
   {
    "duration": 1560,
    "start_time": "2023-05-14T11:43:04.308Z"
   },
   {
    "duration": 1484,
    "start_time": "2023-05-14T11:43:05.870Z"
   },
   {
    "duration": 13,
    "start_time": "2023-05-14T11:43:07.357Z"
   },
   {
    "duration": 72,
    "start_time": "2023-05-14T11:43:07.378Z"
   },
   {
    "duration": 2902,
    "start_time": "2023-05-14T11:43:07.452Z"
   },
   {
    "duration": 3299,
    "start_time": "2023-05-14T11:43:10.355Z"
   },
   {
    "duration": 2504,
    "start_time": "2023-05-14T11:43:13.655Z"
   },
   {
    "duration": 118,
    "start_time": "2023-05-14T11:43:16.166Z"
   },
   {
    "duration": 636,
    "start_time": "2023-05-14T11:43:16.285Z"
   },
   {
    "duration": 7,
    "start_time": "2023-05-14T11:43:16.923Z"
   },
   {
    "duration": 29,
    "start_time": "2023-05-14T11:43:16.933Z"
   },
   {
    "duration": 841,
    "start_time": "2023-05-14T11:43:16.977Z"
   },
   {
    "duration": 9034,
    "start_time": "2023-05-14T11:43:17.819Z"
   },
   {
    "duration": 6,
    "start_time": "2023-05-14T11:43:26.855Z"
   },
   {
    "duration": 21,
    "start_time": "2023-05-14T11:43:26.863Z"
   },
   {
    "duration": 59,
    "start_time": "2023-05-14T11:43:26.887Z"
   },
   {
    "duration": 609,
    "start_time": "2023-05-14T11:43:26.948Z"
   },
   {
    "duration": 3271,
    "start_time": "2023-05-14T11:43:27.559Z"
   },
   {
    "duration": 10,
    "start_time": "2023-05-14T11:43:30.832Z"
   },
   {
    "duration": 4641,
    "start_time": "2023-05-14T11:43:30.846Z"
   },
   {
    "duration": 511,
    "start_time": "2023-05-14T11:43:35.499Z"
   },
   {
    "duration": 0,
    "start_time": "2023-05-14T11:43:36.013Z"
   },
   {
    "duration": 0,
    "start_time": "2023-05-14T11:43:36.015Z"
   },
   {
    "duration": 0,
    "start_time": "2023-05-14T11:43:36.016Z"
   },
   {
    "duration": 0,
    "start_time": "2023-05-14T11:43:36.022Z"
   },
   {
    "duration": 0,
    "start_time": "2023-05-14T11:43:36.024Z"
   },
   {
    "duration": 0,
    "start_time": "2023-05-14T11:43:36.025Z"
   },
   {
    "duration": 0,
    "start_time": "2023-05-14T11:43:36.031Z"
   },
   {
    "duration": 0,
    "start_time": "2023-05-14T11:43:36.033Z"
   },
   {
    "duration": 0,
    "start_time": "2023-05-14T11:43:36.039Z"
   },
   {
    "duration": 0,
    "start_time": "2023-05-14T11:43:36.041Z"
   },
   {
    "duration": 0,
    "start_time": "2023-05-14T11:43:36.059Z"
   },
   {
    "duration": 0,
    "start_time": "2023-05-14T11:43:36.061Z"
   },
   {
    "duration": 0,
    "start_time": "2023-05-14T11:43:36.074Z"
   },
   {
    "duration": 0,
    "start_time": "2023-05-14T11:43:36.075Z"
   },
   {
    "duration": 0,
    "start_time": "2023-05-14T11:43:36.076Z"
   },
   {
    "duration": 0,
    "start_time": "2023-05-14T11:43:36.077Z"
   },
   {
    "duration": 26,
    "start_time": "2023-05-14T11:46:15.319Z"
   },
   {
    "duration": 198,
    "start_time": "2023-05-14T11:46:29.199Z"
   },
   {
    "duration": 136,
    "start_time": "2023-05-14T11:47:05.087Z"
   },
   {
    "duration": 182,
    "start_time": "2023-05-14T11:47:09.548Z"
   },
   {
    "duration": 22,
    "start_time": "2023-05-14T11:50:10.549Z"
   },
   {
    "duration": 261,
    "start_time": "2023-05-14T11:50:31.607Z"
   },
   {
    "duration": 169,
    "start_time": "2023-05-14T11:55:11.354Z"
   },
   {
    "duration": 1649,
    "start_time": "2023-05-14T11:55:59.255Z"
   },
   {
    "duration": 804,
    "start_time": "2023-05-14T11:58:12.248Z"
   },
   {
    "duration": 264,
    "start_time": "2023-05-14T11:59:42.856Z"
   },
   {
    "duration": 218,
    "start_time": "2023-05-14T11:59:57.355Z"
   },
   {
    "duration": 1595,
    "start_time": "2023-05-14T12:00:53.141Z"
   },
   {
    "duration": 30002,
    "start_time": "2023-05-14T12:00:54.739Z"
   },
   {
    "duration": 1204,
    "start_time": "2023-05-14T12:01:24.743Z"
   },
   {
    "duration": 1635,
    "start_time": "2023-05-14T12:01:25.949Z"
   },
   {
    "duration": 9,
    "start_time": "2023-05-14T12:01:27.591Z"
   },
   {
    "duration": 30,
    "start_time": "2023-05-14T12:01:27.603Z"
   },
   {
    "duration": 2563,
    "start_time": "2023-05-14T12:01:27.635Z"
   },
   {
    "duration": 2757,
    "start_time": "2023-05-14T12:01:30.199Z"
   },
   {
    "duration": 2447,
    "start_time": "2023-05-14T12:01:32.962Z"
   },
   {
    "duration": 140,
    "start_time": "2023-05-14T12:01:35.411Z"
   },
   {
    "duration": 931,
    "start_time": "2023-05-14T12:01:35.552Z"
   },
   {
    "duration": 15,
    "start_time": "2023-05-14T12:01:36.484Z"
   },
   {
    "duration": 20,
    "start_time": "2023-05-14T12:01:36.517Z"
   },
   {
    "duration": 828,
    "start_time": "2023-05-14T12:01:36.558Z"
   },
   {
    "duration": 6309,
    "start_time": "2023-05-14T12:01:37.387Z"
   },
   {
    "duration": 23,
    "start_time": "2023-05-14T12:01:43.712Z"
   },
   {
    "duration": 23,
    "start_time": "2023-05-14T12:01:43.743Z"
   },
   {
    "duration": 78,
    "start_time": "2023-05-14T12:01:43.770Z"
   },
   {
    "duration": 576,
    "start_time": "2023-05-14T12:01:43.866Z"
   },
   {
    "duration": 2604,
    "start_time": "2023-05-14T12:01:44.443Z"
   },
   {
    "duration": 16,
    "start_time": "2023-05-14T12:01:47.048Z"
   },
   {
    "duration": 3175,
    "start_time": "2023-05-14T12:01:47.067Z"
   },
   {
    "duration": 326,
    "start_time": "2023-05-14T12:01:50.243Z"
   },
   {
    "duration": 1,
    "start_time": "2023-05-14T12:01:50.575Z"
   },
   {
    "duration": 0,
    "start_time": "2023-05-14T12:01:50.580Z"
   },
   {
    "duration": 0,
    "start_time": "2023-05-14T12:01:50.586Z"
   },
   {
    "duration": 0,
    "start_time": "2023-05-14T12:01:50.595Z"
   },
   {
    "duration": 0,
    "start_time": "2023-05-14T12:01:50.598Z"
   },
   {
    "duration": 0,
    "start_time": "2023-05-14T12:01:50.600Z"
   },
   {
    "duration": 0,
    "start_time": "2023-05-14T12:01:50.601Z"
   },
   {
    "duration": 0,
    "start_time": "2023-05-14T12:01:50.603Z"
   },
   {
    "duration": 0,
    "start_time": "2023-05-14T12:01:50.604Z"
   },
   {
    "duration": 0,
    "start_time": "2023-05-14T12:01:50.605Z"
   },
   {
    "duration": 0,
    "start_time": "2023-05-14T12:01:50.607Z"
   },
   {
    "duration": 0,
    "start_time": "2023-05-14T12:01:50.609Z"
   },
   {
    "duration": 0,
    "start_time": "2023-05-14T12:01:50.611Z"
   },
   {
    "duration": 0,
    "start_time": "2023-05-14T12:01:50.613Z"
   },
   {
    "duration": 0,
    "start_time": "2023-05-14T12:01:50.614Z"
   },
   {
    "duration": 0,
    "start_time": "2023-05-14T12:01:50.616Z"
   },
   {
    "duration": 21,
    "start_time": "2023-05-14T12:05:33.533Z"
   },
   {
    "duration": 43,
    "start_time": "2023-05-14T12:10:33.344Z"
   },
   {
    "duration": 34,
    "start_time": "2023-05-14T12:12:07.640Z"
   },
   {
    "duration": 31,
    "start_time": "2023-05-14T12:16:06.554Z"
   },
   {
    "duration": 13,
    "start_time": "2023-05-14T12:23:21.999Z"
   },
   {
    "duration": 768,
    "start_time": "2023-05-14T12:23:22.130Z"
   },
   {
    "duration": 202,
    "start_time": "2023-05-14T12:23:23.441Z"
   },
   {
    "duration": 263,
    "start_time": "2023-05-14T12:23:23.670Z"
   },
   {
    "duration": 4,
    "start_time": "2023-05-14T12:23:24.514Z"
   },
   {
    "duration": 11,
    "start_time": "2023-05-14T12:23:25.594Z"
   },
   {
    "duration": 779,
    "start_time": "2023-05-14T12:23:26.308Z"
   },
   {
    "duration": 737,
    "start_time": "2023-05-14T12:23:27.089Z"
   },
   {
    "duration": 1051,
    "start_time": "2023-05-14T12:23:27.865Z"
   },
   {
    "duration": 89,
    "start_time": "2023-05-14T12:23:28.920Z"
   },
   {
    "duration": 282,
    "start_time": "2023-05-14T12:23:29.010Z"
   },
   {
    "duration": 3,
    "start_time": "2023-05-14T12:23:29.293Z"
   },
   {
    "duration": 8,
    "start_time": "2023-05-14T12:23:29.530Z"
   },
   {
    "duration": 48,
    "start_time": "2023-05-14T12:23:29.729Z"
   },
   {
    "duration": 2398,
    "start_time": "2023-05-14T12:23:30.634Z"
   },
   {
    "duration": 12,
    "start_time": "2023-05-14T12:23:33.037Z"
   },
   {
    "duration": 11,
    "start_time": "2023-05-14T12:23:33.051Z"
   },
   {
    "duration": 18,
    "start_time": "2023-05-14T12:23:33.065Z"
   },
   {
    "duration": 263,
    "start_time": "2023-05-14T12:23:33.087Z"
   },
   {
    "duration": 969,
    "start_time": "2023-05-14T12:23:33.603Z"
   },
   {
    "duration": 4,
    "start_time": "2023-05-14T12:23:35.817Z"
   },
   {
    "duration": 46,
    "start_time": "2023-05-14T15:43:52.063Z"
   },
   {
    "duration": 81,
    "start_time": "2023-05-14T15:44:30.630Z"
   },
   {
    "duration": 28,
    "start_time": "2023-05-14T15:50:13.897Z"
   },
   {
    "duration": 34,
    "start_time": "2023-05-14T15:50:32.480Z"
   },
   {
    "duration": 30,
    "start_time": "2023-05-14T15:55:48.347Z"
   },
   {
    "duration": 29,
    "start_time": "2023-05-14T16:01:41.726Z"
   },
   {
    "duration": 29,
    "start_time": "2023-05-14T16:04:07.530Z"
   },
   {
    "duration": 18,
    "start_time": "2023-05-14T16:08:19.061Z"
   },
   {
    "duration": 90,
    "start_time": "2023-05-14T16:11:16.759Z"
   },
   {
    "duration": 4,
    "start_time": "2023-05-14T16:11:41.476Z"
   },
   {
    "duration": 934,
    "start_time": "2023-05-14T16:12:36.475Z"
   },
   {
    "duration": 7,
    "start_time": "2023-05-14T16:13:46.930Z"
   },
   {
    "duration": 338,
    "start_time": "2023-05-14T16:13:49.642Z"
   },
   {
    "duration": 147,
    "start_time": "2023-05-14T16:13:52.874Z"
   },
   {
    "duration": 154,
    "start_time": "2023-05-14T16:13:53.759Z"
   },
   {
    "duration": 3,
    "start_time": "2023-05-14T16:13:54.643Z"
   },
   {
    "duration": 8,
    "start_time": "2023-05-14T16:13:55.724Z"
   },
   {
    "duration": 485,
    "start_time": "2023-05-14T16:13:57.090Z"
   },
   {
    "duration": 368,
    "start_time": "2023-05-14T16:13:58.727Z"
   },
   {
    "duration": 643,
    "start_time": "2023-05-14T16:14:00.331Z"
   },
   {
    "duration": 26,
    "start_time": "2023-05-14T16:14:02.127Z"
   },
   {
    "duration": 199,
    "start_time": "2023-05-14T16:14:03.560Z"
   },
   {
    "duration": 2,
    "start_time": "2023-05-14T16:14:04.844Z"
   },
   {
    "duration": 8,
    "start_time": "2023-05-14T16:14:07.874Z"
   },
   {
    "duration": 35,
    "start_time": "2023-05-14T16:14:08.759Z"
   },
   {
    "duration": 1366,
    "start_time": "2023-05-14T16:14:10.077Z"
   },
   {
    "duration": 2,
    "start_time": "2023-05-14T16:14:12.442Z"
   },
   {
    "duration": 2,
    "start_time": "2023-05-14T16:14:13.293Z"
   },
   {
    "duration": 9,
    "start_time": "2023-05-14T16:14:13.626Z"
   },
   {
    "duration": 88,
    "start_time": "2023-05-14T16:14:15.776Z"
   },
   {
    "duration": 17,
    "start_time": "2023-05-14T16:14:16.745Z"
   },
   {
    "duration": 609,
    "start_time": "2023-05-14T16:14:17.857Z"
   },
   {
    "duration": 8,
    "start_time": "2023-05-14T16:14:21.244Z"
   },
   {
    "duration": 2,
    "start_time": "2023-05-14T16:14:22.516Z"
   },
   {
    "duration": 537,
    "start_time": "2023-05-14T16:14:25.129Z"
   },
   {
    "duration": 13,
    "start_time": "2023-05-14T16:29:08.527Z"
   },
   {
    "duration": 576,
    "start_time": "2023-05-14T16:29:12.542Z"
   },
   {
    "duration": 7,
    "start_time": "2023-05-14T16:29:14.394Z"
   },
   {
    "duration": 3,
    "start_time": "2023-05-14T16:29:16.012Z"
   },
   {
    "duration": 2872,
    "start_time": "2023-05-14T16:29:17.516Z"
   },
   {
    "duration": 1829,
    "start_time": "2023-05-14T16:30:07.043Z"
   },
   {
    "duration": 9,
    "start_time": "2023-05-14T16:30:09.875Z"
   },
   {
    "duration": 9,
    "start_time": "2023-05-14T16:30:16.641Z"
   },
   {
    "duration": 539,
    "start_time": "2023-05-14T16:31:26.942Z"
   },
   {
    "duration": 7,
    "start_time": "2023-05-14T16:31:28.478Z"
   },
   {
    "duration": 2,
    "start_time": "2023-05-14T16:31:29.392Z"
   },
   {
    "duration": 1781,
    "start_time": "2023-05-14T16:31:30.190Z"
   },
   {
    "duration": 9,
    "start_time": "2023-05-14T16:31:43.225Z"
   },
   {
    "duration": 1131,
    "start_time": "2023-05-14T16:31:55.211Z"
   },
   {
    "duration": 24315,
    "start_time": "2023-05-14T16:31:56.344Z"
   },
   {
    "duration": 902,
    "start_time": "2023-05-14T16:32:20.661Z"
   },
   {
    "duration": 1209,
    "start_time": "2023-05-14T16:32:21.566Z"
   },
   {
    "duration": 3,
    "start_time": "2023-05-14T16:32:22.776Z"
   },
   {
    "duration": 82,
    "start_time": "2023-05-14T16:32:22.781Z"
   },
   {
    "duration": 1521,
    "start_time": "2023-05-14T16:32:22.865Z"
   },
   {
    "duration": 1578,
    "start_time": "2023-05-14T16:32:24.388Z"
   },
   {
    "duration": 1492,
    "start_time": "2023-05-14T16:32:25.968Z"
   },
   {
    "duration": 103,
    "start_time": "2023-05-14T16:32:27.463Z"
   },
   {
    "duration": 405,
    "start_time": "2023-05-14T16:32:27.568Z"
   },
   {
    "duration": 2,
    "start_time": "2023-05-14T16:32:27.975Z"
   },
   {
    "duration": 81,
    "start_time": "2023-05-14T16:32:27.979Z"
   },
   {
    "duration": 338,
    "start_time": "2023-05-14T16:32:28.062Z"
   },
   {
    "duration": 4168,
    "start_time": "2023-05-14T16:32:28.456Z"
   },
   {
    "duration": 2,
    "start_time": "2023-05-14T16:32:32.626Z"
   },
   {
    "duration": 18,
    "start_time": "2023-05-14T16:32:32.630Z"
   },
   {
    "duration": 11,
    "start_time": "2023-05-14T16:32:32.656Z"
   },
   {
    "duration": 358,
    "start_time": "2023-05-14T16:32:32.669Z"
   },
   {
    "duration": 54,
    "start_time": "2023-05-14T16:32:33.029Z"
   },
   {
    "duration": 1909,
    "start_time": "2023-05-14T16:32:33.085Z"
   },
   {
    "duration": 37,
    "start_time": "2023-05-14T16:32:35.058Z"
   },
   {
    "duration": 9,
    "start_time": "2023-05-14T16:32:35.158Z"
   },
   {
    "duration": 4398,
    "start_time": "2023-05-14T16:32:35.168Z"
   },
   {
    "duration": 137,
    "start_time": "2023-05-14T16:32:39.568Z"
   },
   {
    "duration": 0,
    "start_time": "2023-05-14T16:32:39.708Z"
   },
   {
    "duration": 0,
    "start_time": "2023-05-14T16:32:39.710Z"
   },
   {
    "duration": 0,
    "start_time": "2023-05-14T16:32:39.712Z"
   },
   {
    "duration": 0,
    "start_time": "2023-05-14T16:32:39.714Z"
   },
   {
    "duration": 0,
    "start_time": "2023-05-14T16:32:39.715Z"
   },
   {
    "duration": 0,
    "start_time": "2023-05-14T16:32:39.717Z"
   },
   {
    "duration": 0,
    "start_time": "2023-05-14T16:32:39.718Z"
   },
   {
    "duration": 0,
    "start_time": "2023-05-14T16:32:39.720Z"
   },
   {
    "duration": 0,
    "start_time": "2023-05-14T16:32:39.721Z"
   },
   {
    "duration": 0,
    "start_time": "2023-05-14T16:32:39.723Z"
   },
   {
    "duration": 1,
    "start_time": "2023-05-14T16:32:39.723Z"
   },
   {
    "duration": 0,
    "start_time": "2023-05-14T16:32:39.757Z"
   },
   {
    "duration": 0,
    "start_time": "2023-05-14T16:32:39.758Z"
   },
   {
    "duration": 0,
    "start_time": "2023-05-14T16:32:39.759Z"
   },
   {
    "duration": 0,
    "start_time": "2023-05-14T16:32:39.760Z"
   },
   {
    "duration": 0,
    "start_time": "2023-05-14T16:32:39.761Z"
   },
   {
    "duration": 0,
    "start_time": "2023-05-14T16:32:39.762Z"
   },
   {
    "duration": 0,
    "start_time": "2023-05-14T16:32:39.763Z"
   },
   {
    "duration": 0,
    "start_time": "2023-05-14T16:32:39.764Z"
   },
   {
    "duration": 0,
    "start_time": "2023-05-14T16:32:39.765Z"
   },
   {
    "duration": 101,
    "start_time": "2023-05-14T16:33:51.578Z"
   },
   {
    "duration": 495,
    "start_time": "2023-05-14T16:34:19.793Z"
   },
   {
    "duration": 9,
    "start_time": "2023-05-14T16:38:57.812Z"
   },
   {
    "duration": 12,
    "start_time": "2023-05-14T16:44:12.496Z"
   },
   {
    "duration": 9,
    "start_time": "2023-05-14T16:50:16.947Z"
   },
   {
    "duration": 6,
    "start_time": "2023-05-14T16:54:33.096Z"
   },
   {
    "duration": 568,
    "start_time": "2023-05-14T16:56:27.294Z"
   },
   {
    "duration": 283,
    "start_time": "2023-05-14T16:56:29.077Z"
   },
   {
    "duration": 224,
    "start_time": "2023-05-14T16:56:29.362Z"
   },
   {
    "duration": 3,
    "start_time": "2023-05-14T16:56:29.588Z"
   },
   {
    "duration": 8,
    "start_time": "2023-05-14T16:56:29.808Z"
   },
   {
    "duration": 730,
    "start_time": "2023-05-14T16:56:30.928Z"
   },
   {
    "duration": 615,
    "start_time": "2023-05-14T16:56:31.661Z"
   },
   {
    "duration": 1108,
    "start_time": "2023-05-14T16:56:32.279Z"
   },
   {
    "duration": 105,
    "start_time": "2023-05-14T16:56:33.389Z"
   },
   {
    "duration": 239,
    "start_time": "2023-05-14T16:56:33.558Z"
   },
   {
    "duration": 3,
    "start_time": "2023-05-14T16:56:33.799Z"
   },
   {
    "duration": 6,
    "start_time": "2023-05-14T16:56:33.858Z"
   },
   {
    "duration": 104,
    "start_time": "2023-05-14T16:56:33.866Z"
   },
   {
    "duration": 2500,
    "start_time": "2023-05-14T16:56:33.972Z"
   },
   {
    "duration": 4,
    "start_time": "2023-05-14T16:56:36.475Z"
   },
   {
    "duration": 19,
    "start_time": "2023-05-14T16:56:36.481Z"
   },
   {
    "duration": 13,
    "start_time": "2023-05-14T16:56:36.503Z"
   },
   {
    "duration": 196,
    "start_time": "2023-05-14T16:56:36.518Z"
   },
   {
    "duration": 19,
    "start_time": "2023-05-14T16:56:36.716Z"
   },
   {
    "duration": 821,
    "start_time": "2023-05-14T16:56:36.738Z"
   },
   {
    "duration": 12,
    "start_time": "2023-05-14T16:56:37.561Z"
   },
   {
    "duration": 4,
    "start_time": "2023-05-14T16:56:37.576Z"
   },
   {
    "duration": 2316,
    "start_time": "2023-05-14T16:56:37.582Z"
   },
   {
    "duration": 157,
    "start_time": "2023-05-14T16:56:39.900Z"
   },
   {
    "duration": 487,
    "start_time": "2023-05-14T16:56:40.059Z"
   },
   {
    "duration": 19,
    "start_time": "2023-05-14T16:56:40.548Z"
   },
   {
    "duration": 17,
    "start_time": "2023-05-14T19:33:21.835Z"
   },
   {
    "duration": 832,
    "start_time": "2023-05-14T19:33:41.833Z"
   },
   {
    "duration": 464,
    "start_time": "2023-05-14T19:37:58.534Z"
   },
   {
    "duration": 464,
    "start_time": "2023-05-14T19:47:04.963Z"
   },
   {
    "duration": 1278,
    "start_time": "2023-05-14T19:49:05.524Z"
   },
   {
    "duration": 9,
    "start_time": "2023-05-14T19:52:21.762Z"
   },
   {
    "duration": 9,
    "start_time": "2023-05-14T19:52:50.343Z"
   },
   {
    "duration": 3,
    "start_time": "2023-05-14T19:53:03.094Z"
   },
   {
    "duration": 1338,
    "start_time": "2023-05-14T19:53:17.728Z"
   },
   {
    "duration": 10,
    "start_time": "2023-05-14T19:54:08.096Z"
   },
   {
    "duration": 505,
    "start_time": "2023-05-14T19:54:08.877Z"
   },
   {
    "duration": 7,
    "start_time": "2023-05-14T19:54:10.545Z"
   },
   {
    "duration": 3,
    "start_time": "2023-05-14T19:54:11.795Z"
   },
   {
    "duration": 1097,
    "start_time": "2023-05-14T19:54:12.325Z"
   },
   {
    "duration": 30,
    "start_time": "2023-05-14T19:54:40.827Z"
   },
   {
    "duration": 499,
    "start_time": "2023-05-14T19:54:56.060Z"
   },
   {
    "duration": 1350,
    "start_time": "2023-05-14T19:55:57.061Z"
   },
   {
    "duration": 881,
    "start_time": "2023-05-14T19:57:15.677Z"
   },
   {
    "duration": 4,
    "start_time": "2023-05-14T19:58:57.710Z"
   },
   {
    "duration": 4,
    "start_time": "2023-05-14T19:59:04.609Z"
   },
   {
    "duration": 1231,
    "start_time": "2023-05-14T19:59:45.768Z"
   },
   {
    "duration": 26476,
    "start_time": "2023-05-14T19:59:47.001Z"
   },
   {
    "duration": 900,
    "start_time": "2023-05-14T20:00:13.480Z"
   },
   {
    "duration": 1388,
    "start_time": "2023-05-14T20:00:14.383Z"
   },
   {
    "duration": 4,
    "start_time": "2023-05-14T20:00:15.772Z"
   },
   {
    "duration": 90,
    "start_time": "2023-05-14T20:00:15.778Z"
   },
   {
    "duration": 1904,
    "start_time": "2023-05-14T20:00:15.871Z"
   },
   {
    "duration": 1991,
    "start_time": "2023-05-14T20:00:17.777Z"
   },
   {
    "duration": 1925,
    "start_time": "2023-05-14T20:00:19.773Z"
   },
   {
    "duration": 122,
    "start_time": "2023-05-14T20:00:21.759Z"
   },
   {
    "duration": 412,
    "start_time": "2023-05-14T20:00:21.884Z"
   },
   {
    "duration": 59,
    "start_time": "2023-05-14T20:00:22.298Z"
   },
   {
    "duration": 11,
    "start_time": "2023-05-14T20:00:22.360Z"
   },
   {
    "duration": 417,
    "start_time": "2023-05-14T20:00:22.374Z"
   },
   {
    "duration": 4847,
    "start_time": "2023-05-14T20:00:22.793Z"
   },
   {
    "duration": 2,
    "start_time": "2023-05-14T20:00:27.642Z"
   },
   {
    "duration": 3,
    "start_time": "2023-05-14T20:00:27.658Z"
   },
   {
    "duration": 26,
    "start_time": "2023-05-14T20:00:27.663Z"
   },
   {
    "duration": 389,
    "start_time": "2023-05-14T20:00:27.690Z"
   },
   {
    "duration": 96,
    "start_time": "2023-05-14T20:00:28.081Z"
   },
   {
    "duration": 2186,
    "start_time": "2023-05-14T20:00:28.179Z"
   },
   {
    "duration": 104,
    "start_time": "2023-05-14T20:00:30.366Z"
   },
   {
    "duration": 3,
    "start_time": "2023-05-14T20:00:30.472Z"
   },
   {
    "duration": 5386,
    "start_time": "2023-05-14T20:00:30.477Z"
   },
   {
    "duration": 215,
    "start_time": "2023-05-14T20:00:35.867Z"
   },
   {
    "duration": 685,
    "start_time": "2023-05-14T20:00:36.084Z"
   },
   {
    "duration": 2297,
    "start_time": "2023-05-14T20:00:36.771Z"
   },
   {
    "duration": 10,
    "start_time": "2023-05-14T20:00:39.073Z"
   },
   {
    "duration": 813,
    "start_time": "2023-05-14T20:00:39.085Z"
   },
   {
    "duration": 7,
    "start_time": "2023-05-14T20:00:39.958Z"
   },
   {
    "duration": 3,
    "start_time": "2023-05-14T20:00:39.967Z"
   },
   {
    "duration": 1925,
    "start_time": "2023-05-14T20:00:39.972Z"
   },
   {
    "duration": 75,
    "start_time": "2023-05-14T20:00:41.899Z"
   },
   {
    "duration": 441,
    "start_time": "2023-05-14T20:00:41.975Z"
   },
   {
    "duration": 1632,
    "start_time": "2023-05-14T20:00:42.418Z"
   },
   {
    "duration": 3,
    "start_time": "2023-05-14T20:00:44.053Z"
   },
   {
    "duration": 9,
    "start_time": "2023-05-14T20:00:44.058Z"
   },
   {
    "duration": 23,
    "start_time": "2023-05-14T20:00:44.069Z"
   },
   {
    "duration": 16,
    "start_time": "2023-05-14T20:00:44.095Z"
   },
   {
    "duration": 3,
    "start_time": "2023-05-14T20:00:44.114Z"
   },
   {
    "duration": 6,
    "start_time": "2023-05-14T20:00:44.120Z"
   },
   {
    "duration": 5,
    "start_time": "2023-05-14T20:00:44.128Z"
   },
   {
    "duration": 7,
    "start_time": "2023-05-14T20:00:44.135Z"
   },
   {
    "duration": 18,
    "start_time": "2023-05-14T20:00:44.144Z"
   },
   {
    "duration": 4,
    "start_time": "2023-05-14T20:00:44.164Z"
   },
   {
    "duration": 5,
    "start_time": "2023-05-14T20:00:44.170Z"
   },
   {
    "duration": 4,
    "start_time": "2023-05-14T20:00:44.177Z"
   },
   {
    "duration": 5,
    "start_time": "2023-05-14T20:00:44.183Z"
   },
   {
    "duration": 4,
    "start_time": "2023-05-14T20:00:44.190Z"
   },
   {
    "duration": 6,
    "start_time": "2023-05-14T20:00:44.196Z"
   },
   {
    "duration": 6,
    "start_time": "2023-05-14T20:00:44.205Z"
   },
   {
    "duration": 48,
    "start_time": "2023-05-14T20:00:44.213Z"
   },
   {
    "duration": 14,
    "start_time": "2023-05-14T20:00:44.263Z"
   },
   {
    "duration": 220,
    "start_time": "2023-05-14T20:00:44.279Z"
   },
   {
    "duration": 1493,
    "start_time": "2023-05-15T16:48:15.344Z"
   },
   {
    "duration": 30200,
    "start_time": "2023-05-15T16:48:16.839Z"
   },
   {
    "duration": 877,
    "start_time": "2023-05-15T16:48:47.042Z"
   },
   {
    "duration": 1320,
    "start_time": "2023-05-15T16:48:47.921Z"
   },
   {
    "duration": 82,
    "start_time": "2023-05-15T16:48:49.245Z"
   },
   {
    "duration": 2206,
    "start_time": "2023-05-15T16:48:49.329Z"
   },
   {
    "duration": 2013,
    "start_time": "2023-05-15T16:48:51.537Z"
   },
   {
    "duration": 1832,
    "start_time": "2023-05-15T16:48:53.618Z"
   },
   {
    "duration": 173,
    "start_time": "2023-05-15T16:48:55.452Z"
   },
   {
    "duration": 417,
    "start_time": "2023-05-15T16:48:55.627Z"
   },
   {
    "duration": 76,
    "start_time": "2023-05-15T16:48:56.046Z"
   },
   {
    "duration": 426,
    "start_time": "2023-05-15T16:48:56.124Z"
   },
   {
    "duration": 5672,
    "start_time": "2023-05-15T16:48:56.553Z"
   },
   {
    "duration": 12,
    "start_time": "2023-05-15T16:49:02.230Z"
   },
   {
    "duration": 407,
    "start_time": "2023-05-15T16:49:02.244Z"
   },
   {
    "duration": 111,
    "start_time": "2023-05-15T16:49:02.653Z"
   },
   {
    "duration": 1872,
    "start_time": "2023-05-15T16:49:02.766Z"
   },
   {
    "duration": 151,
    "start_time": "2023-05-15T16:49:04.642Z"
   },
   {
    "duration": 4,
    "start_time": "2023-05-15T16:49:04.797Z"
   },
   {
    "duration": 5029,
    "start_time": "2023-05-15T16:49:04.803Z"
   },
   {
    "duration": 121,
    "start_time": "2023-05-15T16:49:09.833Z"
   },
   {
    "duration": 569,
    "start_time": "2023-05-15T16:49:09.955Z"
   },
   {
    "duration": 2003,
    "start_time": "2023-05-15T16:49:10.527Z"
   },
   {
    "duration": 9,
    "start_time": "2023-05-15T16:49:12.532Z"
   },
   {
    "duration": 845,
    "start_time": "2023-05-15T16:49:12.543Z"
   },
   {
    "duration": 38,
    "start_time": "2023-05-15T16:49:13.390Z"
   },
   {
    "duration": 39,
    "start_time": "2023-05-15T16:49:13.430Z"
   },
   {
    "duration": 1554,
    "start_time": "2023-05-15T16:49:13.472Z"
   },
   {
    "duration": 30,
    "start_time": "2023-05-15T16:49:15.028Z"
   },
   {
    "duration": 469,
    "start_time": "2023-05-15T16:49:15.060Z"
   },
   {
    "duration": 1490,
    "start_time": "2023-05-15T16:49:15.531Z"
   },
   {
    "duration": 4,
    "start_time": "2023-05-15T16:49:17.022Z"
   },
   {
    "duration": 11,
    "start_time": "2023-05-15T16:49:17.027Z"
   },
   {
    "duration": 294,
    "start_time": "2023-05-15T16:49:17.040Z"
   },
   {
    "duration": 127,
    "start_time": "2023-05-15T16:56:37.732Z"
   },
   {
    "duration": 127,
    "start_time": "2023-05-15T16:56:42.952Z"
   },
   {
    "duration": 6,
    "start_time": "2023-05-15T16:56:52.431Z"
   },
   {
    "duration": 1031,
    "start_time": "2023-05-15T16:56:53.115Z"
   },
   {
    "duration": 204,
    "start_time": "2023-05-15T16:56:54.148Z"
   },
   {
    "duration": 214,
    "start_time": "2023-05-15T16:56:54.702Z"
   },
   {
    "duration": 8,
    "start_time": "2023-05-15T16:56:56.115Z"
   },
   {
    "duration": 630,
    "start_time": "2023-05-15T16:56:56.647Z"
   },
   {
    "duration": 332,
    "start_time": "2023-05-15T16:56:57.799Z"
   },
   {
    "duration": 24,
    "start_time": "2023-05-15T16:58:44.734Z"
   },
   {
    "duration": 640,
    "start_time": "2023-05-15T16:59:29.977Z"
   },
   {
    "duration": 22,
    "start_time": "2023-05-15T16:59:37.916Z"
   },
   {
    "duration": 2,
    "start_time": "2023-05-15T16:59:39.415Z"
   },
   {
    "duration": 419,
    "start_time": "2023-05-15T16:59:39.872Z"
   },
   {
    "duration": 10,
    "start_time": "2023-05-15T17:00:11.185Z"
   },
   {
    "duration": 12,
    "start_time": "2023-05-15T17:00:19.171Z"
   },
   {
    "duration": 9,
    "start_time": "2023-05-15T17:00:29.533Z"
   },
   {
    "duration": 27,
    "start_time": "2023-05-15T17:00:44.133Z"
   },
   {
    "duration": 2,
    "start_time": "2023-05-15T17:00:47.526Z"
   },
   {
    "duration": 480,
    "start_time": "2023-05-15T17:00:48.572Z"
   },
   {
    "duration": 8,
    "start_time": "2023-05-15T17:00:56.015Z"
   },
   {
    "duration": 422,
    "start_time": "2023-05-15T17:00:56.215Z"
   },
   {
    "duration": 185,
    "start_time": "2023-05-15T17:00:56.638Z"
   },
   {
    "duration": 147,
    "start_time": "2023-05-15T17:00:57.693Z"
   },
   {
    "duration": 8,
    "start_time": "2023-05-15T17:00:59.056Z"
   },
   {
    "duration": 548,
    "start_time": "2023-05-15T17:01:00.331Z"
   },
   {
    "duration": 313,
    "start_time": "2023-05-15T17:01:01.915Z"
   },
   {
    "duration": 17,
    "start_time": "2023-05-15T17:01:03.182Z"
   },
   {
    "duration": 3,
    "start_time": "2023-05-15T17:01:04.533Z"
   },
   {
    "duration": 498,
    "start_time": "2023-05-15T17:01:04.732Z"
   },
   {
    "duration": 211,
    "start_time": "2023-05-15T17:03:40.834Z"
   },
   {
    "duration": 10,
    "start_time": "2023-05-15T17:03:42.012Z"
   },
   {
    "duration": 9,
    "start_time": "2023-05-15T17:03:49.950Z"
   },
   {
    "duration": 290,
    "start_time": "2023-05-15T17:04:08.750Z"
   },
   {
    "duration": 3,
    "start_time": "2023-05-15T17:04:13.742Z"
   },
   {
    "duration": 2,
    "start_time": "2023-05-15T17:04:15.765Z"
   },
   {
    "duration": 663,
    "start_time": "2023-05-15T17:04:16.481Z"
   },
   {
    "duration": 13,
    "start_time": "2023-05-15T17:04:49.090Z"
   },
   {
    "duration": 7,
    "start_time": "2023-05-15T17:04:59.231Z"
   },
   {
    "duration": 293,
    "start_time": "2023-05-15T17:04:59.434Z"
   },
   {
    "duration": 126,
    "start_time": "2023-05-15T17:04:59.729Z"
   },
   {
    "duration": 130,
    "start_time": "2023-05-15T17:04:59.857Z"
   },
   {
    "duration": 7,
    "start_time": "2023-05-15T17:05:00.031Z"
   },
   {
    "duration": 498,
    "start_time": "2023-05-15T17:05:01.402Z"
   },
   {
    "duration": 228,
    "start_time": "2023-05-15T17:05:02.917Z"
   },
   {
    "duration": 217,
    "start_time": "2023-05-15T17:05:04.017Z"
   },
   {
    "duration": 3,
    "start_time": "2023-05-15T17:05:05.066Z"
   },
   {
    "duration": 2,
    "start_time": "2023-05-15T17:05:05.632Z"
   },
   {
    "duration": 406,
    "start_time": "2023-05-15T17:05:06.217Z"
   },
   {
    "duration": 1221,
    "start_time": "2023-05-15T17:05:19.272Z"
   },
   {
    "duration": 25862,
    "start_time": "2023-05-15T17:05:20.495Z"
   },
   {
    "duration": 806,
    "start_time": "2023-05-15T17:05:46.418Z"
   },
   {
    "duration": 1129,
    "start_time": "2023-05-15T17:05:47.227Z"
   },
   {
    "duration": 16,
    "start_time": "2023-05-15T17:05:48.420Z"
   },
   {
    "duration": 1792,
    "start_time": "2023-05-15T17:05:48.438Z"
   },
   {
    "duration": 1089,
    "start_time": "2023-05-15T17:05:50.233Z"
   },
   {
    "duration": 903,
    "start_time": "2023-05-15T17:05:51.325Z"
   },
   {
    "duration": 4,
    "start_time": "2023-05-15T17:05:52.232Z"
   },
   {
    "duration": 83,
    "start_time": "2023-05-15T17:05:52.239Z"
   },
   {
    "duration": 1015,
    "start_time": "2023-05-15T17:05:52.324Z"
   },
   {
    "duration": 1985,
    "start_time": "2023-05-15T17:05:53.341Z"
   },
   {
    "duration": 0,
    "start_time": "2023-05-15T17:05:55.328Z"
   },
   {
    "duration": 0,
    "start_time": "2023-05-15T17:05:55.329Z"
   },
   {
    "duration": 0,
    "start_time": "2023-05-15T17:05:55.330Z"
   },
   {
    "duration": 0,
    "start_time": "2023-05-15T17:05:55.332Z"
   },
   {
    "duration": 1,
    "start_time": "2023-05-15T17:05:55.332Z"
   },
   {
    "duration": 0,
    "start_time": "2023-05-15T17:05:55.334Z"
   },
   {
    "duration": 0,
    "start_time": "2023-05-15T17:05:55.335Z"
   },
   {
    "duration": 0,
    "start_time": "2023-05-15T17:05:55.336Z"
   },
   {
    "duration": 0,
    "start_time": "2023-05-15T17:05:55.337Z"
   },
   {
    "duration": 0,
    "start_time": "2023-05-15T17:05:55.338Z"
   },
   {
    "duration": 0,
    "start_time": "2023-05-15T17:05:55.338Z"
   },
   {
    "duration": 0,
    "start_time": "2023-05-15T17:05:55.339Z"
   },
   {
    "duration": 0,
    "start_time": "2023-05-15T17:05:55.341Z"
   },
   {
    "duration": 0,
    "start_time": "2023-05-15T17:05:55.342Z"
   },
   {
    "duration": 0,
    "start_time": "2023-05-15T17:05:55.342Z"
   },
   {
    "duration": 0,
    "start_time": "2023-05-15T17:05:55.343Z"
   },
   {
    "duration": 0,
    "start_time": "2023-05-15T17:05:55.345Z"
   },
   {
    "duration": 0,
    "start_time": "2023-05-15T17:05:55.347Z"
   },
   {
    "duration": 0,
    "start_time": "2023-05-15T17:05:55.349Z"
   },
   {
    "duration": 0,
    "start_time": "2023-05-15T17:05:55.350Z"
   },
   {
    "duration": 0,
    "start_time": "2023-05-15T17:05:55.351Z"
   },
   {
    "duration": 0,
    "start_time": "2023-05-15T17:05:55.352Z"
   },
   {
    "duration": 0,
    "start_time": "2023-05-15T17:05:55.353Z"
   },
   {
    "duration": 0,
    "start_time": "2023-05-15T17:05:55.355Z"
   },
   {
    "duration": 0,
    "start_time": "2023-05-15T17:05:55.356Z"
   },
   {
    "duration": 0,
    "start_time": "2023-05-15T17:05:55.357Z"
   },
   {
    "duration": 1350,
    "start_time": "2023-05-15T17:08:50.508Z"
   },
   {
    "duration": 23767,
    "start_time": "2023-05-15T17:08:51.860Z"
   },
   {
    "duration": 796,
    "start_time": "2023-05-15T17:09:15.629Z"
   },
   {
    "duration": 1027,
    "start_time": "2023-05-15T17:09:16.427Z"
   },
   {
    "duration": 74,
    "start_time": "2023-05-15T17:09:17.456Z"
   },
   {
    "duration": 1599,
    "start_time": "2023-05-15T17:09:17.531Z"
   },
   {
    "duration": 919,
    "start_time": "2023-05-15T17:09:19.132Z"
   },
   {
    "duration": 885,
    "start_time": "2023-05-15T17:09:20.053Z"
   },
   {
    "duration": 3,
    "start_time": "2023-05-15T17:09:20.940Z"
   },
   {
    "duration": 81,
    "start_time": "2023-05-15T17:09:20.944Z"
   },
   {
    "duration": 1112,
    "start_time": "2023-05-15T17:09:21.027Z"
   },
   {
    "duration": 779,
    "start_time": "2023-05-15T17:09:22.141Z"
   },
   {
    "duration": 113,
    "start_time": "2023-05-15T17:09:22.922Z"
   },
   {
    "duration": 397,
    "start_time": "2023-05-15T17:09:23.038Z"
   },
   {
    "duration": 8,
    "start_time": "2023-05-15T17:09:23.437Z"
   },
   {
    "duration": 379,
    "start_time": "2023-05-15T17:09:23.447Z"
   },
   {
    "duration": 1241,
    "start_time": "2023-05-15T17:09:23.828Z"
   },
   {
    "duration": 0,
    "start_time": "2023-05-15T17:09:25.071Z"
   },
   {
    "duration": 0,
    "start_time": "2023-05-15T17:09:25.072Z"
   },
   {
    "duration": 0,
    "start_time": "2023-05-15T17:09:25.073Z"
   },
   {
    "duration": 0,
    "start_time": "2023-05-15T17:09:25.074Z"
   },
   {
    "duration": 0,
    "start_time": "2023-05-15T17:09:25.075Z"
   },
   {
    "duration": 0,
    "start_time": "2023-05-15T17:09:25.076Z"
   },
   {
    "duration": 0,
    "start_time": "2023-05-15T17:09:25.077Z"
   },
   {
    "duration": 0,
    "start_time": "2023-05-15T17:09:25.078Z"
   },
   {
    "duration": 0,
    "start_time": "2023-05-15T17:09:25.079Z"
   },
   {
    "duration": 0,
    "start_time": "2023-05-15T17:09:25.081Z"
   },
   {
    "duration": 0,
    "start_time": "2023-05-15T17:09:25.082Z"
   },
   {
    "duration": 0,
    "start_time": "2023-05-15T17:09:25.083Z"
   },
   {
    "duration": 0,
    "start_time": "2023-05-15T17:09:25.084Z"
   },
   {
    "duration": 0,
    "start_time": "2023-05-15T17:09:25.085Z"
   },
   {
    "duration": 0,
    "start_time": "2023-05-15T17:09:25.086Z"
   },
   {
    "duration": 0,
    "start_time": "2023-05-15T17:09:25.087Z"
   },
   {
    "duration": 0,
    "start_time": "2023-05-15T17:09:25.088Z"
   },
   {
    "duration": 0,
    "start_time": "2023-05-15T17:09:25.089Z"
   },
   {
    "duration": 0,
    "start_time": "2023-05-15T17:09:25.090Z"
   },
   {
    "duration": 0,
    "start_time": "2023-05-15T17:09:25.091Z"
   },
   {
    "duration": 0,
    "start_time": "2023-05-15T17:09:25.092Z"
   },
   {
    "duration": 400,
    "start_time": "2023-05-15T17:11:31.837Z"
   },
   {
    "duration": 8,
    "start_time": "2023-05-15T17:11:33.926Z"
   },
   {
    "duration": 10,
    "start_time": "2023-05-15T17:11:46.566Z"
   },
   {
    "duration": 8,
    "start_time": "2023-05-15T17:11:56.767Z"
   },
   {
    "duration": 8,
    "start_time": "2023-05-15T17:12:30.620Z"
   },
   {
    "duration": 20,
    "start_time": "2023-05-15T17:12:39.883Z"
   },
   {
    "duration": 14,
    "start_time": "2023-05-15T17:13:00.619Z"
   },
   {
    "duration": 12,
    "start_time": "2023-05-15T17:13:16.886Z"
   },
   {
    "duration": 8,
    "start_time": "2023-05-15T19:54:12.587Z"
   },
   {
    "duration": 633,
    "start_time": "2023-05-15T19:54:12.923Z"
   },
   {
    "duration": 213,
    "start_time": "2023-05-15T19:54:14.257Z"
   },
   {
    "duration": 217,
    "start_time": "2023-05-15T19:54:15.122Z"
   },
   {
    "duration": 7,
    "start_time": "2023-05-15T19:54:15.972Z"
   },
   {
    "duration": 667,
    "start_time": "2023-05-15T19:54:16.615Z"
   },
   {
    "duration": 335,
    "start_time": "2023-05-15T19:54:17.318Z"
   },
   {
    "duration": 1135,
    "start_time": "2023-05-15T19:54:42.866Z"
   },
   {
    "duration": 23422,
    "start_time": "2023-05-15T19:54:44.003Z"
   },
   {
    "duration": 800,
    "start_time": "2023-05-15T19:55:07.427Z"
   },
   {
    "duration": 1188,
    "start_time": "2023-05-15T19:55:08.229Z"
   },
   {
    "duration": 11,
    "start_time": "2023-05-15T19:55:09.420Z"
   },
   {
    "duration": 1618,
    "start_time": "2023-05-15T19:55:09.433Z"
   },
   {
    "duration": 832,
    "start_time": "2023-05-15T19:55:11.118Z"
   },
   {
    "duration": 154,
    "start_time": "2023-05-15T19:55:12.017Z"
   },
   {
    "duration": 0,
    "start_time": "2023-05-15T19:55:12.173Z"
   },
   {
    "duration": 0,
    "start_time": "2023-05-15T19:55:12.174Z"
   },
   {
    "duration": 0,
    "start_time": "2023-05-15T19:55:12.175Z"
   },
   {
    "duration": 0,
    "start_time": "2023-05-15T19:55:12.176Z"
   },
   {
    "duration": 0,
    "start_time": "2023-05-15T19:55:12.177Z"
   },
   {
    "duration": 0,
    "start_time": "2023-05-15T19:55:12.178Z"
   },
   {
    "duration": 0,
    "start_time": "2023-05-15T19:55:12.178Z"
   },
   {
    "duration": 0,
    "start_time": "2023-05-15T19:55:12.179Z"
   },
   {
    "duration": 0,
    "start_time": "2023-05-15T19:55:12.180Z"
   },
   {
    "duration": 0,
    "start_time": "2023-05-15T19:55:12.181Z"
   },
   {
    "duration": 0,
    "start_time": "2023-05-15T19:55:12.182Z"
   },
   {
    "duration": 0,
    "start_time": "2023-05-15T19:55:12.183Z"
   },
   {
    "duration": 0,
    "start_time": "2023-05-15T19:55:12.184Z"
   },
   {
    "duration": 0,
    "start_time": "2023-05-15T19:55:12.185Z"
   },
   {
    "duration": 0,
    "start_time": "2023-05-15T19:55:12.186Z"
   },
   {
    "duration": 0,
    "start_time": "2023-05-15T19:55:12.187Z"
   },
   {
    "duration": 0,
    "start_time": "2023-05-15T19:55:12.188Z"
   },
   {
    "duration": 0,
    "start_time": "2023-05-15T19:55:12.189Z"
   },
   {
    "duration": 0,
    "start_time": "2023-05-15T19:55:12.217Z"
   },
   {
    "duration": 0,
    "start_time": "2023-05-15T19:55:12.218Z"
   },
   {
    "duration": 0,
    "start_time": "2023-05-15T19:55:12.219Z"
   },
   {
    "duration": 0,
    "start_time": "2023-05-15T19:55:12.220Z"
   },
   {
    "duration": 0,
    "start_time": "2023-05-15T19:55:12.221Z"
   },
   {
    "duration": 0,
    "start_time": "2023-05-15T19:55:12.222Z"
   },
   {
    "duration": 0,
    "start_time": "2023-05-15T19:55:12.223Z"
   },
   {
    "duration": 0,
    "start_time": "2023-05-15T19:55:12.224Z"
   },
   {
    "duration": 0,
    "start_time": "2023-05-15T19:55:12.225Z"
   },
   {
    "duration": 0,
    "start_time": "2023-05-15T19:55:12.226Z"
   },
   {
    "duration": 0,
    "start_time": "2023-05-15T19:55:12.227Z"
   },
   {
    "duration": 42,
    "start_time": "2023-05-15T20:02:34.489Z"
   },
   {
    "duration": 2,
    "start_time": "2023-05-15T20:02:38.438Z"
   },
   {
    "duration": 3,
    "start_time": "2023-05-15T20:02:38.719Z"
   },
   {
    "duration": 918,
    "start_time": "2023-05-15T20:02:39.902Z"
   },
   {
    "duration": 32,
    "start_time": "2023-05-15T20:25:24.297Z"
   },
   {
    "duration": 2,
    "start_time": "2023-05-15T20:25:40.532Z"
   },
   {
    "duration": 2,
    "start_time": "2023-05-15T20:25:41.098Z"
   },
   {
    "duration": 922,
    "start_time": "2023-05-15T20:25:41.749Z"
   },
   {
    "duration": 133,
    "start_time": "2023-05-15T20:26:09.333Z"
   },
   {
    "duration": 23,
    "start_time": "2023-05-15T20:26:25.230Z"
   },
   {
    "duration": 22,
    "start_time": "2023-05-15T20:26:59.531Z"
   },
   {
    "duration": 2,
    "start_time": "2023-05-15T20:27:02.197Z"
   },
   {
    "duration": 2,
    "start_time": "2023-05-15T20:27:02.564Z"
   },
   {
    "duration": 663,
    "start_time": "2023-05-15T20:27:03.264Z"
   },
   {
    "duration": 21,
    "start_time": "2023-05-15T20:28:28.181Z"
   },
   {
    "duration": 2,
    "start_time": "2023-05-15T20:28:29.330Z"
   },
   {
    "duration": 2,
    "start_time": "2023-05-15T20:28:29.580Z"
   },
   {
    "duration": 618,
    "start_time": "2023-05-15T20:28:30.199Z"
   },
   {
    "duration": 1279,
    "start_time": "2023-05-15T20:28:59.978Z"
   },
   {
    "duration": 22963,
    "start_time": "2023-05-15T20:29:01.259Z"
   },
   {
    "duration": 694,
    "start_time": "2023-05-15T20:29:24.224Z"
   },
   {
    "duration": 921,
    "start_time": "2023-05-15T20:29:24.920Z"
   },
   {
    "duration": 75,
    "start_time": "2023-05-15T20:29:25.842Z"
   },
   {
    "duration": 1518,
    "start_time": "2023-05-15T20:29:25.919Z"
   },
   {
    "duration": 914,
    "start_time": "2023-05-15T20:29:27.439Z"
   },
   {
    "duration": 166,
    "start_time": "2023-05-15T20:29:28.354Z"
   },
   {
    "duration": 6,
    "start_time": "2023-05-15T20:29:28.522Z"
   },
   {
    "duration": 11,
    "start_time": "2023-05-15T20:29:28.530Z"
   },
   {
    "duration": 991,
    "start_time": "2023-05-15T20:29:28.543Z"
   },
   {
    "duration": 103,
    "start_time": "2023-05-15T20:29:29.536Z"
   },
   {
    "duration": 391,
    "start_time": "2023-05-15T20:29:29.640Z"
   },
   {
    "duration": 10,
    "start_time": "2023-05-15T20:29:30.032Z"
   },
   {
    "duration": 393,
    "start_time": "2023-05-15T20:29:30.043Z"
   },
   {
    "duration": 1212,
    "start_time": "2023-05-15T20:29:30.437Z"
   },
   {
    "duration": 0,
    "start_time": "2023-05-15T20:29:31.651Z"
   },
   {
    "duration": 0,
    "start_time": "2023-05-15T20:29:31.653Z"
   },
   {
    "duration": 0,
    "start_time": "2023-05-15T20:29:31.654Z"
   },
   {
    "duration": 0,
    "start_time": "2023-05-15T20:29:31.656Z"
   },
   {
    "duration": 0,
    "start_time": "2023-05-15T20:29:31.657Z"
   },
   {
    "duration": 0,
    "start_time": "2023-05-15T20:29:31.659Z"
   },
   {
    "duration": 0,
    "start_time": "2023-05-15T20:29:31.661Z"
   },
   {
    "duration": 0,
    "start_time": "2023-05-15T20:29:31.662Z"
   },
   {
    "duration": 0,
    "start_time": "2023-05-15T20:29:31.664Z"
   },
   {
    "duration": 0,
    "start_time": "2023-05-15T20:29:31.665Z"
   },
   {
    "duration": 0,
    "start_time": "2023-05-15T20:29:31.667Z"
   },
   {
    "duration": 0,
    "start_time": "2023-05-15T20:29:31.668Z"
   },
   {
    "duration": 1,
    "start_time": "2023-05-15T20:29:31.669Z"
   },
   {
    "duration": 0,
    "start_time": "2023-05-15T20:29:31.671Z"
   },
   {
    "duration": 0,
    "start_time": "2023-05-15T20:29:31.672Z"
   },
   {
    "duration": 0,
    "start_time": "2023-05-15T20:29:31.673Z"
   },
   {
    "duration": 0,
    "start_time": "2023-05-15T20:29:31.674Z"
   },
   {
    "duration": 0,
    "start_time": "2023-05-15T20:29:31.676Z"
   },
   {
    "duration": 0,
    "start_time": "2023-05-15T20:29:31.677Z"
   },
   {
    "duration": 0,
    "start_time": "2023-05-15T20:29:31.678Z"
   },
   {
    "duration": 0,
    "start_time": "2023-05-15T20:29:31.679Z"
   },
   {
    "duration": 552,
    "start_time": "2023-05-15T20:30:40.113Z"
   },
   {
    "duration": 81,
    "start_time": "2023-05-15T20:31:21.029Z"
   },
   {
    "duration": 515,
    "start_time": "2023-05-15T20:31:29.842Z"
   },
   {
    "duration": 80,
    "start_time": "2023-05-15T20:32:10.358Z"
   },
   {
    "duration": 31,
    "start_time": "2023-05-15T20:32:23.960Z"
   },
   {
    "duration": 2815,
    "start_time": "2023-05-15T20:32:25.178Z"
   },
   {
    "duration": 8,
    "start_time": "2023-05-15T20:32:51.210Z"
   },
   {
    "duration": 1183,
    "start_time": "2023-05-15T20:32:55.712Z"
   },
   {
    "duration": 23021,
    "start_time": "2023-05-15T20:32:56.897Z"
   },
   {
    "duration": 718,
    "start_time": "2023-05-15T20:33:19.920Z"
   },
   {
    "duration": 1082,
    "start_time": "2023-05-15T20:33:20.640Z"
   },
   {
    "duration": 13,
    "start_time": "2023-05-15T20:33:21.725Z"
   },
   {
    "duration": 1505,
    "start_time": "2023-05-15T20:33:21.818Z"
   },
   {
    "duration": 911,
    "start_time": "2023-05-15T20:33:23.324Z"
   },
   {
    "duration": 97,
    "start_time": "2023-05-15T20:33:24.236Z"
   },
   {
    "duration": 2,
    "start_time": "2023-05-15T20:33:24.335Z"
   },
   {
    "duration": 6,
    "start_time": "2023-05-15T20:33:24.339Z"
   },
   {
    "duration": 1001,
    "start_time": "2023-05-15T20:33:24.346Z"
   },
   {
    "duration": 105,
    "start_time": "2023-05-15T20:33:25.348Z"
   },
   {
    "duration": 390,
    "start_time": "2023-05-15T20:33:25.455Z"
   },
   {
    "duration": 8,
    "start_time": "2023-05-15T20:33:25.848Z"
   },
   {
    "duration": 302,
    "start_time": "2023-05-15T20:33:25.918Z"
   },
   {
    "duration": 4032,
    "start_time": "2023-05-15T20:33:26.221Z"
   },
   {
    "duration": 8,
    "start_time": "2023-05-15T20:33:30.255Z"
   },
   {
    "duration": 361,
    "start_time": "2023-05-15T20:33:30.265Z"
   },
   {
    "duration": 27,
    "start_time": "2023-05-15T20:33:30.629Z"
   },
   {
    "duration": 1772,
    "start_time": "2023-05-15T20:33:30.657Z"
   },
   {
    "duration": 92,
    "start_time": "2023-05-15T20:33:32.431Z"
   },
   {
    "duration": 4,
    "start_time": "2023-05-15T20:33:32.524Z"
   },
   {
    "duration": 2772,
    "start_time": "2023-05-15T20:33:32.529Z"
   },
   {
    "duration": 0,
    "start_time": "2023-05-15T20:33:35.302Z"
   },
   {
    "duration": 0,
    "start_time": "2023-05-15T20:33:35.304Z"
   },
   {
    "duration": 0,
    "start_time": "2023-05-15T20:33:35.305Z"
   },
   {
    "duration": 0,
    "start_time": "2023-05-15T20:33:35.306Z"
   },
   {
    "duration": 0,
    "start_time": "2023-05-15T20:33:35.307Z"
   },
   {
    "duration": 0,
    "start_time": "2023-05-15T20:33:35.311Z"
   },
   {
    "duration": 0,
    "start_time": "2023-05-15T20:33:35.312Z"
   },
   {
    "duration": 0,
    "start_time": "2023-05-15T20:33:35.313Z"
   },
   {
    "duration": 0,
    "start_time": "2023-05-15T20:33:35.314Z"
   },
   {
    "duration": 0,
    "start_time": "2023-05-15T20:33:35.315Z"
   },
   {
    "duration": 0,
    "start_time": "2023-05-15T20:33:35.316Z"
   },
   {
    "duration": 0,
    "start_time": "2023-05-15T20:33:35.317Z"
   },
   {
    "duration": 0,
    "start_time": "2023-05-15T20:33:35.318Z"
   },
   {
    "duration": 0,
    "start_time": "2023-05-15T20:33:35.318Z"
   },
   {
    "duration": 12,
    "start_time": "2023-05-15T20:35:34.300Z"
   },
   {
    "duration": 10,
    "start_time": "2023-05-15T20:35:51.183Z"
   },
   {
    "duration": 7,
    "start_time": "2023-05-15T20:35:59.149Z"
   },
   {
    "duration": 3,
    "start_time": "2023-05-15T20:35:59.915Z"
   },
   {
    "duration": 1460,
    "start_time": "2023-05-15T20:36:00.467Z"
   },
   {
    "duration": 36,
    "start_time": "2023-05-15T20:36:12.898Z"
   },
   {
    "duration": 416,
    "start_time": "2023-05-15T20:36:13.701Z"
   },
   {
    "duration": 14,
    "start_time": "2023-05-15T20:41:48.551Z"
   },
   {
    "duration": 131,
    "start_time": "2023-05-15T20:41:49.784Z"
   },
   {
    "duration": 2,
    "start_time": "2023-05-15T20:41:57.934Z"
   },
   {
    "duration": 2,
    "start_time": "2023-05-15T20:41:58.398Z"
   },
   {
    "duration": 627,
    "start_time": "2023-05-15T20:41:58.991Z"
   },
   {
    "duration": 5,
    "start_time": "2023-05-15T20:43:02.414Z"
   },
   {
    "duration": 410,
    "start_time": "2023-05-15T20:43:02.849Z"
   },
   {
    "duration": 124,
    "start_time": "2023-05-15T20:43:03.900Z"
   },
   {
    "duration": 133,
    "start_time": "2023-05-15T20:43:05.764Z"
   },
   {
    "duration": 8,
    "start_time": "2023-05-15T20:43:06.849Z"
   },
   {
    "duration": 653,
    "start_time": "2023-05-15T20:43:08.664Z"
   },
   {
    "duration": 5,
    "start_time": "2023-05-15T20:45:12.664Z"
   },
   {
    "duration": 376,
    "start_time": "2023-05-15T20:45:13.001Z"
   },
   {
    "duration": 146,
    "start_time": "2023-05-15T20:45:17.031Z"
   },
   {
    "duration": 205,
    "start_time": "2023-05-15T20:45:17.831Z"
   },
   {
    "duration": 7,
    "start_time": "2023-05-15T20:45:18.916Z"
   },
   {
    "duration": 457,
    "start_time": "2023-05-15T20:45:20.831Z"
   },
   {
    "duration": 277,
    "start_time": "2023-05-15T20:45:23.149Z"
   },
   {
    "duration": 21,
    "start_time": "2023-05-15T20:45:25.600Z"
   },
   {
    "duration": 2,
    "start_time": "2023-05-15T20:45:27.014Z"
   },
   {
    "duration": 3,
    "start_time": "2023-05-15T20:45:27.264Z"
   },
   {
    "duration": 398,
    "start_time": "2023-05-15T20:45:27.531Z"
   },
   {
    "duration": 22,
    "start_time": "2023-05-15T20:45:36.649Z"
   },
   {
    "duration": 118,
    "start_time": "2023-05-15T20:45:37.866Z"
   },
   {
    "duration": 722,
    "start_time": "2023-05-15T20:51:30.614Z"
   },
   {
    "duration": 205,
    "start_time": "2023-05-15T20:51:31.747Z"
   },
   {
    "duration": 10,
    "start_time": "2023-05-15T20:51:46.449Z"
   },
   {
    "duration": 329,
    "start_time": "2023-05-15T20:51:55.130Z"
   },
   {
    "duration": 18,
    "start_time": "2023-05-15T20:52:11.230Z"
   },
   {
    "duration": 3,
    "start_time": "2023-05-15T20:52:12.715Z"
   },
   {
    "duration": 2,
    "start_time": "2023-05-15T20:52:13.112Z"
   },
   {
    "duration": 566,
    "start_time": "2023-05-15T20:52:13.896Z"
   },
   {
    "duration": 1208,
    "start_time": "2023-05-15T20:52:20.113Z"
   },
   {
    "duration": 22727,
    "start_time": "2023-05-15T20:52:21.323Z"
   },
   {
    "duration": 693,
    "start_time": "2023-05-15T20:52:44.051Z"
   },
   {
    "duration": 1034,
    "start_time": "2023-05-15T20:52:44.817Z"
   },
   {
    "duration": 73,
    "start_time": "2023-05-15T20:52:45.853Z"
   },
   {
    "duration": 1419,
    "start_time": "2023-05-15T20:52:45.928Z"
   },
   {
    "duration": 969,
    "start_time": "2023-05-15T20:52:47.349Z"
   },
   {
    "duration": 632,
    "start_time": "2023-05-15T20:52:48.320Z"
   },
   {
    "duration": 88,
    "start_time": "2023-05-15T20:52:48.953Z"
   },
   {
    "duration": 2,
    "start_time": "2023-05-15T20:52:49.043Z"
   },
   {
    "duration": 71,
    "start_time": "2023-05-15T20:52:49.047Z"
   },
   {
    "duration": 909,
    "start_time": "2023-05-15T20:52:49.120Z"
   },
   {
    "duration": 106,
    "start_time": "2023-05-15T20:52:50.031Z"
   },
   {
    "duration": 394,
    "start_time": "2023-05-15T20:52:50.142Z"
   },
   {
    "duration": 8,
    "start_time": "2023-05-15T20:52:50.537Z"
   },
   {
    "duration": 313,
    "start_time": "2023-05-15T20:52:50.547Z"
   },
   {
    "duration": 1281,
    "start_time": "2023-05-15T20:52:50.916Z"
   },
   {
    "duration": 0,
    "start_time": "2023-05-15T20:52:52.218Z"
   },
   {
    "duration": 0,
    "start_time": "2023-05-15T20:52:52.219Z"
   },
   {
    "duration": 0,
    "start_time": "2023-05-15T20:52:52.220Z"
   },
   {
    "duration": 0,
    "start_time": "2023-05-15T20:52:52.221Z"
   },
   {
    "duration": 0,
    "start_time": "2023-05-15T20:52:52.222Z"
   },
   {
    "duration": 0,
    "start_time": "2023-05-15T20:52:52.223Z"
   },
   {
    "duration": 0,
    "start_time": "2023-05-15T20:52:52.224Z"
   },
   {
    "duration": 0,
    "start_time": "2023-05-15T20:52:52.224Z"
   },
   {
    "duration": 0,
    "start_time": "2023-05-15T20:52:52.225Z"
   },
   {
    "duration": 0,
    "start_time": "2023-05-15T20:52:52.226Z"
   },
   {
    "duration": 0,
    "start_time": "2023-05-15T20:52:52.227Z"
   },
   {
    "duration": 0,
    "start_time": "2023-05-15T20:52:52.228Z"
   },
   {
    "duration": 0,
    "start_time": "2023-05-15T20:52:52.229Z"
   },
   {
    "duration": 0,
    "start_time": "2023-05-15T20:52:52.230Z"
   },
   {
    "duration": 0,
    "start_time": "2023-05-15T20:52:52.231Z"
   },
   {
    "duration": 0,
    "start_time": "2023-05-15T20:52:52.232Z"
   },
   {
    "duration": 0,
    "start_time": "2023-05-15T20:52:52.233Z"
   },
   {
    "duration": 0,
    "start_time": "2023-05-15T20:52:52.233Z"
   },
   {
    "duration": 0,
    "start_time": "2023-05-15T20:52:52.234Z"
   },
   {
    "duration": 0,
    "start_time": "2023-05-15T20:52:52.235Z"
   },
   {
    "duration": 0,
    "start_time": "2023-05-15T20:52:52.236Z"
   },
   {
    "duration": 5,
    "start_time": "2023-05-16T08:17:16.319Z"
   },
   {
    "duration": 776,
    "start_time": "2023-05-16T08:17:17.378Z"
   },
   {
    "duration": 188,
    "start_time": "2023-05-16T08:17:18.938Z"
   },
   {
    "duration": 229,
    "start_time": "2023-05-16T08:17:19.420Z"
   },
   {
    "duration": 9,
    "start_time": "2023-05-16T08:17:20.475Z"
   },
   {
    "duration": 732,
    "start_time": "2023-05-16T08:17:21.619Z"
   },
   {
    "duration": 392,
    "start_time": "2023-05-16T08:17:23.138Z"
   },
   {
    "duration": 2,
    "start_time": "2023-05-16T08:22:45.393Z"
   },
   {
    "duration": 2,
    "start_time": "2023-05-16T08:22:46.576Z"
   },
   {
    "duration": 29,
    "start_time": "2023-05-16T08:23:05.210Z"
   },
   {
    "duration": 571,
    "start_time": "2023-05-16T08:23:12.971Z"
   },
   {
    "duration": 31,
    "start_time": "2023-05-16T08:29:00.186Z"
   },
   {
    "duration": 3,
    "start_time": "2023-05-16T08:29:05.403Z"
   },
   {
    "duration": 2,
    "start_time": "2023-05-16T08:29:06.036Z"
   },
   {
    "duration": 2,
    "start_time": "2023-05-16T08:29:06.250Z"
   },
   {
    "duration": 2,
    "start_time": "2023-05-16T08:29:06.434Z"
   },
   {
    "duration": 563,
    "start_time": "2023-05-16T08:29:06.866Z"
   },
   {
    "duration": 124,
    "start_time": "2023-05-16T08:30:47.169Z"
   },
   {
    "duration": 6,
    "start_time": "2023-05-16T08:30:52.652Z"
   },
   {
    "duration": 30,
    "start_time": "2023-05-16T08:30:56.536Z"
   },
   {
    "duration": 599,
    "start_time": "2023-05-16T08:30:57.470Z"
   },
   {
    "duration": 9,
    "start_time": "2023-05-16T08:36:08.803Z"
   },
   {
    "duration": 28,
    "start_time": "2023-05-16T08:36:16.385Z"
   },
   {
    "duration": 24,
    "start_time": "2023-05-16T08:36:26.134Z"
   },
   {
    "duration": 3,
    "start_time": "2023-05-16T08:36:36.917Z"
   },
   {
    "duration": 2,
    "start_time": "2023-05-16T08:36:37.152Z"
   },
   {
    "duration": 2,
    "start_time": "2023-05-16T08:36:37.435Z"
   },
   {
    "duration": 2,
    "start_time": "2023-05-16T08:36:40.333Z"
   },
   {
    "duration": 468,
    "start_time": "2023-05-16T08:36:41.101Z"
   },
   {
    "duration": 11,
    "start_time": "2023-05-16T08:37:03.518Z"
   },
   {
    "duration": 719,
    "start_time": "2023-05-16T08:37:20.470Z"
   },
   {
    "duration": 178,
    "start_time": "2023-05-16T08:37:28.583Z"
   },
   {
    "duration": 169,
    "start_time": "2023-05-16T08:37:35.438Z"
   },
   {
    "duration": 4,
    "start_time": "2023-05-16T08:37:55.000Z"
   },
   {
    "duration": 10,
    "start_time": "2023-05-16T08:38:35.868Z"
   },
   {
    "duration": 3,
    "start_time": "2023-05-16T08:38:51.872Z"
   },
   {
    "duration": 21,
    "start_time": "2023-05-16T08:42:53.949Z"
   },
   {
    "duration": 1283,
    "start_time": "2023-05-16T08:43:10.934Z"
   },
   {
    "duration": 25918,
    "start_time": "2023-05-16T08:43:12.221Z"
   },
   {
    "duration": 796,
    "start_time": "2023-05-16T08:43:38.141Z"
   },
   {
    "duration": 1384,
    "start_time": "2023-05-16T08:43:38.939Z"
   },
   {
    "duration": 13,
    "start_time": "2023-05-16T08:43:40.325Z"
   },
   {
    "duration": 2111,
    "start_time": "2023-05-16T08:43:40.341Z"
   },
   {
    "duration": 1301,
    "start_time": "2023-05-16T08:43:42.454Z"
   },
   {
    "duration": 274,
    "start_time": "2023-05-16T08:43:43.757Z"
   },
   {
    "duration": 0,
    "start_time": "2023-05-16T08:43:44.034Z"
   },
   {
    "duration": 0,
    "start_time": "2023-05-16T08:43:44.035Z"
   },
   {
    "duration": 0,
    "start_time": "2023-05-16T08:43:44.037Z"
   },
   {
    "duration": 0,
    "start_time": "2023-05-16T08:43:44.039Z"
   },
   {
    "duration": 0,
    "start_time": "2023-05-16T08:43:44.040Z"
   },
   {
    "duration": 0,
    "start_time": "2023-05-16T08:43:44.042Z"
   },
   {
    "duration": 1,
    "start_time": "2023-05-16T08:43:44.043Z"
   },
   {
    "duration": 0,
    "start_time": "2023-05-16T08:43:44.045Z"
   },
   {
    "duration": 0,
    "start_time": "2023-05-16T08:43:44.046Z"
   },
   {
    "duration": 0,
    "start_time": "2023-05-16T08:43:44.048Z"
   },
   {
    "duration": 0,
    "start_time": "2023-05-16T08:43:44.050Z"
   },
   {
    "duration": 0,
    "start_time": "2023-05-16T08:43:44.051Z"
   },
   {
    "duration": 0,
    "start_time": "2023-05-16T08:43:44.053Z"
   },
   {
    "duration": 0,
    "start_time": "2023-05-16T08:43:44.055Z"
   },
   {
    "duration": 0,
    "start_time": "2023-05-16T08:43:44.056Z"
   },
   {
    "duration": 0,
    "start_time": "2023-05-16T08:43:44.057Z"
   },
   {
    "duration": 0,
    "start_time": "2023-05-16T08:43:44.058Z"
   },
   {
    "duration": 0,
    "start_time": "2023-05-16T08:43:44.059Z"
   },
   {
    "duration": 0,
    "start_time": "2023-05-16T08:43:44.060Z"
   },
   {
    "duration": 0,
    "start_time": "2023-05-16T08:43:44.062Z"
   },
   {
    "duration": 0,
    "start_time": "2023-05-16T08:43:44.063Z"
   },
   {
    "duration": 0,
    "start_time": "2023-05-16T08:43:44.064Z"
   },
   {
    "duration": 0,
    "start_time": "2023-05-16T08:43:44.065Z"
   },
   {
    "duration": 0,
    "start_time": "2023-05-16T08:43:44.071Z"
   },
   {
    "duration": 0,
    "start_time": "2023-05-16T08:43:44.072Z"
   },
   {
    "duration": 0,
    "start_time": "2023-05-16T08:43:44.073Z"
   },
   {
    "duration": 0,
    "start_time": "2023-05-16T08:43:44.116Z"
   },
   {
    "duration": 0,
    "start_time": "2023-05-16T08:43:44.118Z"
   },
   {
    "duration": 0,
    "start_time": "2023-05-16T08:43:44.119Z"
   },
   {
    "duration": 0,
    "start_time": "2023-05-16T08:43:44.125Z"
   },
   {
    "duration": 0,
    "start_time": "2023-05-16T08:43:44.127Z"
   },
   {
    "duration": 0,
    "start_time": "2023-05-16T08:43:44.129Z"
   },
   {
    "duration": 95,
    "start_time": "2023-05-16T08:44:11.750Z"
   },
   {
    "duration": 17,
    "start_time": "2023-05-16T08:46:32.643Z"
   },
   {
    "duration": 3,
    "start_time": "2023-05-16T08:46:34.263Z"
   },
   {
    "duration": 2,
    "start_time": "2023-05-16T08:46:35.559Z"
   },
   {
    "duration": 2,
    "start_time": "2023-05-16T08:46:35.895Z"
   },
   {
    "duration": 2,
    "start_time": "2023-05-16T08:46:36.234Z"
   },
   {
    "duration": 3,
    "start_time": "2023-05-16T08:46:36.907Z"
   },
   {
    "duration": 975,
    "start_time": "2023-05-16T08:46:37.380Z"
   },
   {
    "duration": 15,
    "start_time": "2023-05-16T08:47:04.694Z"
   },
   {
    "duration": 1159,
    "start_time": "2023-05-16T08:47:23.140Z"
   },
   {
    "duration": 23836,
    "start_time": "2023-05-16T08:47:24.301Z"
   },
   {
    "duration": 804,
    "start_time": "2023-05-16T08:47:48.144Z"
   },
   {
    "duration": 1289,
    "start_time": "2023-05-16T08:47:48.950Z"
   },
   {
    "duration": 11,
    "start_time": "2023-05-16T08:47:50.240Z"
   },
   {
    "duration": 1697,
    "start_time": "2023-05-16T08:47:50.252Z"
   },
   {
    "duration": 1075,
    "start_time": "2023-05-16T08:47:51.951Z"
   },
   {
    "duration": 25,
    "start_time": "2023-05-16T08:47:53.027Z"
   },
   {
    "duration": 71,
    "start_time": "2023-05-16T08:47:53.054Z"
   },
   {
    "duration": 5,
    "start_time": "2023-05-16T08:47:53.129Z"
   },
   {
    "duration": 17,
    "start_time": "2023-05-16T08:47:53.135Z"
   },
   {
    "duration": 11,
    "start_time": "2023-05-16T08:47:53.154Z"
   },
   {
    "duration": 7,
    "start_time": "2023-05-16T08:47:53.168Z"
   },
   {
    "duration": 974,
    "start_time": "2023-05-16T08:47:53.177Z"
   },
   {
    "duration": 189,
    "start_time": "2023-05-16T08:47:54.153Z"
   },
   {
    "duration": 401,
    "start_time": "2023-05-16T08:47:54.344Z"
   },
   {
    "duration": 8,
    "start_time": "2023-05-16T08:47:54.747Z"
   },
   {
    "duration": 370,
    "start_time": "2023-05-16T08:47:54.757Z"
   },
   {
    "duration": 1236,
    "start_time": "2023-05-16T08:47:55.129Z"
   },
   {
    "duration": 0,
    "start_time": "2023-05-16T08:47:56.367Z"
   },
   {
    "duration": 0,
    "start_time": "2023-05-16T08:47:56.368Z"
   },
   {
    "duration": 0,
    "start_time": "2023-05-16T08:47:56.369Z"
   },
   {
    "duration": 0,
    "start_time": "2023-05-16T08:47:56.370Z"
   },
   {
    "duration": 0,
    "start_time": "2023-05-16T08:47:56.371Z"
   },
   {
    "duration": 0,
    "start_time": "2023-05-16T08:47:56.372Z"
   },
   {
    "duration": 0,
    "start_time": "2023-05-16T08:47:56.373Z"
   },
   {
    "duration": 0,
    "start_time": "2023-05-16T08:47:56.374Z"
   },
   {
    "duration": 0,
    "start_time": "2023-05-16T08:47:56.375Z"
   },
   {
    "duration": 0,
    "start_time": "2023-05-16T08:47:56.376Z"
   },
   {
    "duration": 0,
    "start_time": "2023-05-16T08:47:56.377Z"
   },
   {
    "duration": 0,
    "start_time": "2023-05-16T08:47:56.378Z"
   },
   {
    "duration": 0,
    "start_time": "2023-05-16T08:47:56.379Z"
   },
   {
    "duration": 0,
    "start_time": "2023-05-16T08:47:56.383Z"
   },
   {
    "duration": 0,
    "start_time": "2023-05-16T08:47:56.384Z"
   },
   {
    "duration": 0,
    "start_time": "2023-05-16T08:47:56.386Z"
   },
   {
    "duration": 0,
    "start_time": "2023-05-16T08:47:56.387Z"
   },
   {
    "duration": 0,
    "start_time": "2023-05-16T08:47:56.388Z"
   },
   {
    "duration": 0,
    "start_time": "2023-05-16T08:47:56.390Z"
   },
   {
    "duration": 0,
    "start_time": "2023-05-16T08:47:56.391Z"
   },
   {
    "duration": 0,
    "start_time": "2023-05-16T08:47:56.394Z"
   },
   {
    "duration": 502,
    "start_time": "2023-05-16T08:49:48.269Z"
   },
   {
    "duration": 125,
    "start_time": "2023-05-16T08:51:00.215Z"
   },
   {
    "duration": 262,
    "start_time": "2023-05-16T08:51:39.667Z"
   },
   {
    "duration": 10,
    "start_time": "2023-05-16T08:52:11.715Z"
   },
   {
    "duration": 640,
    "start_time": "2023-05-16T08:52:12.101Z"
   },
   {
    "duration": 156,
    "start_time": "2023-05-16T08:52:12.863Z"
   },
   {
    "duration": 239,
    "start_time": "2023-05-16T08:52:13.815Z"
   },
   {
    "duration": 8,
    "start_time": "2023-05-16T08:52:15.266Z"
   },
   {
    "duration": 593,
    "start_time": "2023-05-16T08:52:16.737Z"
   },
   {
    "duration": 447,
    "start_time": "2023-05-16T08:52:25.681Z"
   },
   {
    "duration": 488,
    "start_time": "2023-05-16T08:52:32.339Z"
   },
   {
    "duration": 140,
    "start_time": "2023-05-16T08:52:33.482Z"
   },
   {
    "duration": 2,
    "start_time": "2023-05-16T08:52:36.217Z"
   },
   {
    "duration": 2,
    "start_time": "2023-05-16T08:52:37.565Z"
   },
   {
    "duration": 3,
    "start_time": "2023-05-16T08:52:37.842Z"
   },
   {
    "duration": 2,
    "start_time": "2023-05-16T08:52:38.447Z"
   },
   {
    "duration": 2,
    "start_time": "2023-05-16T08:52:40.165Z"
   },
   {
    "duration": 441,
    "start_time": "2023-05-16T08:52:41.135Z"
   },
   {
    "duration": 318,
    "start_time": "2023-05-16T08:53:11.416Z"
   },
   {
    "duration": 96,
    "start_time": "2023-05-16T08:53:12.552Z"
   },
   {
    "duration": 3,
    "start_time": "2023-05-16T08:53:17.979Z"
   },
   {
    "duration": 3,
    "start_time": "2023-05-16T08:53:18.552Z"
   },
   {
    "duration": 3,
    "start_time": "2023-05-16T08:53:18.798Z"
   },
   {
    "duration": 3,
    "start_time": "2023-05-16T08:53:19.065Z"
   },
   {
    "duration": 2,
    "start_time": "2023-05-16T08:53:20.250Z"
   },
   {
    "duration": 486,
    "start_time": "2023-05-16T08:53:20.998Z"
   },
   {
    "duration": 3,
    "start_time": "2023-05-16T09:07:00.651Z"
   },
   {
    "duration": 1335,
    "start_time": "2023-05-16T09:07:17.708Z"
   },
   {
    "duration": 11,
    "start_time": "2023-05-16T09:14:33.341Z"
   },
   {
    "duration": 4,
    "start_time": "2023-05-16T09:14:51.235Z"
   },
   {
    "duration": 697,
    "start_time": "2023-05-16T09:16:01.348Z"
   },
   {
    "duration": 3,
    "start_time": "2023-05-16T09:18:48.981Z"
   },
   {
    "duration": 1233,
    "start_time": "2023-05-16T09:18:49.613Z"
   },
   {
    "duration": 11,
    "start_time": "2023-05-16T09:18:51.926Z"
   },
   {
    "duration": 3,
    "start_time": "2023-05-16T09:19:10.048Z"
   },
   {
    "duration": 523,
    "start_time": "2023-05-16T09:19:21.013Z"
   },
   {
    "duration": 16,
    "start_time": "2023-05-16T09:19:55.052Z"
   },
   {
    "duration": 358,
    "start_time": "2023-05-16T09:22:19.015Z"
   },
   {
    "duration": 1159,
    "start_time": "2023-05-16T09:22:42.972Z"
   },
   {
    "duration": 25307,
    "start_time": "2023-05-16T09:22:44.138Z"
   },
   {
    "duration": 784,
    "start_time": "2023-05-16T09:23:09.447Z"
   },
   {
    "duration": 1132,
    "start_time": "2023-05-16T09:23:10.237Z"
   },
   {
    "duration": 13,
    "start_time": "2023-05-16T09:23:11.433Z"
   },
   {
    "duration": 1907,
    "start_time": "2023-05-16T09:23:11.448Z"
   },
   {
    "duration": 2465,
    "start_time": "2023-05-16T09:23:13.358Z"
   },
   {
    "duration": 11,
    "start_time": "2023-05-16T09:23:15.824Z"
   },
   {
    "duration": 53,
    "start_time": "2023-05-16T09:23:15.837Z"
   },
   {
    "duration": 22,
    "start_time": "2023-05-16T09:23:15.892Z"
   },
   {
    "duration": 21,
    "start_time": "2023-05-16T09:23:15.915Z"
   },
   {
    "duration": 10,
    "start_time": "2023-05-16T09:23:15.937Z"
   },
   {
    "duration": 5,
    "start_time": "2023-05-16T09:23:15.950Z"
   },
   {
    "duration": 8,
    "start_time": "2023-05-16T09:23:15.959Z"
   },
   {
    "duration": 1767,
    "start_time": "2023-05-16T09:23:15.968Z"
   },
   {
    "duration": 626,
    "start_time": "2023-05-16T09:23:17.744Z"
   },
   {
    "duration": 64,
    "start_time": "2023-05-16T09:23:18.371Z"
   },
   {
    "duration": 127,
    "start_time": "2023-05-16T09:23:18.437Z"
   },
   {
    "duration": 0,
    "start_time": "2023-05-16T09:23:18.566Z"
   },
   {
    "duration": 0,
    "start_time": "2023-05-16T09:23:18.567Z"
   },
   {
    "duration": 0,
    "start_time": "2023-05-16T09:23:18.568Z"
   },
   {
    "duration": 0,
    "start_time": "2023-05-16T09:23:18.569Z"
   },
   {
    "duration": 0,
    "start_time": "2023-05-16T09:23:18.570Z"
   },
   {
    "duration": 0,
    "start_time": "2023-05-16T09:23:18.571Z"
   },
   {
    "duration": 0,
    "start_time": "2023-05-16T09:23:18.572Z"
   },
   {
    "duration": 0,
    "start_time": "2023-05-16T09:23:18.574Z"
   },
   {
    "duration": 0,
    "start_time": "2023-05-16T09:23:18.575Z"
   },
   {
    "duration": 0,
    "start_time": "2023-05-16T09:23:18.576Z"
   },
   {
    "duration": 0,
    "start_time": "2023-05-16T09:23:18.577Z"
   },
   {
    "duration": 0,
    "start_time": "2023-05-16T09:23:18.578Z"
   },
   {
    "duration": 0,
    "start_time": "2023-05-16T09:23:18.579Z"
   },
   {
    "duration": 0,
    "start_time": "2023-05-16T09:23:18.580Z"
   },
   {
    "duration": 0,
    "start_time": "2023-05-16T09:23:18.581Z"
   },
   {
    "duration": 0,
    "start_time": "2023-05-16T09:23:18.582Z"
   },
   {
    "duration": 0,
    "start_time": "2023-05-16T09:23:18.583Z"
   },
   {
    "duration": 0,
    "start_time": "2023-05-16T09:23:18.584Z"
   },
   {
    "duration": 0,
    "start_time": "2023-05-16T09:23:18.585Z"
   },
   {
    "duration": 0,
    "start_time": "2023-05-16T09:23:18.586Z"
   },
   {
    "duration": 0,
    "start_time": "2023-05-16T09:23:18.587Z"
   },
   {
    "duration": 0,
    "start_time": "2023-05-16T09:23:18.588Z"
   },
   {
    "duration": 0,
    "start_time": "2023-05-16T09:23:18.589Z"
   },
   {
    "duration": 0,
    "start_time": "2023-05-16T09:23:18.618Z"
   },
   {
    "duration": 0,
    "start_time": "2023-05-16T09:23:18.619Z"
   },
   {
    "duration": 0,
    "start_time": "2023-05-16T09:23:18.624Z"
   },
   {
    "duration": 0,
    "start_time": "2023-05-16T09:23:18.625Z"
   },
   {
    "duration": 0,
    "start_time": "2023-05-16T09:23:18.626Z"
   },
   {
    "duration": 3,
    "start_time": "2023-05-16T09:23:40.106Z"
   },
   {
    "duration": 20,
    "start_time": "2023-05-16T09:23:42.009Z"
   },
   {
    "duration": 3,
    "start_time": "2023-05-16T15:10:53.386Z"
   },
   {
    "duration": 983,
    "start_time": "2023-05-16T15:10:54.861Z"
   },
   {
    "duration": 397,
    "start_time": "2023-05-16T15:10:56.654Z"
   },
   {
    "duration": 12,
    "start_time": "2023-05-16T15:11:14.757Z"
   },
   {
    "duration": 4,
    "start_time": "2023-05-16T15:11:21.350Z"
   },
   {
    "duration": 774,
    "start_time": "2023-05-16T15:11:22.286Z"
   },
   {
    "duration": 284,
    "start_time": "2023-05-16T15:11:23.807Z"
   },
   {
    "duration": 14,
    "start_time": "2023-05-16T15:12:36.950Z"
   },
   {
    "duration": 3,
    "start_time": "2023-05-16T15:12:43.178Z"
   },
   {
    "duration": 9,
    "start_time": "2023-05-16T15:12:44.470Z"
   },
   {
    "duration": 4,
    "start_time": "2023-05-16T15:12:56.544Z"
   },
   {
    "duration": 22,
    "start_time": "2023-05-16T15:12:57.109Z"
   },
   {
    "duration": 285,
    "start_time": "2023-05-16T15:13:07.198Z"
   },
   {
    "duration": 7,
    "start_time": "2023-05-16T15:13:14.786Z"
   },
   {
    "duration": 8,
    "start_time": "2023-05-16T15:13:16.798Z"
   },
   {
    "duration": 12,
    "start_time": "2023-05-16T15:13:37.253Z"
   },
   {
    "duration": 18,
    "start_time": "2023-05-16T15:13:44.613Z"
   },
   {
    "duration": 3,
    "start_time": "2023-05-16T15:13:50.702Z"
   },
   {
    "duration": 3,
    "start_time": "2023-05-16T15:13:53.805Z"
   },
   {
    "duration": 3,
    "start_time": "2023-05-16T15:13:58.702Z"
   },
   {
    "duration": 12,
    "start_time": "2023-05-16T15:14:00.240Z"
   },
   {
    "duration": 8,
    "start_time": "2023-05-16T15:14:04.178Z"
   },
   {
    "duration": 4,
    "start_time": "2023-05-16T15:14:24.702Z"
   },
   {
    "duration": 1180,
    "start_time": "2023-05-16T15:14:27.761Z"
   },
   {
    "duration": 958,
    "start_time": "2023-05-16T15:15:52.670Z"
   },
   {
    "duration": 17,
    "start_time": "2023-05-16T15:16:04.410Z"
   },
   {
    "duration": 6,
    "start_time": "2023-05-16T15:16:49.457Z"
   },
   {
    "duration": 38,
    "start_time": "2023-05-16T15:16:56.002Z"
   },
   {
    "duration": 3,
    "start_time": "2023-05-16T15:17:20.295Z"
   },
   {
    "duration": 34,
    "start_time": "2023-05-16T15:17:21.793Z"
   },
   {
    "duration": 4,
    "start_time": "2023-05-16T15:17:29.202Z"
   },
   {
    "duration": 33,
    "start_time": "2023-05-16T15:17:29.810Z"
   },
   {
    "duration": 1294,
    "start_time": "2023-05-16T15:17:34.657Z"
   },
   {
    "duration": 25396,
    "start_time": "2023-05-16T15:17:35.953Z"
   },
   {
    "duration": 819,
    "start_time": "2023-05-16T15:18:01.356Z"
   },
   {
    "duration": 1499,
    "start_time": "2023-05-16T15:18:02.177Z"
   },
   {
    "duration": 63,
    "start_time": "2023-05-16T15:18:03.679Z"
   },
   {
    "duration": 1915,
    "start_time": "2023-05-16T15:18:03.752Z"
   },
   {
    "duration": 2198,
    "start_time": "2023-05-16T15:18:05.669Z"
   },
   {
    "duration": 4,
    "start_time": "2023-05-16T15:18:07.869Z"
   },
   {
    "duration": 67,
    "start_time": "2023-05-16T15:18:07.917Z"
   },
   {
    "duration": 15,
    "start_time": "2023-05-16T15:18:07.987Z"
   },
   {
    "duration": 47,
    "start_time": "2023-05-16T15:18:08.004Z"
   },
   {
    "duration": 27,
    "start_time": "2023-05-16T15:18:08.054Z"
   },
   {
    "duration": 16,
    "start_time": "2023-05-16T15:18:08.083Z"
   },
   {
    "duration": 6,
    "start_time": "2023-05-16T15:18:08.102Z"
   },
   {
    "duration": 2773,
    "start_time": "2023-05-16T15:18:08.110Z"
   },
   {
    "duration": 654,
    "start_time": "2023-05-16T15:18:10.884Z"
   },
   {
    "duration": 8,
    "start_time": "2023-05-16T15:18:11.539Z"
   },
   {
    "duration": 204,
    "start_time": "2023-05-16T15:18:11.549Z"
   },
   {
    "duration": 0,
    "start_time": "2023-05-16T15:18:11.764Z"
   },
   {
    "duration": 0,
    "start_time": "2023-05-16T15:18:11.765Z"
   },
   {
    "duration": 0,
    "start_time": "2023-05-16T15:18:11.765Z"
   },
   {
    "duration": 0,
    "start_time": "2023-05-16T15:18:11.766Z"
   },
   {
    "duration": 0,
    "start_time": "2023-05-16T15:18:11.767Z"
   },
   {
    "duration": 0,
    "start_time": "2023-05-16T15:18:11.768Z"
   },
   {
    "duration": 0,
    "start_time": "2023-05-16T15:18:11.770Z"
   },
   {
    "duration": 0,
    "start_time": "2023-05-16T15:18:11.771Z"
   },
   {
    "duration": 0,
    "start_time": "2023-05-16T15:18:11.773Z"
   },
   {
    "duration": 0,
    "start_time": "2023-05-16T15:18:11.775Z"
   },
   {
    "duration": 0,
    "start_time": "2023-05-16T15:18:11.777Z"
   },
   {
    "duration": 0,
    "start_time": "2023-05-16T15:18:11.778Z"
   },
   {
    "duration": 1,
    "start_time": "2023-05-16T15:18:11.779Z"
   },
   {
    "duration": 0,
    "start_time": "2023-05-16T15:18:11.781Z"
   },
   {
    "duration": 0,
    "start_time": "2023-05-16T15:18:11.781Z"
   },
   {
    "duration": 0,
    "start_time": "2023-05-16T15:18:11.783Z"
   },
   {
    "duration": 0,
    "start_time": "2023-05-16T15:18:11.783Z"
   },
   {
    "duration": 0,
    "start_time": "2023-05-16T15:18:11.784Z"
   },
   {
    "duration": 0,
    "start_time": "2023-05-16T15:18:11.785Z"
   },
   {
    "duration": 0,
    "start_time": "2023-05-16T15:18:11.786Z"
   },
   {
    "duration": 0,
    "start_time": "2023-05-16T15:18:11.787Z"
   },
   {
    "duration": 0,
    "start_time": "2023-05-16T15:18:11.788Z"
   },
   {
    "duration": 0,
    "start_time": "2023-05-16T15:18:11.789Z"
   },
   {
    "duration": 0,
    "start_time": "2023-05-16T15:18:11.790Z"
   },
   {
    "duration": 0,
    "start_time": "2023-05-16T15:18:11.791Z"
   },
   {
    "duration": 0,
    "start_time": "2023-05-16T15:18:11.792Z"
   },
   {
    "duration": 0,
    "start_time": "2023-05-16T15:18:11.793Z"
   },
   {
    "duration": 0,
    "start_time": "2023-05-16T15:18:11.794Z"
   },
   {
    "duration": 14,
    "start_time": "2023-05-16T15:25:08.146Z"
   },
   {
    "duration": 3,
    "start_time": "2023-05-16T15:25:26.486Z"
   },
   {
    "duration": 1301,
    "start_time": "2023-05-16T15:25:27.630Z"
   },
   {
    "duration": 12,
    "start_time": "2023-05-16T15:25:35.257Z"
   },
   {
    "duration": 8,
    "start_time": "2023-05-16T15:26:06.752Z"
   },
   {
    "duration": 1432,
    "start_time": "2023-05-16T15:26:07.478Z"
   },
   {
    "duration": 532,
    "start_time": "2023-05-16T15:26:09.895Z"
   },
   {
    "duration": 4,
    "start_time": "2023-05-16T15:26:23.682Z"
   },
   {
    "duration": 1565,
    "start_time": "2023-05-16T15:26:24.536Z"
   },
   {
    "duration": 21,
    "start_time": "2023-05-16T15:26:33.846Z"
   },
   {
    "duration": 1544,
    "start_time": "2023-05-16T15:26:43.762Z"
   },
   {
    "duration": 29447,
    "start_time": "2023-05-16T15:26:45.308Z"
   },
   {
    "duration": 1006,
    "start_time": "2023-05-16T15:27:14.757Z"
   },
   {
    "duration": 1543,
    "start_time": "2023-05-16T15:27:15.820Z"
   },
   {
    "duration": 71,
    "start_time": "2023-05-16T15:27:17.364Z"
   },
   {
    "duration": 2230,
    "start_time": "2023-05-16T15:27:17.437Z"
   },
   {
    "duration": 2406,
    "start_time": "2023-05-16T15:27:19.669Z"
   },
   {
    "duration": 3,
    "start_time": "2023-05-16T15:27:22.128Z"
   },
   {
    "duration": 3,
    "start_time": "2023-05-16T15:27:22.132Z"
   },
   {
    "duration": 80,
    "start_time": "2023-05-16T15:27:22.139Z"
   },
   {
    "duration": 46,
    "start_time": "2023-05-16T15:27:22.231Z"
   },
   {
    "duration": 26,
    "start_time": "2023-05-16T15:27:22.279Z"
   },
   {
    "duration": 57,
    "start_time": "2023-05-16T15:27:22.306Z"
   },
   {
    "duration": 32,
    "start_time": "2023-05-16T15:27:22.365Z"
   },
   {
    "duration": 2536,
    "start_time": "2023-05-16T15:27:22.399Z"
   },
   {
    "duration": 227,
    "start_time": "2023-05-16T15:27:24.936Z"
   },
   {
    "duration": 0,
    "start_time": "2023-05-16T15:27:25.175Z"
   },
   {
    "duration": 0,
    "start_time": "2023-05-16T15:27:25.178Z"
   },
   {
    "duration": 0,
    "start_time": "2023-05-16T15:27:25.180Z"
   },
   {
    "duration": 0,
    "start_time": "2023-05-16T15:27:25.182Z"
   },
   {
    "duration": 1,
    "start_time": "2023-05-16T15:27:25.183Z"
   },
   {
    "duration": 0,
    "start_time": "2023-05-16T15:27:25.185Z"
   },
   {
    "duration": 0,
    "start_time": "2023-05-16T15:27:25.186Z"
   },
   {
    "duration": 0,
    "start_time": "2023-05-16T15:27:25.187Z"
   },
   {
    "duration": 0,
    "start_time": "2023-05-16T15:27:25.193Z"
   },
   {
    "duration": 0,
    "start_time": "2023-05-16T15:27:25.195Z"
   },
   {
    "duration": 0,
    "start_time": "2023-05-16T15:27:25.197Z"
   },
   {
    "duration": 0,
    "start_time": "2023-05-16T15:27:25.198Z"
   },
   {
    "duration": 0,
    "start_time": "2023-05-16T15:27:25.199Z"
   },
   {
    "duration": 0,
    "start_time": "2023-05-16T15:27:25.200Z"
   },
   {
    "duration": 0,
    "start_time": "2023-05-16T15:27:25.201Z"
   },
   {
    "duration": 0,
    "start_time": "2023-05-16T15:27:25.208Z"
   },
   {
    "duration": 0,
    "start_time": "2023-05-16T15:27:25.227Z"
   },
   {
    "duration": 0,
    "start_time": "2023-05-16T15:27:25.232Z"
   },
   {
    "duration": 0,
    "start_time": "2023-05-16T15:27:25.233Z"
   },
   {
    "duration": 0,
    "start_time": "2023-05-16T15:27:25.234Z"
   },
   {
    "duration": 0,
    "start_time": "2023-05-16T15:27:25.235Z"
   },
   {
    "duration": 0,
    "start_time": "2023-05-16T15:27:25.240Z"
   },
   {
    "duration": 0,
    "start_time": "2023-05-16T15:27:25.241Z"
   },
   {
    "duration": 0,
    "start_time": "2023-05-16T15:27:25.242Z"
   },
   {
    "duration": 1,
    "start_time": "2023-05-16T15:27:25.242Z"
   },
   {
    "duration": 0,
    "start_time": "2023-05-16T15:27:25.248Z"
   },
   {
    "duration": 0,
    "start_time": "2023-05-16T15:27:25.249Z"
   },
   {
    "duration": 0,
    "start_time": "2023-05-16T15:27:25.251Z"
   },
   {
    "duration": 0,
    "start_time": "2023-05-16T15:27:25.252Z"
   },
   {
    "duration": 0,
    "start_time": "2023-05-16T15:27:25.253Z"
   },
   {
    "duration": 0,
    "start_time": "2023-05-16T15:27:25.260Z"
   },
   {
    "duration": 4,
    "start_time": "2023-05-16T15:27:40.402Z"
   },
   {
    "duration": 1321,
    "start_time": "2023-05-16T15:27:41.110Z"
   },
   {
    "duration": 534,
    "start_time": "2023-05-16T15:27:42.433Z"
   },
   {
    "duration": 1445,
    "start_time": "2023-05-16T15:38:18.656Z"
   },
   {
    "duration": 34,
    "start_time": "2023-05-16T15:38:20.102Z"
   },
   {
    "duration": 434,
    "start_time": "2023-05-16T15:39:00.649Z"
   },
   {
    "duration": 1286,
    "start_time": "2023-05-16T15:39:10.584Z"
   },
   {
    "duration": 27806,
    "start_time": "2023-05-16T15:39:11.872Z"
   },
   {
    "duration": 898,
    "start_time": "2023-05-16T15:39:39.681Z"
   },
   {
    "duration": 1373,
    "start_time": "2023-05-16T15:39:40.582Z"
   },
   {
    "duration": 67,
    "start_time": "2023-05-16T15:39:41.958Z"
   },
   {
    "duration": 2347,
    "start_time": "2023-05-16T15:39:42.035Z"
   },
   {
    "duration": 2591,
    "start_time": "2023-05-16T15:39:44.384Z"
   },
   {
    "duration": 2,
    "start_time": "2023-05-16T15:39:46.976Z"
   },
   {
    "duration": 2,
    "start_time": "2023-05-16T15:39:46.980Z"
   },
   {
    "duration": 4,
    "start_time": "2023-05-16T15:39:46.983Z"
   },
   {
    "duration": 35,
    "start_time": "2023-05-16T15:39:46.988Z"
   },
   {
    "duration": 12,
    "start_time": "2023-05-16T15:39:47.031Z"
   },
   {
    "duration": 19,
    "start_time": "2023-05-16T15:39:47.046Z"
   },
   {
    "duration": 10,
    "start_time": "2023-05-16T15:39:47.075Z"
   },
   {
    "duration": 2836,
    "start_time": "2023-05-16T15:39:47.087Z"
   },
   {
    "duration": 165,
    "start_time": "2023-05-16T15:39:49.925Z"
   },
   {
    "duration": 0,
    "start_time": "2023-05-16T15:39:50.092Z"
   },
   {
    "duration": 0,
    "start_time": "2023-05-16T15:39:50.093Z"
   },
   {
    "duration": 1,
    "start_time": "2023-05-16T15:39:50.093Z"
   },
   {
    "duration": 0,
    "start_time": "2023-05-16T15:39:50.095Z"
   },
   {
    "duration": 0,
    "start_time": "2023-05-16T15:39:50.096Z"
   },
   {
    "duration": 0,
    "start_time": "2023-05-16T15:39:50.097Z"
   },
   {
    "duration": 0,
    "start_time": "2023-05-16T15:39:50.097Z"
   },
   {
    "duration": 0,
    "start_time": "2023-05-16T15:39:50.123Z"
   },
   {
    "duration": 0,
    "start_time": "2023-05-16T15:39:50.125Z"
   },
   {
    "duration": 0,
    "start_time": "2023-05-16T15:39:50.125Z"
   },
   {
    "duration": 0,
    "start_time": "2023-05-16T15:39:50.126Z"
   },
   {
    "duration": 0,
    "start_time": "2023-05-16T15:39:50.127Z"
   },
   {
    "duration": 0,
    "start_time": "2023-05-16T15:39:50.127Z"
   },
   {
    "duration": 0,
    "start_time": "2023-05-16T15:39:50.137Z"
   },
   {
    "duration": 0,
    "start_time": "2023-05-16T15:39:50.138Z"
   },
   {
    "duration": 0,
    "start_time": "2023-05-16T15:39:50.139Z"
   },
   {
    "duration": 0,
    "start_time": "2023-05-16T15:39:50.139Z"
   },
   {
    "duration": 0,
    "start_time": "2023-05-16T15:39:50.140Z"
   },
   {
    "duration": 0,
    "start_time": "2023-05-16T15:39:50.141Z"
   },
   {
    "duration": 0,
    "start_time": "2023-05-16T15:39:50.142Z"
   },
   {
    "duration": 0,
    "start_time": "2023-05-16T15:39:50.148Z"
   },
   {
    "duration": 0,
    "start_time": "2023-05-16T15:39:50.148Z"
   },
   {
    "duration": 0,
    "start_time": "2023-05-16T15:39:50.149Z"
   },
   {
    "duration": 0,
    "start_time": "2023-05-16T15:39:50.150Z"
   },
   {
    "duration": 0,
    "start_time": "2023-05-16T15:39:50.150Z"
   },
   {
    "duration": 0,
    "start_time": "2023-05-16T15:39:50.151Z"
   },
   {
    "duration": 0,
    "start_time": "2023-05-16T15:39:50.154Z"
   },
   {
    "duration": 0,
    "start_time": "2023-05-16T15:39:50.156Z"
   },
   {
    "duration": 0,
    "start_time": "2023-05-16T15:39:50.157Z"
   },
   {
    "duration": 0,
    "start_time": "2023-05-16T15:39:50.159Z"
   },
   {
    "duration": 0,
    "start_time": "2023-05-16T15:39:50.160Z"
   },
   {
    "duration": 4,
    "start_time": "2023-05-16T15:40:06.971Z"
   },
   {
    "duration": 1225,
    "start_time": "2023-05-16T15:40:07.594Z"
   },
   {
    "duration": 515,
    "start_time": "2023-05-16T15:40:08.848Z"
   },
   {
    "duration": 530,
    "start_time": "2023-05-16T15:40:22.740Z"
   },
   {
    "duration": 5,
    "start_time": "2023-05-16T15:41:19.459Z"
   },
   {
    "duration": 1276,
    "start_time": "2023-05-16T15:41:20.408Z"
   },
   {
    "duration": 1535,
    "start_time": "2023-05-16T15:41:47.257Z"
   },
   {
    "duration": 29541,
    "start_time": "2023-05-16T15:41:48.795Z"
   },
   {
    "duration": 885,
    "start_time": "2023-05-16T15:42:18.338Z"
   },
   {
    "duration": 1640,
    "start_time": "2023-05-16T15:42:19.225Z"
   },
   {
    "duration": 78,
    "start_time": "2023-05-16T15:42:20.885Z"
   },
   {
    "duration": 2406,
    "start_time": "2023-05-16T15:42:20.966Z"
   },
   {
    "duration": 2387,
    "start_time": "2023-05-16T15:42:23.373Z"
   },
   {
    "duration": 3,
    "start_time": "2023-05-16T15:42:25.761Z"
   },
   {
    "duration": 93,
    "start_time": "2023-05-16T15:42:25.767Z"
   },
   {
    "duration": 17,
    "start_time": "2023-05-16T15:42:25.863Z"
   },
   {
    "duration": 4,
    "start_time": "2023-05-16T15:42:25.883Z"
   },
   {
    "duration": 5,
    "start_time": "2023-05-16T15:42:25.889Z"
   },
   {
    "duration": 14,
    "start_time": "2023-05-16T15:42:25.896Z"
   },
   {
    "duration": 42,
    "start_time": "2023-05-16T15:42:25.913Z"
   },
   {
    "duration": 2774,
    "start_time": "2023-05-16T15:42:25.957Z"
   },
   {
    "duration": 235,
    "start_time": "2023-05-16T15:42:28.732Z"
   },
   {
    "duration": 0,
    "start_time": "2023-05-16T15:42:28.971Z"
   },
   {
    "duration": 0,
    "start_time": "2023-05-16T15:42:28.972Z"
   },
   {
    "duration": 0,
    "start_time": "2023-05-16T15:42:28.974Z"
   },
   {
    "duration": 0,
    "start_time": "2023-05-16T15:42:28.976Z"
   },
   {
    "duration": 0,
    "start_time": "2023-05-16T15:42:28.977Z"
   },
   {
    "duration": 0,
    "start_time": "2023-05-16T15:42:28.979Z"
   },
   {
    "duration": 0,
    "start_time": "2023-05-16T15:42:28.980Z"
   },
   {
    "duration": 0,
    "start_time": "2023-05-16T15:42:28.981Z"
   },
   {
    "duration": 0,
    "start_time": "2023-05-16T15:42:28.982Z"
   },
   {
    "duration": 0,
    "start_time": "2023-05-16T15:42:28.983Z"
   },
   {
    "duration": 0,
    "start_time": "2023-05-16T15:42:28.984Z"
   },
   {
    "duration": 0,
    "start_time": "2023-05-16T15:42:29.027Z"
   },
   {
    "duration": 0,
    "start_time": "2023-05-16T15:42:29.028Z"
   },
   {
    "duration": 0,
    "start_time": "2023-05-16T15:42:29.028Z"
   },
   {
    "duration": 0,
    "start_time": "2023-05-16T15:42:29.037Z"
   },
   {
    "duration": 0,
    "start_time": "2023-05-16T15:42:29.037Z"
   },
   {
    "duration": 0,
    "start_time": "2023-05-16T15:42:29.038Z"
   },
   {
    "duration": 0,
    "start_time": "2023-05-16T15:42:29.039Z"
   },
   {
    "duration": 0,
    "start_time": "2023-05-16T15:42:29.040Z"
   },
   {
    "duration": 0,
    "start_time": "2023-05-16T15:42:29.041Z"
   },
   {
    "duration": 0,
    "start_time": "2023-05-16T15:42:29.042Z"
   },
   {
    "duration": 0,
    "start_time": "2023-05-16T15:42:29.042Z"
   },
   {
    "duration": 0,
    "start_time": "2023-05-16T15:42:29.043Z"
   },
   {
    "duration": 0,
    "start_time": "2023-05-16T15:42:29.044Z"
   },
   {
    "duration": 0,
    "start_time": "2023-05-16T15:42:29.047Z"
   },
   {
    "duration": 0,
    "start_time": "2023-05-16T15:42:29.048Z"
   },
   {
    "duration": 0,
    "start_time": "2023-05-16T15:42:29.049Z"
   },
   {
    "duration": 0,
    "start_time": "2023-05-16T15:42:29.050Z"
   },
   {
    "duration": 0,
    "start_time": "2023-05-16T15:42:29.051Z"
   },
   {
    "duration": 0,
    "start_time": "2023-05-16T15:42:29.054Z"
   },
   {
    "duration": 2229,
    "start_time": "2023-05-16T15:43:16.861Z"
   },
   {
    "duration": 24,
    "start_time": "2023-05-16T15:44:35.951Z"
   },
   {
    "duration": 1752,
    "start_time": "2023-05-16T15:45:18.199Z"
   },
   {
    "duration": 29405,
    "start_time": "2023-05-16T15:45:19.954Z"
   },
   {
    "duration": 993,
    "start_time": "2023-05-16T15:45:49.362Z"
   },
   {
    "duration": 1589,
    "start_time": "2023-05-16T15:45:50.356Z"
   },
   {
    "duration": 17,
    "start_time": "2023-05-16T15:45:51.951Z"
   },
   {
    "duration": 2261,
    "start_time": "2023-05-16T15:45:51.970Z"
   },
   {
    "duration": 2897,
    "start_time": "2023-05-16T15:45:54.232Z"
   },
   {
    "duration": 3,
    "start_time": "2023-05-16T15:45:57.131Z"
   },
   {
    "duration": 3,
    "start_time": "2023-05-16T15:45:57.135Z"
   },
   {
    "duration": 19,
    "start_time": "2023-05-16T15:45:57.140Z"
   },
   {
    "duration": 10,
    "start_time": "2023-05-16T15:45:57.162Z"
   },
   {
    "duration": 8,
    "start_time": "2023-05-16T15:45:57.174Z"
   },
   {
    "duration": 51,
    "start_time": "2023-05-16T15:45:57.184Z"
   },
   {
    "duration": 11,
    "start_time": "2023-05-16T15:45:57.240Z"
   },
   {
    "duration": 3016,
    "start_time": "2023-05-16T15:45:57.254Z"
   },
   {
    "duration": 248,
    "start_time": "2023-05-16T15:46:00.325Z"
   },
   {
    "duration": 0,
    "start_time": "2023-05-16T15:46:00.576Z"
   },
   {
    "duration": 0,
    "start_time": "2023-05-16T15:46:00.578Z"
   },
   {
    "duration": 0,
    "start_time": "2023-05-16T15:46:00.579Z"
   },
   {
    "duration": 0,
    "start_time": "2023-05-16T15:46:00.580Z"
   },
   {
    "duration": 0,
    "start_time": "2023-05-16T15:46:00.582Z"
   },
   {
    "duration": 0,
    "start_time": "2023-05-16T15:46:00.583Z"
   },
   {
    "duration": 0,
    "start_time": "2023-05-16T15:46:00.585Z"
   },
   {
    "duration": 0,
    "start_time": "2023-05-16T15:46:00.587Z"
   },
   {
    "duration": 0,
    "start_time": "2023-05-16T15:46:00.588Z"
   },
   {
    "duration": 0,
    "start_time": "2023-05-16T15:46:00.589Z"
   },
   {
    "duration": 0,
    "start_time": "2023-05-16T15:46:00.590Z"
   },
   {
    "duration": 0,
    "start_time": "2023-05-16T15:46:00.591Z"
   },
   {
    "duration": 0,
    "start_time": "2023-05-16T15:46:00.637Z"
   },
   {
    "duration": 0,
    "start_time": "2023-05-16T15:46:00.638Z"
   },
   {
    "duration": 0,
    "start_time": "2023-05-16T15:46:00.638Z"
   },
   {
    "duration": 0,
    "start_time": "2023-05-16T15:46:00.639Z"
   },
   {
    "duration": 0,
    "start_time": "2023-05-16T15:46:00.640Z"
   },
   {
    "duration": 0,
    "start_time": "2023-05-16T15:46:00.640Z"
   },
   {
    "duration": 0,
    "start_time": "2023-05-16T15:46:00.641Z"
   },
   {
    "duration": 0,
    "start_time": "2023-05-16T15:46:00.642Z"
   },
   {
    "duration": 0,
    "start_time": "2023-05-16T15:46:00.643Z"
   },
   {
    "duration": 0,
    "start_time": "2023-05-16T15:46:00.643Z"
   },
   {
    "duration": 1,
    "start_time": "2023-05-16T15:46:00.647Z"
   },
   {
    "duration": 0,
    "start_time": "2023-05-16T15:46:00.651Z"
   },
   {
    "duration": 0,
    "start_time": "2023-05-16T15:46:00.652Z"
   },
   {
    "duration": 0,
    "start_time": "2023-05-16T15:46:00.653Z"
   },
   {
    "duration": 0,
    "start_time": "2023-05-16T15:46:00.654Z"
   },
   {
    "duration": 0,
    "start_time": "2023-05-16T15:46:00.655Z"
   },
   {
    "duration": 0,
    "start_time": "2023-05-16T15:46:00.657Z"
   },
   {
    "duration": 0,
    "start_time": "2023-05-16T15:46:00.658Z"
   },
   {
    "duration": 11,
    "start_time": "2023-05-16T15:50:10.238Z"
   },
   {
    "duration": 10,
    "start_time": "2023-05-16T15:50:55.107Z"
   },
   {
    "duration": 608,
    "start_time": "2023-05-16T15:51:20.846Z"
   },
   {
    "duration": 1201,
    "start_time": "2023-05-16T15:52:22.553Z"
   },
   {
    "duration": 465,
    "start_time": "2023-05-16T16:04:52.254Z"
   },
   {
    "duration": 9,
    "start_time": "2023-05-16T16:12:28.402Z"
   },
   {
    "duration": 967,
    "start_time": "2023-05-16T16:13:02.313Z"
   },
   {
    "duration": 5,
    "start_time": "2023-05-16T16:18:18.447Z"
   },
   {
    "duration": 572,
    "start_time": "2023-05-16T16:18:28.355Z"
   },
   {
    "duration": 4,
    "start_time": "2023-05-16T16:18:52.025Z"
   },
   {
    "duration": 1047,
    "start_time": "2023-05-16T16:18:52.694Z"
   },
   {
    "duration": 339,
    "start_time": "2023-05-16T16:19:58.590Z"
   },
   {
    "duration": 901,
    "start_time": "2023-05-16T16:20:18.451Z"
   },
   {
    "duration": 4,
    "start_time": "2023-05-16T16:25:46.849Z"
   },
   {
    "duration": 7,
    "start_time": "2023-05-16T16:25:56.552Z"
   },
   {
    "duration": 740,
    "start_time": "2023-05-16T16:25:58.306Z"
   },
   {
    "duration": 578,
    "start_time": "2023-05-16T16:27:01.681Z"
   },
   {
    "duration": 2,
    "start_time": "2023-05-16T16:27:03.448Z"
   },
   {
    "duration": 3,
    "start_time": "2023-05-16T16:27:04.355Z"
   },
   {
    "duration": 635,
    "start_time": "2023-05-16T16:27:40.089Z"
   },
   {
    "duration": 594,
    "start_time": "2023-05-16T16:27:48.885Z"
   },
   {
    "duration": 262,
    "start_time": "2023-05-16T16:28:34.473Z"
   },
   {
    "duration": 343,
    "start_time": "2023-05-16T16:28:41.613Z"
   },
   {
    "duration": 3,
    "start_time": "2023-05-16T16:44:51.048Z"
   },
   {
    "duration": 2,
    "start_time": "2023-05-16T16:47:51.447Z"
   },
   {
    "duration": 50,
    "start_time": "2023-05-16T16:47:53.739Z"
   },
   {
    "duration": 406,
    "start_time": "2023-05-16T16:48:14.317Z"
   },
   {
    "duration": 6,
    "start_time": "2023-05-16T16:48:40.311Z"
   },
   {
    "duration": 319,
    "start_time": "2023-05-16T16:48:45.009Z"
   },
   {
    "duration": 3885,
    "start_time": "2023-05-16T16:48:51.752Z"
   },
   {
    "duration": 16,
    "start_time": "2023-05-16T16:50:00.992Z"
   },
   {
    "duration": 301,
    "start_time": "2023-05-16T16:50:25.254Z"
   },
   {
    "duration": 15,
    "start_time": "2023-05-16T16:50:53.249Z"
   },
   {
    "duration": 340,
    "start_time": "2023-05-16T16:50:56.223Z"
   },
   {
    "duration": 23,
    "start_time": "2023-05-16T16:51:38.950Z"
   },
   {
    "duration": 515,
    "start_time": "2023-05-16T16:51:41.840Z"
   },
   {
    "duration": 31,
    "start_time": "2023-05-16T16:51:57.655Z"
   },
   {
    "duration": 3,
    "start_time": "2023-05-16T16:51:59.957Z"
   },
   {
    "duration": 3874,
    "start_time": "2023-05-16T16:52:01.752Z"
   },
   {
    "duration": 117,
    "start_time": "2023-05-16T16:52:07.019Z"
   },
   {
    "duration": 307,
    "start_time": "2023-05-16T16:52:09.757Z"
   },
   {
    "duration": 1670,
    "start_time": "2023-05-16T16:52:29.050Z"
   },
   {
    "duration": 1548,
    "start_time": "2023-05-16T16:52:47.116Z"
   },
   {
    "duration": 8,
    "start_time": "2023-05-16T16:52:55.749Z"
   },
   {
    "duration": 466,
    "start_time": "2023-05-16T16:52:57.558Z"
   },
   {
    "duration": 7,
    "start_time": "2023-05-16T16:53:12.697Z"
   },
   {
    "duration": 3,
    "start_time": "2023-05-16T16:53:15.248Z"
   },
   {
    "duration": 298,
    "start_time": "2023-05-16T16:53:16.392Z"
   },
   {
    "duration": 1260,
    "start_time": "2023-05-16T16:54:00.101Z"
   },
   {
    "duration": 25268,
    "start_time": "2023-05-16T16:54:01.363Z"
   },
   {
    "duration": 907,
    "start_time": "2023-05-16T16:54:26.634Z"
   },
   {
    "duration": 1288,
    "start_time": "2023-05-16T16:54:27.544Z"
   },
   {
    "duration": 15,
    "start_time": "2023-05-16T16:54:28.835Z"
   },
   {
    "duration": 1909,
    "start_time": "2023-05-16T16:54:28.918Z"
   },
   {
    "duration": 2,
    "start_time": "2023-05-16T16:54:30.829Z"
   },
   {
    "duration": 86,
    "start_time": "2023-05-16T16:54:30.832Z"
   },
   {
    "duration": 14,
    "start_time": "2023-05-16T16:54:30.920Z"
   },
   {
    "duration": 29,
    "start_time": "2023-05-16T16:54:30.936Z"
   },
   {
    "duration": 42,
    "start_time": "2023-05-16T16:54:30.967Z"
   },
   {
    "duration": 31,
    "start_time": "2023-05-16T16:54:31.011Z"
   },
   {
    "duration": 1978,
    "start_time": "2023-05-16T16:54:31.044Z"
   },
   {
    "duration": 4,
    "start_time": "2023-05-16T16:54:33.026Z"
   },
   {
    "duration": 2516,
    "start_time": "2023-05-16T16:54:33.032Z"
   },
   {
    "duration": 69,
    "start_time": "2023-05-16T16:54:35.549Z"
   },
   {
    "duration": 1312,
    "start_time": "2023-05-16T16:54:35.620Z"
   },
   {
    "duration": 6,
    "start_time": "2023-05-16T16:54:36.934Z"
   },
   {
    "duration": 1206,
    "start_time": "2023-05-16T16:54:36.943Z"
   },
   {
    "duration": 69,
    "start_time": "2023-05-16T16:54:38.150Z"
   },
   {
    "duration": 1004,
    "start_time": "2023-05-16T16:54:38.221Z"
   },
   {
    "duration": 3,
    "start_time": "2023-05-16T16:54:39.227Z"
   },
   {
    "duration": 218,
    "start_time": "2023-05-16T16:54:39.231Z"
   },
   {
    "duration": 583,
    "start_time": "2023-05-16T16:54:39.451Z"
   },
   {
    "duration": 7,
    "start_time": "2023-05-16T16:54:40.036Z"
   },
   {
    "duration": 309,
    "start_time": "2023-05-16T16:54:40.044Z"
   },
   {
    "duration": 4277,
    "start_time": "2023-05-16T16:54:40.355Z"
   },
   {
    "duration": 20,
    "start_time": "2023-05-16T16:54:44.634Z"
   },
   {
    "duration": 415,
    "start_time": "2023-05-16T16:54:44.656Z"
   },
   {
    "duration": 40,
    "start_time": "2023-05-16T16:54:45.118Z"
   },
   {
    "duration": 901,
    "start_time": "2023-05-16T16:54:45.160Z"
   },
   {
    "duration": 68,
    "start_time": "2023-05-16T16:54:46.063Z"
   },
   {
    "duration": 3,
    "start_time": "2023-05-16T16:54:46.133Z"
   },
   {
    "duration": 3982,
    "start_time": "2023-05-16T16:54:46.138Z"
   },
   {
    "duration": 123,
    "start_time": "2023-05-16T16:54:50.123Z"
   },
   {
    "duration": 582,
    "start_time": "2023-05-16T16:54:50.248Z"
   },
   {
    "duration": 2325,
    "start_time": "2023-05-16T16:54:50.832Z"
   },
   {
    "duration": 65,
    "start_time": "2023-05-16T16:54:53.159Z"
   },
   {
    "duration": 8,
    "start_time": "2023-05-16T16:54:53.226Z"
   },
   {
    "duration": 11,
    "start_time": "2023-05-16T16:54:53.236Z"
   },
   {
    "duration": 1771,
    "start_time": "2023-05-16T16:54:53.251Z"
   },
   {
    "duration": 105,
    "start_time": "2023-05-16T16:54:55.024Z"
   },
   {
    "duration": 523,
    "start_time": "2023-05-16T16:54:55.130Z"
   },
   {
    "duration": 1406,
    "start_time": "2023-05-16T16:54:55.655Z"
   },
   {
    "duration": 5,
    "start_time": "2023-05-16T16:54:57.118Z"
   },
   {
    "duration": 7,
    "start_time": "2023-05-16T16:54:57.125Z"
   },
   {
    "duration": 314,
    "start_time": "2023-05-16T16:54:57.134Z"
   },
   {
    "duration": 1346,
    "start_time": "2023-05-16T16:59:55.187Z"
   },
   {
    "duration": 25790,
    "start_time": "2023-05-16T16:59:56.535Z"
   },
   {
    "duration": 801,
    "start_time": "2023-05-16T17:00:22.328Z"
   },
   {
    "duration": 1202,
    "start_time": "2023-05-16T17:00:23.131Z"
   },
   {
    "duration": 14,
    "start_time": "2023-05-16T17:00:24.336Z"
   },
   {
    "duration": 1901,
    "start_time": "2023-05-16T17:00:24.417Z"
   },
   {
    "duration": 2,
    "start_time": "2023-05-16T17:00:26.321Z"
   },
   {
    "duration": 7,
    "start_time": "2023-05-16T17:00:26.325Z"
   },
   {
    "duration": 6,
    "start_time": "2023-05-16T17:00:26.333Z"
   },
   {
    "duration": 6,
    "start_time": "2023-05-16T17:00:26.340Z"
   },
   {
    "duration": 6,
    "start_time": "2023-05-16T17:00:26.348Z"
   },
   {
    "duration": 2364,
    "start_time": "2023-05-16T17:00:26.355Z"
   },
   {
    "duration": 4,
    "start_time": "2023-05-16T17:00:28.721Z"
   },
   {
    "duration": 2303,
    "start_time": "2023-05-16T17:00:28.728Z"
   },
   {
    "duration": 9,
    "start_time": "2023-05-16T17:00:31.033Z"
   },
   {
    "duration": 1093,
    "start_time": "2023-05-16T17:00:31.044Z"
   },
   {
    "duration": 5,
    "start_time": "2023-05-16T17:00:32.139Z"
   },
   {
    "duration": 1279,
    "start_time": "2023-05-16T17:00:32.146Z"
   },
   {
    "duration": 8,
    "start_time": "2023-05-16T17:00:33.428Z"
   },
   {
    "duration": 1205,
    "start_time": "2023-05-16T17:00:33.438Z"
   },
   {
    "duration": 3,
    "start_time": "2023-05-16T17:00:34.645Z"
   },
   {
    "duration": 196,
    "start_time": "2023-05-16T17:00:34.650Z"
   },
   {
    "duration": 710,
    "start_time": "2023-05-16T17:00:34.849Z"
   },
   {
    "duration": 8,
    "start_time": "2023-05-16T17:00:35.560Z"
   },
   {
    "duration": 321,
    "start_time": "2023-05-16T17:00:35.618Z"
   },
   {
    "duration": 4160,
    "start_time": "2023-05-16T17:00:35.941Z"
   },
   {
    "duration": 16,
    "start_time": "2023-05-16T17:00:40.104Z"
   },
   {
    "duration": 525,
    "start_time": "2023-05-16T17:00:40.122Z"
   },
   {
    "duration": 100,
    "start_time": "2023-05-16T17:00:40.649Z"
   },
   {
    "duration": 88,
    "start_time": "2023-05-16T17:00:40.750Z"
   },
   {
    "duration": 4,
    "start_time": "2023-05-16T17:00:40.841Z"
   },
   {
    "duration": 3895,
    "start_time": "2023-05-16T17:00:40.847Z"
   },
   {
    "duration": 197,
    "start_time": "2023-05-16T17:00:44.744Z"
   },
   {
    "duration": 579,
    "start_time": "2023-05-16T17:00:44.942Z"
   },
   {
    "duration": 1997,
    "start_time": "2023-05-16T17:00:45.523Z"
   },
   {
    "duration": 10,
    "start_time": "2023-05-16T17:00:47.522Z"
   },
   {
    "duration": 108,
    "start_time": "2023-05-16T17:00:47.534Z"
   },
   {
    "duration": 8,
    "start_time": "2023-05-16T17:00:47.645Z"
   },
   {
    "duration": 1582,
    "start_time": "2023-05-16T17:00:47.655Z"
   },
   {
    "duration": 93,
    "start_time": "2023-05-16T17:00:49.239Z"
   },
   {
    "duration": 481,
    "start_time": "2023-05-16T17:00:49.337Z"
   },
   {
    "duration": 1362,
    "start_time": "2023-05-16T17:00:49.820Z"
   },
   {
    "duration": 37,
    "start_time": "2023-05-16T17:00:51.183Z"
   },
   {
    "duration": 8,
    "start_time": "2023-05-16T17:00:51.222Z"
   },
   {
    "duration": 600,
    "start_time": "2023-05-16T17:00:51.231Z"
   },
   {
    "duration": 1404,
    "start_time": "2023-05-16T17:04:55.717Z"
   },
   {
    "duration": 28116,
    "start_time": "2023-05-16T17:04:57.123Z"
   },
   {
    "duration": 794,
    "start_time": "2023-05-16T17:05:25.242Z"
   },
   {
    "duration": 1229,
    "start_time": "2023-05-16T17:05:26.038Z"
   },
   {
    "duration": 63,
    "start_time": "2023-05-16T17:05:27.270Z"
   },
   {
    "duration": 2105,
    "start_time": "2023-05-16T17:05:27.335Z"
   },
   {
    "duration": 3,
    "start_time": "2023-05-16T17:05:29.442Z"
   },
   {
    "duration": 72,
    "start_time": "2023-05-16T17:05:29.447Z"
   },
   {
    "duration": 6,
    "start_time": "2023-05-16T17:05:29.521Z"
   },
   {
    "duration": 5,
    "start_time": "2023-05-16T17:05:29.529Z"
   },
   {
    "duration": 7,
    "start_time": "2023-05-16T17:05:29.536Z"
   },
   {
    "duration": 2877,
    "start_time": "2023-05-16T17:05:29.545Z"
   },
   {
    "duration": 5,
    "start_time": "2023-05-16T17:05:32.423Z"
   },
   {
    "duration": 2918,
    "start_time": "2023-05-16T17:05:32.432Z"
   },
   {
    "duration": 9,
    "start_time": "2023-05-16T17:05:35.418Z"
   },
   {
    "duration": 1320,
    "start_time": "2023-05-16T17:05:35.429Z"
   },
   {
    "duration": 70,
    "start_time": "2023-05-16T17:05:36.752Z"
   },
   {
    "duration": 1315,
    "start_time": "2023-05-16T17:05:36.824Z"
   },
   {
    "duration": 9,
    "start_time": "2023-05-16T17:05:38.149Z"
   },
   {
    "duration": 1058,
    "start_time": "2023-05-16T17:05:38.160Z"
   },
   {
    "duration": 4,
    "start_time": "2023-05-16T17:05:39.219Z"
   },
   {
    "duration": 203,
    "start_time": "2023-05-16T17:05:39.228Z"
   },
   {
    "duration": 692,
    "start_time": "2023-05-16T17:05:39.433Z"
   },
   {
    "duration": 13,
    "start_time": "2023-05-16T17:05:40.131Z"
   },
   {
    "duration": 416,
    "start_time": "2023-05-16T17:05:40.147Z"
   },
   {
    "duration": 5067,
    "start_time": "2023-05-16T17:05:40.618Z"
   },
   {
    "duration": 16,
    "start_time": "2023-05-16T17:05:45.687Z"
   },
   {
    "duration": 463,
    "start_time": "2023-05-16T17:05:45.705Z"
   },
   {
    "duration": 34,
    "start_time": "2023-05-16T17:05:46.217Z"
   },
   {
    "duration": 90,
    "start_time": "2023-05-16T17:05:46.255Z"
   },
   {
    "duration": 3,
    "start_time": "2023-05-16T17:05:46.347Z"
   },
   {
    "duration": 4467,
    "start_time": "2023-05-16T17:05:46.352Z"
   },
   {
    "duration": 131,
    "start_time": "2023-05-16T17:05:50.821Z"
   },
   {
    "duration": 533,
    "start_time": "2023-05-16T17:05:50.954Z"
   },
   {
    "duration": 2120,
    "start_time": "2023-05-16T17:05:51.517Z"
   },
   {
    "duration": 7,
    "start_time": "2023-05-16T17:05:53.638Z"
   },
   {
    "duration": 77,
    "start_time": "2023-05-16T17:05:53.646Z"
   },
   {
    "duration": 3,
    "start_time": "2023-05-16T17:05:53.725Z"
   },
   {
    "duration": 1800,
    "start_time": "2023-05-16T17:05:53.730Z"
   },
   {
    "duration": 86,
    "start_time": "2023-05-16T17:05:55.532Z"
   },
   {
    "duration": 442,
    "start_time": "2023-05-16T17:05:55.624Z"
   },
   {
    "duration": 1560,
    "start_time": "2023-05-16T17:05:56.068Z"
   },
   {
    "duration": 5,
    "start_time": "2023-05-16T17:05:57.629Z"
   },
   {
    "duration": 15,
    "start_time": "2023-05-16T17:05:57.636Z"
   },
   {
    "duration": 474,
    "start_time": "2023-05-16T17:05:57.654Z"
   },
   {
    "duration": 1927,
    "start_time": "2023-05-17T12:42:51.213Z"
   },
   {
    "duration": 30239,
    "start_time": "2023-05-17T12:42:53.143Z"
   },
   {
    "duration": 997,
    "start_time": "2023-05-17T12:43:23.386Z"
   },
   {
    "duration": 1409,
    "start_time": "2023-05-17T12:43:24.386Z"
   },
   {
    "duration": 16,
    "start_time": "2023-05-17T12:43:25.798Z"
   },
   {
    "duration": 2278,
    "start_time": "2023-05-17T12:43:25.815Z"
   },
   {
    "duration": 3,
    "start_time": "2023-05-17T12:43:28.097Z"
   },
   {
    "duration": 4,
    "start_time": "2023-05-17T12:43:28.102Z"
   },
   {
    "duration": 71,
    "start_time": "2023-05-17T12:43:28.109Z"
   },
   {
    "duration": 19,
    "start_time": "2023-05-17T12:43:28.184Z"
   },
   {
    "duration": 27,
    "start_time": "2023-05-17T12:43:28.206Z"
   },
   {
    "duration": 235,
    "start_time": "2023-05-17T12:43:28.277Z"
   },
   {
    "duration": 2785,
    "start_time": "2023-05-17T12:43:42.534Z"
   },
   {
    "duration": 1489,
    "start_time": "2023-05-17T12:45:05.694Z"
   },
   {
    "duration": 27408,
    "start_time": "2023-05-17T12:45:07.185Z"
   },
   {
    "duration": 905,
    "start_time": "2023-05-17T12:45:34.595Z"
   },
   {
    "duration": 1202,
    "start_time": "2023-05-17T12:45:35.503Z"
   },
   {
    "duration": 81,
    "start_time": "2023-05-17T12:45:36.707Z"
   },
   {
    "duration": 1790,
    "start_time": "2023-05-17T12:45:36.790Z"
   },
   {
    "duration": 2,
    "start_time": "2023-05-17T12:45:38.582Z"
   },
   {
    "duration": 9,
    "start_time": "2023-05-17T12:45:38.586Z"
   },
   {
    "duration": 7,
    "start_time": "2023-05-17T12:45:38.597Z"
   },
   {
    "duration": 6,
    "start_time": "2023-05-17T12:45:38.605Z"
   },
   {
    "duration": 97,
    "start_time": "2023-05-17T12:45:38.612Z"
   },
   {
    "duration": 3,
    "start_time": "2023-05-17T12:45:38.778Z"
   },
   {
    "duration": 1312,
    "start_time": "2023-05-17T12:45:38.783Z"
   },
   {
    "duration": 33,
    "start_time": "2023-05-17T12:46:05.393Z"
   },
   {
    "duration": 969,
    "start_time": "2023-05-17T12:46:08.226Z"
   },
   {
    "duration": 29,
    "start_time": "2023-05-17T12:46:21.440Z"
   },
   {
    "duration": 3,
    "start_time": "2023-05-17T12:46:23.332Z"
   },
   {
    "duration": 987,
    "start_time": "2023-05-17T12:46:23.908Z"
   },
   {
    "duration": 30,
    "start_time": "2023-05-17T12:46:48.734Z"
   },
   {
    "duration": 678,
    "start_time": "2023-05-17T12:46:55.808Z"
   },
   {
    "duration": 23,
    "start_time": "2023-05-17T12:47:20.596Z"
   },
   {
    "duration": 756,
    "start_time": "2023-05-17T12:47:23.439Z"
   },
   {
    "duration": 1261,
    "start_time": "2023-05-17T13:04:32.737Z"
   },
   {
    "duration": 26414,
    "start_time": "2023-05-17T13:04:34.000Z"
   },
   {
    "duration": 820,
    "start_time": "2023-05-17T13:05:00.479Z"
   },
   {
    "duration": 1379,
    "start_time": "2023-05-17T13:05:01.301Z"
   },
   {
    "duration": 16,
    "start_time": "2023-05-17T13:05:02.683Z"
   },
   {
    "duration": 1995,
    "start_time": "2023-05-17T13:05:02.701Z"
   },
   {
    "duration": 3,
    "start_time": "2023-05-17T13:05:04.699Z"
   },
   {
    "duration": 76,
    "start_time": "2023-05-17T13:05:04.704Z"
   },
   {
    "duration": 3,
    "start_time": "2023-05-17T13:05:04.782Z"
   },
   {
    "duration": 9,
    "start_time": "2023-05-17T13:05:04.787Z"
   },
   {
    "duration": 8,
    "start_time": "2023-05-17T13:05:04.797Z"
   },
   {
    "duration": 3086,
    "start_time": "2023-05-17T13:05:04.807Z"
   },
   {
    "duration": 431,
    "start_time": "2023-05-17T13:05:07.895Z"
   },
   {
    "duration": 0,
    "start_time": "2023-05-17T13:05:08.328Z"
   },
   {
    "duration": 1993,
    "start_time": "2023-05-17T13:07:45.989Z"
   },
   {
    "duration": 1593,
    "start_time": "2023-05-17T13:07:50.492Z"
   },
   {
    "duration": 1088,
    "start_time": "2023-05-17T13:08:10.017Z"
   }
  ],
  "colab": {
   "name": "PySparkSprint.ipynb",
   "provenance": []
  },
  "kernelspec": {
   "display_name": "Python 3 (ipykernel)",
   "language": "python",
   "name": "python3"
  },
  "language_info": {
   "codemirror_mode": {
    "name": "ipython",
    "version": 3
   },
   "file_extension": ".py",
   "mimetype": "text/x-python",
   "name": "python",
   "nbconvert_exporter": "python",
   "pygments_lexer": "ipython3",
   "version": "3.11.6"
  },
  "toc": {
   "base_numbering": 1,
   "nav_menu": {},
   "number_sections": true,
   "sideBar": true,
   "skip_h1_title": true,
   "title_cell": "Table of Contents",
   "title_sidebar": "Contents",
   "toc_cell": false,
   "toc_position": {},
   "toc_section_display": true,
   "toc_window_display": false
  }
 },
 "nbformat": 4,
 "nbformat_minor": 5
}
